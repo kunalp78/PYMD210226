{
 "cells": [
  {
   "cell_type": "markdown",
   "id": "13bd94b0-067b-42b7-be04-9d67c059c31b",
   "metadata": {},
   "source": [
    "### Multiple inheritence"
   ]
  },
  {
   "cell_type": "raw",
   "id": "17b9a700-cb60-4da3-9aef-7c889c228699",
   "metadata": {},
   "source": [
    "           A     B\n",
    "           |     |\n",
    "          ---------\n",
    "              |\n",
    "              C"
   ]
  },
  {
   "cell_type": "code",
   "execution_count": 2,
   "id": "8b54af30-7a88-4933-a33e-b216a0e9a064",
   "metadata": {},
   "outputs": [],
   "source": [
    "class A:\n",
    "    def __init__(self):\n",
    "        print(\"I am A\")\n",
    "\n",
    "class B:\n",
    "    def __init__(self):\n",
    "        print(\"I am B\")\n",
    "\n",
    "class C(A, B):\n",
    "    def __init__(self):\n",
    "        print(\"I am C\")"
   ]
  },
  {
   "cell_type": "code",
   "execution_count": 3,
   "id": "4b5f0ec6-cf68-44a9-bfe0-c84509d9d9de",
   "metadata": {},
   "outputs": [
    {
     "name": "stdout",
     "output_type": "stream",
     "text": [
      "I am C\n"
     ]
    }
   ],
   "source": [
    "c = C()"
   ]
  },
  {
   "cell_type": "code",
   "execution_count": 4,
   "id": "d87f298a-434f-4d67-b1b6-86ded521c68a",
   "metadata": {},
   "outputs": [],
   "source": [
    "class A:\n",
    "    def __init__(self):\n",
    "        print(\"I am A\")\n",
    "\n",
    "class B:\n",
    "    def __init__(self):\n",
    "        print(\"I am B\")\n",
    "\n",
    "class C(A, B):\n",
    "    def __init__(self):\n",
    "        super().__init__()\n",
    "        print(\"I am C\")"
   ]
  },
  {
   "cell_type": "code",
   "execution_count": 5,
   "id": "cdfb2f83-0a38-4d40-b786-85155ebf0cca",
   "metadata": {},
   "outputs": [
    {
     "name": "stdout",
     "output_type": "stream",
     "text": [
      "I am A\n",
      "I am C\n"
     ]
    }
   ],
   "source": [
    "c1 = C()"
   ]
  },
  {
   "cell_type": "code",
   "execution_count": null,
   "id": "80d180cf-480b-4e7f-9313-17afe523ef1a",
   "metadata": {},
   "outputs": [],
   "source": [
    "# C --> A --> B"
   ]
  },
  {
   "cell_type": "code",
   "execution_count": 6,
   "id": "a7e743d9-72ab-4689-b300-ab5eb9bc1ec3",
   "metadata": {},
   "outputs": [],
   "source": [
    "class A:\n",
    "    def __init__(self):\n",
    "        super().__init__()\n",
    "        print(\"I am A\")\n",
    "\n",
    "class B:\n",
    "    def __init__(self):\n",
    "        super().__init__()\n",
    "        print(\"I am B\")\n",
    "\n",
    "class C(A, B):\n",
    "    def __init__(self):\n",
    "        super().__init__()\n",
    "        print(\"I am C\")"
   ]
  },
  {
   "cell_type": "code",
   "execution_count": 7,
   "id": "f2bfa0d3-7d04-4899-a152-b54c3a073690",
   "metadata": {},
   "outputs": [
    {
     "name": "stdout",
     "output_type": "stream",
     "text": [
      "I am B\n",
      "I am A\n",
      "I am C\n"
     ]
    }
   ],
   "source": [
    "c2 = C()"
   ]
  },
  {
   "cell_type": "code",
   "execution_count": 8,
   "id": "96d77354-49c9-49c1-9866-949b0a904b07",
   "metadata": {},
   "outputs": [
    {
     "name": "stdout",
     "output_type": "stream",
     "text": [
      "I am A\n"
     ]
    }
   ],
   "source": [
    "a = A()"
   ]
  },
  {
   "cell_type": "code",
   "execution_count": 9,
   "id": "e466e764-d0c6-4d13-9d6b-dec51e83220d",
   "metadata": {},
   "outputs": [],
   "source": [
    "class A:\n",
    "    def __init__(self):\n",
    "        print(\"I am A\")\n",
    "        super().__init__()\n",
    "\n",
    "class B:\n",
    "    def __init__(self):\n",
    "        super().__init__()\n",
    "        print(\"I am B\")\n",
    "\n",
    "class C(A, B):\n",
    "    def __init__(self):\n",
    "        print(\"I am C\")\n",
    "        super().__init__()"
   ]
  },
  {
   "cell_type": "code",
   "execution_count": 10,
   "id": "67e19841-f0f5-47ef-85fa-633e5404ec11",
   "metadata": {},
   "outputs": [
    {
     "name": "stdout",
     "output_type": "stream",
     "text": [
      "I am C\n",
      "I am A\n",
      "I am B\n"
     ]
    }
   ],
   "source": [
    "c3 = C()"
   ]
  },
  {
   "cell_type": "markdown",
   "id": "5e5cabaf-4a81-4d62-b0e0-1449d8eadf1d",
   "metadata": {},
   "source": [
    "### hierachal inheritence"
   ]
  },
  {
   "cell_type": "raw",
   "id": "51e86956-f138-47c6-b4ce-03b992bed727",
   "metadata": {},
   "source": [
    "              A\n",
    "              |\n",
    "         -----------\n",
    "         |    |    |\n",
    "         B    C    D"
   ]
  },
  {
   "cell_type": "code",
   "execution_count": 11,
   "id": "cd9b5a1e-fe0e-4a0c-8a5a-63e8a6225acf",
   "metadata": {},
   "outputs": [],
   "source": [
    "\n",
    "class A:\n",
    "    def __init__(self):\n",
    "        print(\"A\")\n",
    "\n",
    "class B(A):\n",
    "    def __init__(self):\n",
    "        print(\"B\")\n",
    "\n",
    "class C(A):\n",
    "    def __init__(self):\n",
    "        print(\"C\")"
   ]
  },
  {
   "cell_type": "code",
   "execution_count": 12,
   "id": "1904bcd6-cb75-4bac-a071-a41bd68c1681",
   "metadata": {},
   "outputs": [
    {
     "name": "stdout",
     "output_type": "stream",
     "text": [
      "C\n"
     ]
    }
   ],
   "source": [
    "ob_c = C()"
   ]
  },
  {
   "cell_type": "markdown",
   "id": "030a9027-6877-4165-b784-05fbf45ae1e1",
   "metadata": {},
   "source": [
    "### hybrid inheritence"
   ]
  },
  {
   "cell_type": "raw",
   "id": "2932f1ea-7155-4418-8334-fc100ae48fe9",
   "metadata": {},
   "source": [
    "              A\n",
    "              |\n",
    "          ----------\n",
    "          |        |\n",
    "          B        C\n",
    "          |        |\n",
    "          ----------\n",
    "               |\n",
    "               D"
   ]
  },
  {
   "cell_type": "code",
   "execution_count": 20,
   "id": "a9e69a6e-be70-42e8-8886-f28d3c01cfcf",
   "metadata": {},
   "outputs": [],
   "source": [
    "class A:\n",
    "    def __init__(self):\n",
    "        super().__init__()\n",
    "        print(\"I am A\")\n",
    "\n",
    "class B(A):\n",
    "    def __init__(self):\n",
    "        super().__init__()\n",
    "        print(\"I am B\")\n",
    "\n",
    "class C(A):\n",
    "    def __init__(self):\n",
    "        super().__init__()\n",
    "        print(\"I am C\")\n",
    "\n",
    "class D(B, C):\n",
    "    def __init__(self):\n",
    "        super().__init__()\n",
    "        print(\"I am D\")\n"
   ]
  },
  {
   "cell_type": "code",
   "execution_count": 21,
   "id": "35084fa0-e040-45de-8c34-879804077a17",
   "metadata": {},
   "outputs": [
    {
     "name": "stdout",
     "output_type": "stream",
     "text": [
      "I am A\n",
      "I am C\n",
      "I am B\n",
      "I am D\n"
     ]
    }
   ],
   "source": [
    "d = D()\n",
    "# 4 mins\n",
    "# what is the mro order"
   ]
  },
  {
   "cell_type": "code",
   "execution_count": 19,
   "id": "8d442cf6-7d51-4fc2-afb9-ba961f52bf96",
   "metadata": {},
   "outputs": [
    {
     "data": {
      "text/plain": [
       "[__main__.D, __main__.B, __main__.C, __main__.A, object]"
      ]
     },
     "execution_count": 19,
     "metadata": {},
     "output_type": "execute_result"
    }
   ],
   "source": [
    "D.mro()"
   ]
  },
  {
   "cell_type": "code",
   "execution_count": null,
   "id": "d828da2c-cbbb-44b4-930e-a58674b398bc",
   "metadata": {},
   "outputs": [],
   "source": [
    " # left-to-right, depth-first"
   ]
  },
  {
   "cell_type": "code",
   "execution_count": 22,
   "id": "38bef1d2-9efb-42c1-bee9-4a6d5ccd5c6c",
   "metadata": {},
   "outputs": [
    {
     "name": "stdout",
     "output_type": "stream",
     "text": [
      "Help on class D in module __main__:\n",
      "\n",
      "class D(B, C)\n",
      " |  Method resolution order:\n",
      " |      D\n",
      " |      B\n",
      " |      C\n",
      " |      A\n",
      " |      builtins.object\n",
      " |\n",
      " |  Methods defined here:\n",
      " |\n",
      " |  __init__(self)\n",
      " |      Initialize self.  See help(type(self)) for accurate signature.\n",
      " |\n",
      " |  ----------------------------------------------------------------------\n",
      " |  Data descriptors inherited from A:\n",
      " |\n",
      " |  __dict__\n",
      " |      dictionary for instance variables\n",
      " |\n",
      " |  __weakref__\n",
      " |      list of weak references to the object\n",
      "\n"
     ]
    }
   ],
   "source": [
    "help(D)"
   ]
  },
  {
   "cell_type": "markdown",
   "id": "a773784c-a29c-4372-80c5-1a2729bde8a6",
   "metadata": {},
   "source": [
    "### File handling"
   ]
  },
  {
   "cell_type": "code",
   "execution_count": null,
   "id": "1199c098-483e-4002-a09d-1e156f263312",
   "metadata": {},
   "outputs": [],
   "source": [
    "r,  w,  a\n",
    "r+, w+, a+"
   ]
  },
  {
   "cell_type": "code",
   "execution_count": null,
   "id": "bad4a13f-d615-427a-8973-59b6724509c2",
   "metadata": {},
   "outputs": [],
   "source": [
    "# r and r+\n",
    "reading mode\n",
    "it doesnot creates a file. (filenotFoundError if file is not present)\n",
    "the file pointer startes at the start of the file\n",
    "a) r\n",
    "    it helps us to read the file\n",
    "\n",
    "b) r+\n",
    "    it helps us to read and write the file\n",
    "    "
   ]
  },
  {
   "cell_type": "code",
   "execution_count": 24,
   "id": "520aa92a-9035-4cc9-b61f-361084ddc529",
   "metadata": {},
   "outputs": [],
   "source": [
    "fp = open(\"file1.txt\") # default r mode"
   ]
  },
  {
   "cell_type": "code",
   "execution_count": 25,
   "id": "792d8352-207c-4d49-9d4b-567eb6f53f79",
   "metadata": {},
   "outputs": [
    {
     "data": {
      "text/plain": [
       "'nsdljsdnfskjf'"
      ]
     },
     "execution_count": 25,
     "metadata": {},
     "output_type": "execute_result"
    }
   ],
   "source": [
    "fp.read()"
   ]
  },
  {
   "cell_type": "code",
   "execution_count": 26,
   "id": "2250e66a-4359-496d-8bfc-eb2c46448b4b",
   "metadata": {},
   "outputs": [
    {
     "data": {
      "text/plain": [
       "''"
      ]
     },
     "execution_count": 26,
     "metadata": {},
     "output_type": "execute_result"
    }
   ],
   "source": [
    "fp.read()"
   ]
  },
  {
   "cell_type": "code",
   "execution_count": 27,
   "id": "9cd3e639-a21b-45fa-a6a8-b361d1e542aa",
   "metadata": {},
   "outputs": [
    {
     "data": {
      "text/plain": [
       "13"
      ]
     },
     "execution_count": 27,
     "metadata": {},
     "output_type": "execute_result"
    }
   ],
   "source": [
    "fp.tell()"
   ]
  },
  {
   "cell_type": "code",
   "execution_count": 28,
   "id": "8dfe5a68-045f-4159-b184-c90d53bec38e",
   "metadata": {},
   "outputs": [
    {
     "data": {
      "text/plain": [
       "0"
      ]
     },
     "execution_count": 28,
     "metadata": {},
     "output_type": "execute_result"
    }
   ],
   "source": [
    "fp.seek(0)"
   ]
  },
  {
   "cell_type": "code",
   "execution_count": 29,
   "id": "aaa516de-5e02-4030-88ef-81ecd0914200",
   "metadata": {},
   "outputs": [
    {
     "data": {
      "text/plain": [
       "'nsdljsdnfskjf'"
      ]
     },
     "execution_count": 29,
     "metadata": {},
     "output_type": "execute_result"
    }
   ],
   "source": [
    "fp.read()"
   ]
  },
  {
   "cell_type": "code",
   "execution_count": 30,
   "id": "f90a1793-18a2-42be-9bed-64fabcd3d93f",
   "metadata": {},
   "outputs": [
    {
     "data": {
      "text/plain": [
       "0"
      ]
     },
     "execution_count": 30,
     "metadata": {},
     "output_type": "execute_result"
    }
   ],
   "source": [
    "fp.seek(0)"
   ]
  },
  {
   "cell_type": "code",
   "execution_count": 31,
   "id": "38dfcd26-80d7-4451-ad60-0847fb9ddf07",
   "metadata": {},
   "outputs": [],
   "source": [
    "line = fp.read()"
   ]
  },
  {
   "cell_type": "code",
   "execution_count": 32,
   "id": "2a944647-6135-4435-bcec-a846547b07bc",
   "metadata": {},
   "outputs": [
    {
     "data": {
      "text/plain": [
       "'nsdljsdnfskjf'"
      ]
     },
     "execution_count": 32,
     "metadata": {},
     "output_type": "execute_result"
    }
   ],
   "source": [
    "line"
   ]
  },
  {
   "cell_type": "code",
   "execution_count": 33,
   "id": "beafbf4f-5b7d-4780-9bf3-8c8471f30a3a",
   "metadata": {},
   "outputs": [
    {
     "ename": "UnsupportedOperation",
     "evalue": "not writable",
     "output_type": "error",
     "traceback": [
      "\u001b[1;31m---------------------------------------------------------------------------\u001b[0m",
      "\u001b[1;31mUnsupportedOperation\u001b[0m                      Traceback (most recent call last)",
      "Cell \u001b[1;32mIn[33], line 1\u001b[0m\n\u001b[1;32m----> 1\u001b[0m \u001b[43mfp\u001b[49m\u001b[38;5;241;43m.\u001b[39;49m\u001b[43mwrite\u001b[49m\u001b[43m(\u001b[49m\u001b[38;5;124;43m\"\u001b[39;49m\u001b[38;5;130;43;01m\\n\u001b[39;49;00m\u001b[38;5;124;43mHello\u001b[39;49m\u001b[38;5;124;43m\"\u001b[39;49m\u001b[43m)\u001b[49m\n",
      "\u001b[1;31mUnsupportedOperation\u001b[0m: not writable"
     ]
    }
   ],
   "source": [
    "fp.write(\"\\nHello\")"
   ]
  },
  {
   "cell_type": "code",
   "execution_count": 34,
   "id": "5f8479da-fd80-45b9-9296-c98e56814d38",
   "metadata": {},
   "outputs": [],
   "source": [
    "fp.close()"
   ]
  },
  {
   "cell_type": "code",
   "execution_count": 35,
   "id": "2d9886b0-3e5c-4bd1-ac2f-ab12f9d4523b",
   "metadata": {},
   "outputs": [],
   "source": [
    "fp = open(\"file1.txt\", \"r+\")"
   ]
  },
  {
   "cell_type": "code",
   "execution_count": 36,
   "id": "2bae4125-53d2-4511-872c-bb95f9e41705",
   "metadata": {},
   "outputs": [
    {
     "data": {
      "text/plain": [
       "0"
      ]
     },
     "execution_count": 36,
     "metadata": {},
     "output_type": "execute_result"
    }
   ],
   "source": [
    "fp.tell()"
   ]
  },
  {
   "cell_type": "code",
   "execution_count": 37,
   "id": "2b2fdf5a-adde-4480-a88f-6b03943a74fb",
   "metadata": {},
   "outputs": [
    {
     "data": {
      "text/plain": [
       "'nsdljsdnfskjf'"
      ]
     },
     "execution_count": 37,
     "metadata": {},
     "output_type": "execute_result"
    }
   ],
   "source": [
    "fp.read()"
   ]
  },
  {
   "cell_type": "code",
   "execution_count": 38,
   "id": "672eb7dd-7531-4280-b7e1-0ee118c9b67b",
   "metadata": {},
   "outputs": [
    {
     "data": {
      "text/plain": [
       "21"
      ]
     },
     "execution_count": 38,
     "metadata": {},
     "output_type": "execute_result"
    }
   ],
   "source": [
    "fp.write(\"\\nHello from read mode\")"
   ]
  },
  {
   "cell_type": "code",
   "execution_count": 39,
   "id": "41686029-9cbf-46fe-8456-c7191bd96b7c",
   "metadata": {},
   "outputs": [
    {
     "data": {
      "text/plain": [
       "35"
      ]
     },
     "execution_count": 39,
     "metadata": {},
     "output_type": "execute_result"
    }
   ],
   "source": [
    "fp.tell()"
   ]
  },
  {
   "cell_type": "code",
   "execution_count": 40,
   "id": "3c8d33b4-f532-42d9-84d1-d4a416e569a2",
   "metadata": {},
   "outputs": [
    {
     "data": {
      "text/plain": [
       "0"
      ]
     },
     "execution_count": 40,
     "metadata": {},
     "output_type": "execute_result"
    }
   ],
   "source": [
    "fp.seek(0)"
   ]
  },
  {
   "cell_type": "code",
   "execution_count": 41,
   "id": "61ae3e33-bfc4-4f93-bcfe-e1c21f6c3bbc",
   "metadata": {},
   "outputs": [
    {
     "data": {
      "text/plain": [
       "'nsdljsdnfskjf\\nHello from read mode'"
      ]
     },
     "execution_count": 41,
     "metadata": {},
     "output_type": "execute_result"
    }
   ],
   "source": [
    "fp.read()"
   ]
  },
  {
   "cell_type": "code",
   "execution_count": 42,
   "id": "79f69291-5e4f-4299-b14b-e419260c6dde",
   "metadata": {},
   "outputs": [],
   "source": [
    "fp.close()"
   ]
  },
  {
   "cell_type": "code",
   "execution_count": 43,
   "id": "0c891231-4164-495b-9671-1b028c258d3e",
   "metadata": {},
   "outputs": [],
   "source": [
    "fp = open(\"file1.txt\", \"r+\")"
   ]
  },
  {
   "cell_type": "code",
   "execution_count": 44,
   "id": "3b6a543a-9fe4-46a4-944a-225951245ca6",
   "metadata": {},
   "outputs": [
    {
     "data": {
      "text/plain": [
       "'n'"
      ]
     },
     "execution_count": 44,
     "metadata": {},
     "output_type": "execute_result"
    }
   ],
   "source": [
    "fp.read(1)"
   ]
  },
  {
   "cell_type": "code",
   "execution_count": 45,
   "id": "287b566c-f1a7-43a2-9821-45b68e0c90b4",
   "metadata": {},
   "outputs": [
    {
     "data": {
      "text/plain": [
       "1"
      ]
     },
     "execution_count": 45,
     "metadata": {},
     "output_type": "execute_result"
    }
   ],
   "source": [
    "fp.tell()"
   ]
  },
  {
   "cell_type": "code",
   "execution_count": 46,
   "id": "ab954042-e9be-4c10-9194-2825937eb82d",
   "metadata": {},
   "outputs": [
    {
     "data": {
      "text/plain": [
       "0"
      ]
     },
     "execution_count": 46,
     "metadata": {},
     "output_type": "execute_result"
    }
   ],
   "source": [
    "fp.seek(0)"
   ]
  },
  {
   "cell_type": "code",
   "execution_count": 47,
   "id": "6bcc2086-54bf-464d-984f-d015df0f21b3",
   "metadata": {},
   "outputs": [
    {
     "data": {
      "text/plain": [
       "1"
      ]
     },
     "execution_count": 47,
     "metadata": {},
     "output_type": "execute_result"
    }
   ],
   "source": [
    "fp.seek(1)"
   ]
  },
  {
   "cell_type": "code",
   "execution_count": 48,
   "id": "eaac2bd7-a7f6-4f25-ac65-fe5300357bcf",
   "metadata": {},
   "outputs": [
    {
     "data": {
      "text/plain": [
       "'sdljsdnfskjf\\nHello from read mode'"
      ]
     },
     "execution_count": 48,
     "metadata": {},
     "output_type": "execute_result"
    }
   ],
   "source": [
    "fp.read()"
   ]
  },
  {
   "cell_type": "code",
   "execution_count": 49,
   "id": "f0791d75-0b6a-4eaa-8930-ac9b1317c6f9",
   "metadata": {},
   "outputs": [
    {
     "data": {
      "text/plain": [
       "999"
      ]
     },
     "execution_count": 49,
     "metadata": {},
     "output_type": "execute_result"
    }
   ],
   "source": [
    "fp.seek(999)"
   ]
  },
  {
   "cell_type": "code",
   "execution_count": 50,
   "id": "7bd2b10d-08e6-4017-9055-69d22fc3dddd",
   "metadata": {},
   "outputs": [
    {
     "data": {
      "text/plain": [
       "999"
      ]
     },
     "execution_count": 50,
     "metadata": {},
     "output_type": "execute_result"
    }
   ],
   "source": [
    "fp.tell()"
   ]
  },
  {
   "cell_type": "code",
   "execution_count": 51,
   "id": "45640ad8-f0b0-4f4a-bc26-68b528629015",
   "metadata": {},
   "outputs": [
    {
     "data": {
      "text/plain": [
       "0"
      ]
     },
     "execution_count": 51,
     "metadata": {},
     "output_type": "execute_result"
    }
   ],
   "source": [
    "fp.seek(0)"
   ]
  },
  {
   "cell_type": "code",
   "execution_count": 52,
   "id": "ef9f1cc1-14f8-4934-8085-6f6ed2bdb41a",
   "metadata": {},
   "outputs": [
    {
     "data": {
      "text/plain": [
       "'nsdljsdnfskjf\\nHello from read mode'"
      ]
     },
     "execution_count": 52,
     "metadata": {},
     "output_type": "execute_result"
    }
   ],
   "source": [
    "fp.read()"
   ]
  },
  {
   "cell_type": "code",
   "execution_count": 53,
   "id": "f2ff8441-5ed3-457b-9bee-fae2324632e0",
   "metadata": {},
   "outputs": [
    {
     "data": {
      "text/plain": [
       "35"
      ]
     },
     "execution_count": 53,
     "metadata": {},
     "output_type": "execute_result"
    }
   ],
   "source": [
    "fp.tell()"
   ]
  },
  {
   "cell_type": "code",
   "execution_count": 54,
   "id": "24fdd3e7-5daa-4be6-b36a-498dd2d3fcc6",
   "metadata": {},
   "outputs": [],
   "source": [
    "fp.close()"
   ]
  },
  {
   "cell_type": "code",
   "execution_count": null,
   "id": "6a5ca21b-40a4-4879-b00e-e418a84e01df",
   "metadata": {},
   "outputs": [],
   "source": []
  }
 ],
 "metadata": {
  "kernelspec": {
   "display_name": "Python 3 (ipykernel)",
   "language": "python",
   "name": "python3"
  },
  "language_info": {
   "codemirror_mode": {
    "name": "ipython",
    "version": 3
   },
   "file_extension": ".py",
   "mimetype": "text/x-python",
   "name": "python",
   "nbconvert_exporter": "python",
   "pygments_lexer": "ipython3",
   "version": "3.13.3"
  }
 },
 "nbformat": 4,
 "nbformat_minor": 5
}
