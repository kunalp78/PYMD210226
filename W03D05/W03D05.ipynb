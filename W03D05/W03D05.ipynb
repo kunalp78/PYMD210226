{
 "cells": [
  {
   "cell_type": "markdown",
   "id": "ab3be01c-6d64-4628-9671-71882ad486df",
   "metadata": {},
   "source": [
    "### Object Oriented Programming"
   ]
  },
  {
   "cell_type": "code",
   "execution_count": null,
   "id": "59f931d6-dacd-4495-82e6-6eccbde72255",
   "metadata": {},
   "outputs": [],
   "source": [
    "Class: It is a blueprint or Structure or template for creating objects(copies).\n",
    "        data or attributes.\n",
    "        methods (functions)\n",
    "Object: Its the copy of the class."
   ]
  },
  {
   "cell_type": "code",
   "execution_count": 2,
   "id": "2fc04bfa-b99d-4b45-a2bb-3b726f12ffdd",
   "metadata": {},
   "outputs": [],
   "source": [
    "class Human:\n",
    "    def __init__(self, name):\n",
    "        self.hands = 2\n",
    "        self.head = 1\n",
    "        self.gender = None\n",
    "        self.name = name\n",
    "\n",
    "    def movement(self):\n",
    "        print(\"I am moving\")"
   ]
  },
  {
   "cell_type": "code",
   "execution_count": 3,
   "id": "c3b209dd-2003-4d92-877e-e1d51c9ab142",
   "metadata": {},
   "outputs": [],
   "source": [
    "h1 = Human(\"Bhaskar\")"
   ]
  },
  {
   "cell_type": "code",
   "execution_count": 4,
   "id": "f03bf100-1d2f-4fdc-b277-26ec82c89aec",
   "metadata": {},
   "outputs": [
    {
     "data": {
      "text/plain": [
       "'Bhaskar'"
      ]
     },
     "execution_count": 4,
     "metadata": {},
     "output_type": "execute_result"
    }
   ],
   "source": [
    "h1.name"
   ]
  },
  {
   "cell_type": "code",
   "execution_count": 5,
   "id": "b73a6181-e439-432b-a5d9-b39e12582e6e",
   "metadata": {},
   "outputs": [
    {
     "data": {
      "text/plain": [
       "2"
      ]
     },
     "execution_count": 5,
     "metadata": {},
     "output_type": "execute_result"
    }
   ],
   "source": [
    "h1.hands"
   ]
  },
  {
   "cell_type": "code",
   "execution_count": 6,
   "id": "9486454d-6b19-40d5-b8d9-8925c4aa7a90",
   "metadata": {},
   "outputs": [],
   "source": [
    "h1.gender = \"male\""
   ]
  },
  {
   "cell_type": "code",
   "execution_count": 7,
   "id": "98ee1691-4ab9-4f04-a273-e0c8846f265d",
   "metadata": {},
   "outputs": [
    {
     "data": {
      "text/plain": [
       "'male'"
      ]
     },
     "execution_count": 7,
     "metadata": {},
     "output_type": "execute_result"
    }
   ],
   "source": [
    "h1.gender"
   ]
  },
  {
   "cell_type": "code",
   "execution_count": 8,
   "id": "686e4371-49ea-4639-8189-4c0a48e28a4e",
   "metadata": {},
   "outputs": [
    {
     "name": "stdout",
     "output_type": "stream",
     "text": [
      "I am moving\n"
     ]
    }
   ],
   "source": [
    "h1.movement()"
   ]
  },
  {
   "cell_type": "code",
   "execution_count": 9,
   "id": "55577f26-e9e5-4b67-be5e-9edfa8007c23",
   "metadata": {},
   "outputs": [],
   "source": [
    "class Human:\n",
    "    def __init__(self):\n",
    "        self.hands = 2\n",
    "        print(self)\n",
    "\n",
    "    def movement(self):\n",
    "        print(\"I am moving\")"
   ]
  },
  {
   "cell_type": "code",
   "execution_count": 10,
   "id": "8ebc86d2-9047-4210-8d1b-9ac003baf45b",
   "metadata": {},
   "outputs": [
    {
     "name": "stdout",
     "output_type": "stream",
     "text": [
      "<__main__.Human object at 0x00000144748A4D70>\n"
     ]
    }
   ],
   "source": [
    "h2 = Human()"
   ]
  },
  {
   "cell_type": "code",
   "execution_count": 11,
   "id": "4849d70e-2291-430d-a0e2-833e31dbc851",
   "metadata": {},
   "outputs": [
    {
     "data": {
      "text/plain": [
       "<__main__.Human at 0x144748a4d70>"
      ]
     },
     "execution_count": 11,
     "metadata": {},
     "output_type": "execute_result"
    }
   ],
   "source": [
    "h2"
   ]
  },
  {
   "cell_type": "code",
   "execution_count": 14,
   "id": "2be54947-1208-44cc-a097-e45efc36b0d1",
   "metadata": {},
   "outputs": [],
   "source": [
    "class Human:\n",
    "    def __init__(prem):\n",
    "        prem.hands = 3\n",
    "        print(prem)\n",
    "\n",
    "    def movement(self):\n",
    "        print(\"I am moving\")"
   ]
  },
  {
   "cell_type": "code",
   "execution_count": 15,
   "id": "ed10d432-8224-4838-81c9-d2dc3d996917",
   "metadata": {},
   "outputs": [
    {
     "name": "stdout",
     "output_type": "stream",
     "text": [
      "<__main__.Human object at 0x00000144748A5010>\n"
     ]
    }
   ],
   "source": [
    "h3 = Human()"
   ]
  },
  {
   "cell_type": "code",
   "execution_count": 16,
   "id": "70fadf8d-71b9-4dee-a73d-3f177298d6d5",
   "metadata": {},
   "outputs": [],
   "source": [
    "def human():\n",
    "    legs = 2\n",
    "    hands = 2"
   ]
  },
  {
   "cell_type": "code",
   "execution_count": 17,
   "id": "8233d5d2-fb5e-448c-8baa-4a6ef1d18744",
   "metadata": {},
   "outputs": [],
   "source": [
    "def join_computers(x, y):\n",
    "    print(f\"join {x} -- {y}\")"
   ]
  },
  {
   "cell_type": "code",
   "execution_count": 18,
   "id": "225448b5-3267-4ab0-809c-4a01b6de784f",
   "metadata": {},
   "outputs": [
    {
     "name": "stdout",
     "output_type": "stream",
     "text": [
      "join comp_1 -- comp_2\n"
     ]
    }
   ],
   "source": [
    "join_computers(\"comp_1\", \"comp_2\")"
   ]
  },
  {
   "cell_type": "code",
   "execution_count": 20,
   "id": "d8089c60-6c27-4db6-b3f8-3412515e9dcf",
   "metadata": {},
   "outputs": [],
   "source": [
    "class Computers:\n",
    "    def __init__(self):\n",
    "        self.computers = []"
   ]
  },
  {
   "cell_type": "code",
   "execution_count": 21,
   "id": "ba7ddf95-bd7e-4595-bac2-97479dbfca93",
   "metadata": {},
   "outputs": [],
   "source": [
    "comp = Computers()"
   ]
  },
  {
   "cell_type": "code",
   "execution_count": 22,
   "id": "a3d7a203-7a80-444b-af93-367ebc47f7b4",
   "metadata": {},
   "outputs": [],
   "source": [
    "comp.computers.append(\"comp_1\")"
   ]
  },
  {
   "cell_type": "code",
   "execution_count": 23,
   "id": "fecf50d1-a736-4341-92ee-4d25d77c4558",
   "metadata": {},
   "outputs": [],
   "source": [
    "comp.computers.append(\"comp_2\")"
   ]
  },
  {
   "cell_type": "code",
   "execution_count": 25,
   "id": "f2dcd6ce-0082-430e-8a9e-0122dfeb94c7",
   "metadata": {},
   "outputs": [],
   "source": [
    "comp.computers.append(\"comp_3\")"
   ]
  },
  {
   "cell_type": "code",
   "execution_count": 26,
   "id": "baeabb94-94c5-4d82-81cd-f69156690871",
   "metadata": {},
   "outputs": [
    {
     "data": {
      "text/plain": [
       "['comp_1', 'comp_2', 'comp_3']"
      ]
     },
     "execution_count": 26,
     "metadata": {},
     "output_type": "execute_result"
    }
   ],
   "source": [
    "comp.computers"
   ]
  },
  {
   "cell_type": "code",
   "execution_count": 27,
   "id": "44422c00-f504-40e1-a959-3accb8a2e45e",
   "metadata": {},
   "outputs": [],
   "source": [
    "def join_computers(computers):\n",
    "    temp_comp = \"switch\"\n",
    "    for computer in range(len(computers)):\n",
    "        if computer > 0:\n",
    "            temp_comp = computers[computer-1]\n",
    "        print(f\"join {computers[computer]} -- {temp_comp}\")"
   ]
  },
  {
   "cell_type": "code",
   "execution_count": 28,
   "id": "0e1f66c4-45a1-4172-82d0-00b3c4b35f99",
   "metadata": {},
   "outputs": [
    {
     "name": "stdout",
     "output_type": "stream",
     "text": [
      "join comp_1 -- switch\n",
      "join comp_2 -- comp_1\n",
      "join comp_3 -- comp_2\n"
     ]
    }
   ],
   "source": [
    "join_computers(comp.computers)"
   ]
  },
  {
   "cell_type": "code",
   "execution_count": 33,
   "id": "d23c29a8-b3d8-44a7-bdb7-f0fc27d0e245",
   "metadata": {},
   "outputs": [],
   "source": [
    "class Human:\n",
    "    def __init__(self, name):\n",
    "        self.__name = name\n",
    "        self.__hand = 2\n",
    "        self.__legs = 2\n",
    "\n",
    "    def change_hand(self, hand):\n",
    "        self.__hand = hand\n",
    "\n",
    "    def change_name(self, name):\n",
    "        self.__name = name"
   ]
  },
  {
   "cell_type": "code",
   "execution_count": 34,
   "id": "95c3e411-0c5c-4b75-b839-f29636cbf540",
   "metadata": {},
   "outputs": [],
   "source": [
    "h4 = Human(\"Tanushree\")"
   ]
  },
  {
   "cell_type": "code",
   "execution_count": 35,
   "id": "c18e55f2-a2a8-4e9b-aa9b-25eefae5d934",
   "metadata": {},
   "outputs": [
    {
     "ename": "AttributeError",
     "evalue": "'Human' object has no attribute '__hand'",
     "output_type": "error",
     "traceback": [
      "\u001b[1;31m---------------------------------------------------------------------------\u001b[0m",
      "\u001b[1;31mAttributeError\u001b[0m                            Traceback (most recent call last)",
      "Cell \u001b[1;32mIn[35], line 1\u001b[0m\n\u001b[1;32m----> 1\u001b[0m \u001b[43mh4\u001b[49m\u001b[38;5;241;43m.\u001b[39;49m\u001b[43m__hand\u001b[49m\n",
      "\u001b[1;31mAttributeError\u001b[0m: 'Human' object has no attribute '__hand'"
     ]
    }
   ],
   "source": [
    "h4.__hand"
   ]
  },
  {
   "cell_type": "code",
   "execution_count": 36,
   "id": "9a615726-6a08-4c28-9f69-cb396ecca862",
   "metadata": {},
   "outputs": [],
   "source": [
    "h4.change_hand(8)"
   ]
  },
  {
   "cell_type": "code",
   "execution_count": 37,
   "id": "7237bff9-d3f0-4bd5-b4d4-f44a2d5c0130",
   "metadata": {},
   "outputs": [
    {
     "data": {
      "text/plain": [
       "{'_Human__name': 'Tanushree', '_Human__hand': 8, '_Human__legs': 2}"
      ]
     },
     "execution_count": 37,
     "metadata": {},
     "output_type": "execute_result"
    }
   ],
   "source": [
    "h4.__dict__"
   ]
  },
  {
   "cell_type": "code",
   "execution_count": 38,
   "id": "5e1aa43e-8a04-45a5-86cd-5fd5fe3c589a",
   "metadata": {},
   "outputs": [],
   "source": [
    "class A:\n",
    "    def __init__(self):\n",
    "        self.a = 5"
   ]
  },
  {
   "cell_type": "code",
   "execution_count": 39,
   "id": "e59383e2-444c-4fc9-8feb-b498602ceab6",
   "metadata": {},
   "outputs": [],
   "source": [
    "a = A()"
   ]
  },
  {
   "cell_type": "code",
   "execution_count": 40,
   "id": "aecabae5-f5a3-4cdd-9e35-0dfa6197c9b3",
   "metadata": {},
   "outputs": [
    {
     "data": {
      "text/plain": [
       "{'a': 5}"
      ]
     },
     "execution_count": 40,
     "metadata": {},
     "output_type": "execute_result"
    }
   ],
   "source": [
    "a.__dict__"
   ]
  },
  {
   "cell_type": "code",
   "execution_count": 41,
   "id": "d40d6885-819c-404e-aa70-f74d2009d06d",
   "metadata": {},
   "outputs": [
    {
     "data": {
      "text/plain": [
       "5"
      ]
     },
     "execution_count": 41,
     "metadata": {},
     "output_type": "execute_result"
    }
   ],
   "source": [
    "a.a"
   ]
  },
  {
   "cell_type": "code",
   "execution_count": 46,
   "id": "b3c8fe93-7d19-4ad8-b702-febded60fc26",
   "metadata": {},
   "outputs": [],
   "source": [
    "class Human:\n",
    "    def __init__(self, name):\n",
    "        self.name = name\n",
    "        self.__hand = 2\n",
    "        self.__legs = 2\n",
    "\n",
    "    def change_hand(self, hand):\n",
    "        self.__hand = hand\n",
    "\n",
    "    def change_name(self, name):\n",
    "        self.name = name\n",
    "\n",
    "    def show_name(self):\n",
    "        return self.name\n",
    "\n",
    "    def get_hand(self):\n",
    "        print(f\"No of hands: {self.__hand}\")"
   ]
  },
  {
   "cell_type": "code",
   "execution_count": 47,
   "id": "e474c2c6-d55a-4381-8200-78301ff1312e",
   "metadata": {},
   "outputs": [],
   "source": [
    "h1 = Human(\"Bhavesh\")"
   ]
  },
  {
   "cell_type": "code",
   "execution_count": 95,
   "id": "de21b921-6bd3-4998-a4e4-bdabb3c47b26",
   "metadata": {},
   "outputs": [
    {
     "ename": "TypeError",
     "evalue": "Human.change_hand() missing 1 required positional argument: 'hand'",
     "output_type": "error",
     "traceback": [
      "\u001b[1;31m---------------------------------------------------------------------------\u001b[0m",
      "\u001b[1;31mTypeError\u001b[0m                                 Traceback (most recent call last)",
      "Cell \u001b[1;32mIn[95], line 1\u001b[0m\n\u001b[1;32m----> 1\u001b[0m \u001b[43mHuman\u001b[49m\u001b[38;5;241;43m.\u001b[39;49m\u001b[43mchange_hand\u001b[49m\u001b[43m(\u001b[49m\u001b[38;5;241;43m6\u001b[39;49m\u001b[43m)\u001b[49m\n",
      "\u001b[1;31mTypeError\u001b[0m: Human.change_hand() missing 1 required positional argument: 'hand'"
     ]
    }
   ],
   "source": [
    "Human.change_hand(6)"
   ]
  },
  {
   "cell_type": "code",
   "execution_count": 97,
   "id": "049731bb-8810-4005-9c39-2b3ab8ad538f",
   "metadata": {},
   "outputs": [],
   "source": [
    "Human.change_hand(Human(\"Kailash\"), 6)"
   ]
  },
  {
   "cell_type": "code",
   "execution_count": 98,
   "id": "2bb17e04-7dfd-4c9b-8dfd-7e4b6dd0cddd",
   "metadata": {},
   "outputs": [],
   "source": [
    "Human.change_hand(h1, 6)"
   ]
  },
  {
   "cell_type": "code",
   "execution_count": 99,
   "id": "91affd27-bd7a-4ae8-bce0-acc468484a11",
   "metadata": {},
   "outputs": [
    {
     "name": "stdout",
     "output_type": "stream",
     "text": [
      "No of hands: 6\n"
     ]
    }
   ],
   "source": [
    "h1.get_hand()"
   ]
  },
  {
   "cell_type": "code",
   "execution_count": 49,
   "id": "b1b0cfa3-8329-47a9-8def-24f49db6f184",
   "metadata": {},
   "outputs": [
    {
     "data": {
      "text/plain": [
       "'Bhavesh'"
      ]
     },
     "execution_count": 49,
     "metadata": {},
     "output_type": "execute_result"
    }
   ],
   "source": [
    "h1.name"
   ]
  },
  {
   "cell_type": "code",
   "execution_count": 51,
   "id": "808ad380-b117-430b-8ebe-1d981f1f3d39",
   "metadata": {},
   "outputs": [
    {
     "data": {
      "text/plain": [
       "'Bhavesh'"
      ]
     },
     "execution_count": 51,
     "metadata": {},
     "output_type": "execute_result"
    }
   ],
   "source": [
    "h1.show_name()"
   ]
  },
  {
   "cell_type": "code",
   "execution_count": 52,
   "id": "75fa2915-ead2-499c-a933-9df8c184c27c",
   "metadata": {},
   "outputs": [
    {
     "name": "stdout",
     "output_type": "stream",
     "text": [
      "No of hands: 2\n"
     ]
    }
   ],
   "source": [
    "h1.get_hand()"
   ]
  },
  {
   "cell_type": "code",
   "execution_count": null,
   "id": "933e749e-2d5b-44fa-9240-c3f6bcfa91a3",
   "metadata": {},
   "outputs": [],
   "source": [
    "# Magic methods or Dunder methods\n",
    "# inheritence\n",
    "# 8:27 PM -- 8:37 PM"
   ]
  },
  {
   "cell_type": "code",
   "execution_count": 54,
   "id": "d9c66556-54c4-4c25-8335-fcb5daa64f63",
   "metadata": {},
   "outputs": [],
   "source": [
    "class Cat:\n",
    "    def __init__(self, name, age):\n",
    "        self.name = name\n",
    "        self.age = age\n",
    "\n",
    "    def make_sound(self):\n",
    "        print(\"Mew mew!\")"
   ]
  },
  {
   "cell_type": "code",
   "execution_count": 55,
   "id": "d2fa6bed-c141-4b88-beee-c9edd7bac778",
   "metadata": {},
   "outputs": [],
   "source": [
    "cat1 = Cat(\"tom\", 3)"
   ]
  },
  {
   "cell_type": "code",
   "execution_count": 56,
   "id": "c297858a-6a2d-42bc-a552-09c95de6529d",
   "metadata": {},
   "outputs": [],
   "source": [
    "cat2 = Cat(\"oggy\", 2)"
   ]
  },
  {
   "cell_type": "code",
   "execution_count": 58,
   "id": "e8ea82e6-3c37-40cc-8555-2cb4febb8e7e",
   "metadata": {},
   "outputs": [
    {
     "data": {
      "text/plain": [
       "'tom'"
      ]
     },
     "execution_count": 58,
     "metadata": {},
     "output_type": "execute_result"
    }
   ],
   "source": [
    "cat1.name"
   ]
  },
  {
   "cell_type": "code",
   "execution_count": 59,
   "id": "46e5b0ce-5fcf-44d9-bac2-cfdcc3e4629b",
   "metadata": {},
   "outputs": [
    {
     "data": {
      "text/plain": [
       "'oggy'"
      ]
     },
     "execution_count": 59,
     "metadata": {},
     "output_type": "execute_result"
    }
   ],
   "source": [
    "cat2.name"
   ]
  },
  {
   "cell_type": "code",
   "execution_count": 60,
   "id": "7673542a-1268-4ff5-8b56-81a7e1dddf85",
   "metadata": {},
   "outputs": [
    {
     "name": "stdout",
     "output_type": "stream",
     "text": [
      "Mew mew!\n"
     ]
    }
   ],
   "source": [
    "cat1.make_sound()"
   ]
  },
  {
   "cell_type": "code",
   "execution_count": 61,
   "id": "ea9180c7-fd40-45ed-aa4a-52862db29ebb",
   "metadata": {},
   "outputs": [
    {
     "name": "stdout",
     "output_type": "stream",
     "text": [
      "Mew mew!\n"
     ]
    }
   ],
   "source": [
    "cat2.make_sound()"
   ]
  },
  {
   "cell_type": "markdown",
   "id": "123ce426-969f-419d-aa5a-8faa8c9e66ba",
   "metadata": {},
   "source": [
    "### class Attribute"
   ]
  },
  {
   "cell_type": "code",
   "execution_count": 63,
   "id": "2244ed51-f392-4c32-9b77-8618bf4000d2",
   "metadata": {},
   "outputs": [],
   "source": [
    "class Car:\n",
    "    wheels = 4 # class attribute\n",
    "    def __init__(self, color):\n",
    "        self.color = color # instance/object variable/attribute"
   ]
  },
  {
   "cell_type": "code",
   "execution_count": 64,
   "id": "b4192320-14f8-4404-8f00-536251b2b6a0",
   "metadata": {},
   "outputs": [],
   "source": [
    "car1 = Car(\"Red\")"
   ]
  },
  {
   "cell_type": "code",
   "execution_count": 65,
   "id": "1dcf5105-00a1-406a-8fff-306a3dc646be",
   "metadata": {},
   "outputs": [],
   "source": [
    "car2 = Car(\"Blue\")"
   ]
  },
  {
   "cell_type": "code",
   "execution_count": 66,
   "id": "5c62e44d-6f41-49a3-9c5e-31f1bee662f7",
   "metadata": {},
   "outputs": [],
   "source": [
    "car3 = Car(\"Black\")"
   ]
  },
  {
   "cell_type": "code",
   "execution_count": 67,
   "id": "98604002-11ef-4c92-aaff-b074f86a10e9",
   "metadata": {},
   "outputs": [],
   "source": [
    "car4 = Car(\"White\")"
   ]
  },
  {
   "cell_type": "code",
   "execution_count": 68,
   "id": "eb030ad4-8ebf-4f7a-a92e-ae1de3fb65ce",
   "metadata": {},
   "outputs": [
    {
     "data": {
      "text/plain": [
       "'Red'"
      ]
     },
     "execution_count": 68,
     "metadata": {},
     "output_type": "execute_result"
    }
   ],
   "source": [
    "car1.color"
   ]
  },
  {
   "cell_type": "code",
   "execution_count": 69,
   "id": "0b3d38c1-1f12-471e-b03c-3c0dda4e8ce4",
   "metadata": {},
   "outputs": [
    {
     "data": {
      "text/plain": [
       "'White'"
      ]
     },
     "execution_count": 69,
     "metadata": {},
     "output_type": "execute_result"
    }
   ],
   "source": [
    "car4.color"
   ]
  },
  {
   "cell_type": "code",
   "execution_count": 70,
   "id": "a162f225-ec1f-4d57-8932-322522e0b594",
   "metadata": {},
   "outputs": [
    {
     "data": {
      "text/plain": [
       "'Black'"
      ]
     },
     "execution_count": 70,
     "metadata": {},
     "output_type": "execute_result"
    }
   ],
   "source": [
    "car3.color"
   ]
  },
  {
   "cell_type": "code",
   "execution_count": 71,
   "id": "f19be8df-1f59-44b3-9b91-1ca9f821d2ff",
   "metadata": {},
   "outputs": [
    {
     "data": {
      "text/plain": [
       "4"
      ]
     },
     "execution_count": 71,
     "metadata": {},
     "output_type": "execute_result"
    }
   ],
   "source": [
    "car1.wheels"
   ]
  },
  {
   "cell_type": "code",
   "execution_count": 72,
   "id": "e06e3c78-7718-4aa9-888d-ec705d1b0d7f",
   "metadata": {},
   "outputs": [
    {
     "data": {
      "text/plain": [
       "4"
      ]
     },
     "execution_count": 72,
     "metadata": {},
     "output_type": "execute_result"
    }
   ],
   "source": [
    "car2.wheels"
   ]
  },
  {
   "cell_type": "code",
   "execution_count": 73,
   "id": "975689c3-c6bf-4e92-bb0c-011f253b0dea",
   "metadata": {},
   "outputs": [
    {
     "data": {
      "text/plain": [
       "4"
      ]
     },
     "execution_count": 73,
     "metadata": {},
     "output_type": "execute_result"
    }
   ],
   "source": [
    "car3.wheels"
   ]
  },
  {
   "cell_type": "code",
   "execution_count": 74,
   "id": "5634be53-4aed-4b69-ae10-9ca6c6622f44",
   "metadata": {},
   "outputs": [
    {
     "data": {
      "text/plain": [
       "4"
      ]
     },
     "execution_count": 74,
     "metadata": {},
     "output_type": "execute_result"
    }
   ],
   "source": [
    "car4.wheels"
   ]
  },
  {
   "cell_type": "code",
   "execution_count": 75,
   "id": "e4bcc976-e9a8-4d63-86ea-e6dc157fe400",
   "metadata": {},
   "outputs": [],
   "source": [
    "Car.wheels = 3"
   ]
  },
  {
   "cell_type": "code",
   "execution_count": 76,
   "id": "e412b2c0-4120-4c30-9085-a4f3b194bc16",
   "metadata": {},
   "outputs": [
    {
     "data": {
      "text/plain": [
       "3"
      ]
     },
     "execution_count": 76,
     "metadata": {},
     "output_type": "execute_result"
    }
   ],
   "source": [
    "car1.wheels"
   ]
  },
  {
   "cell_type": "code",
   "execution_count": 77,
   "id": "77482c56-7d6b-4b7e-abbb-3508aaa007e9",
   "metadata": {},
   "outputs": [
    {
     "data": {
      "text/plain": [
       "{'color': 'Red'}"
      ]
     },
     "execution_count": 77,
     "metadata": {},
     "output_type": "execute_result"
    }
   ],
   "source": [
    "car1.__dict__"
   ]
  },
  {
   "cell_type": "code",
   "execution_count": 78,
   "id": "f82b7890-8f97-44d1-9248-5e3ab70d04d8",
   "metadata": {},
   "outputs": [],
   "source": [
    "# class attribute can only be changed using the class reference"
   ]
  },
  {
   "cell_type": "code",
   "execution_count": 79,
   "id": "bacf9cac-4de6-4b67-bc5c-056afd96c8f4",
   "metadata": {},
   "outputs": [],
   "source": [
    "car3.wheels = 5"
   ]
  },
  {
   "cell_type": "code",
   "execution_count": 80,
   "id": "b197ee0d-458c-4e1f-9f6c-9a5cf24014b7",
   "metadata": {},
   "outputs": [
    {
     "data": {
      "text/plain": [
       "5"
      ]
     },
     "execution_count": 80,
     "metadata": {},
     "output_type": "execute_result"
    }
   ],
   "source": [
    "car3.wheels"
   ]
  },
  {
   "cell_type": "code",
   "execution_count": 81,
   "id": "04c73c2a-d2ce-4749-8637-1683674676f6",
   "metadata": {},
   "outputs": [
    {
     "data": {
      "text/plain": [
       "3"
      ]
     },
     "execution_count": 81,
     "metadata": {},
     "output_type": "execute_result"
    }
   ],
   "source": [
    "car1.wheels"
   ]
  },
  {
   "cell_type": "code",
   "execution_count": 82,
   "id": "7d37d8dc-83be-4f11-848c-405bc745cd5b",
   "metadata": {},
   "outputs": [
    {
     "data": {
      "text/plain": [
       "3"
      ]
     },
     "execution_count": 82,
     "metadata": {},
     "output_type": "execute_result"
    }
   ],
   "source": [
    "car2.wheels"
   ]
  },
  {
   "cell_type": "code",
   "execution_count": 83,
   "id": "bebe3afb-5ac5-4af8-8c67-b1663826ee72",
   "metadata": {},
   "outputs": [
    {
     "data": {
      "text/plain": [
       "3"
      ]
     },
     "execution_count": 83,
     "metadata": {},
     "output_type": "execute_result"
    }
   ],
   "source": [
    "car4.wheels"
   ]
  },
  {
   "cell_type": "code",
   "execution_count": 85,
   "id": "c4d14853-32a2-46aa-9cc1-484df62664f6",
   "metadata": {},
   "outputs": [
    {
     "data": {
      "text/plain": [
       "{'color': 'White'}"
      ]
     },
     "execution_count": 85,
     "metadata": {},
     "output_type": "execute_result"
    }
   ],
   "source": [
    "car4.__dict__"
   ]
  },
  {
   "cell_type": "code",
   "execution_count": 86,
   "id": "f7173970-746d-48f7-be63-d1e7eea5c9a4",
   "metadata": {},
   "outputs": [
    {
     "data": {
      "text/plain": [
       "{'color': 'Black', 'wheels': 5}"
      ]
     },
     "execution_count": 86,
     "metadata": {},
     "output_type": "execute_result"
    }
   ],
   "source": [
    "car3.__dict__"
   ]
  },
  {
   "cell_type": "code",
   "execution_count": 87,
   "id": "2367da0d-6dd4-4075-85a3-a415e6769b90",
   "metadata": {},
   "outputs": [],
   "source": [
    "del car3.wheels"
   ]
  },
  {
   "cell_type": "code",
   "execution_count": 88,
   "id": "46b7816f-4110-462f-8e64-9e51f02dfdbb",
   "metadata": {},
   "outputs": [
    {
     "data": {
      "text/plain": [
       "3"
      ]
     },
     "execution_count": 88,
     "metadata": {},
     "output_type": "execute_result"
    }
   ],
   "source": [
    "car3.wheels"
   ]
  },
  {
   "cell_type": "code",
   "execution_count": 89,
   "id": "3e7362d2-2674-4aef-b697-cc2dc68a7bcd",
   "metadata": {},
   "outputs": [],
   "source": [
    "class Car:\n",
    "    wheels = 4 # class attribute\n",
    "    def __init__(self, color):\n",
    "        self.color = color # instance/object variable/attribute\n",
    "\n",
    "    @classmethod\n",
    "    def change_wheels(cls, num_wheels):\n",
    "        cls.wheels = num_wheels"
   ]
  },
  {
   "cell_type": "code",
   "execution_count": 90,
   "id": "83387f5f-9887-4cc6-8691-0b5b31b611bf",
   "metadata": {},
   "outputs": [],
   "source": [
    "car1 = Car(\"Red\")\n",
    "car2 = Car(\"Blue\")\n",
    "car3 = Car(\"Black\")\n",
    "car4 = Car(\"White\")"
   ]
  },
  {
   "cell_type": "code",
   "execution_count": 91,
   "id": "3d68395d-e4fc-4f8d-8b9e-28e40e811db8",
   "metadata": {},
   "outputs": [],
   "source": [
    "car1.change_wheels(5)"
   ]
  },
  {
   "cell_type": "code",
   "execution_count": 92,
   "id": "a0c17f6e-c53f-4a52-99e7-9a1822aaf494",
   "metadata": {},
   "outputs": [
    {
     "data": {
      "text/plain": [
       "{'color': 'Red'}"
      ]
     },
     "execution_count": 92,
     "metadata": {},
     "output_type": "execute_result"
    }
   ],
   "source": [
    "car1.__dict__"
   ]
  },
  {
   "cell_type": "code",
   "execution_count": 93,
   "id": "31d3097c-2f56-4cbe-94e6-289221d1e590",
   "metadata": {},
   "outputs": [
    {
     "data": {
      "text/plain": [
       "5"
      ]
     },
     "execution_count": 93,
     "metadata": {},
     "output_type": "execute_result"
    }
   ],
   "source": [
    "car1.wheels"
   ]
  },
  {
   "cell_type": "code",
   "execution_count": 94,
   "id": "673b0111-e625-4b4e-8307-6c5ca4d927c7",
   "metadata": {},
   "outputs": [
    {
     "data": {
      "text/plain": [
       "5"
      ]
     },
     "execution_count": 94,
     "metadata": {},
     "output_type": "execute_result"
    }
   ],
   "source": [
    "car2.wheels"
   ]
  },
  {
   "cell_type": "code",
   "execution_count": null,
   "id": "84d04bee-8db8-41b9-9bf3-0749e6fdedb1",
   "metadata": {},
   "outputs": [],
   "source": [
    "# __new__()"
   ]
  },
  {
   "cell_type": "code",
   "execution_count": 100,
   "id": "6c67503b-a928-4785-b889-197d6f743748",
   "metadata": {},
   "outputs": [],
   "source": [
    "class Cat:\n",
    "    def __init__(self, name, age):\n",
    "        self.name = name\n",
    "        self.age = age\n",
    "\n",
    "    def make_sound(self):\n",
    "        self.sound_in_dB = \"1000Hz\"\n",
    "        print(f\"Mew mew in {self.sound_in_dB}!\")"
   ]
  },
  {
   "cell_type": "code",
   "execution_count": 102,
   "id": "fe6b027e-cf05-4775-aa78-75721cc1e8c3",
   "metadata": {},
   "outputs": [],
   "source": [
    "cat3 = Cat(\"jerald\", 5)"
   ]
  },
  {
   "cell_type": "code",
   "execution_count": 103,
   "id": "73e57c6d-7283-4045-8c7c-4f0537e611cd",
   "metadata": {},
   "outputs": [
    {
     "ename": "AttributeError",
     "evalue": "'Cat' object has no attribute 'sound_in_dB'",
     "output_type": "error",
     "traceback": [
      "\u001b[1;31m---------------------------------------------------------------------------\u001b[0m",
      "\u001b[1;31mAttributeError\u001b[0m                            Traceback (most recent call last)",
      "Cell \u001b[1;32mIn[103], line 1\u001b[0m\n\u001b[1;32m----> 1\u001b[0m \u001b[43mcat3\u001b[49m\u001b[38;5;241;43m.\u001b[39;49m\u001b[43msound_in_dB\u001b[49m\n",
      "\u001b[1;31mAttributeError\u001b[0m: 'Cat' object has no attribute 'sound_in_dB'"
     ]
    }
   ],
   "source": [
    "cat3.sound_in_dB"
   ]
  },
  {
   "cell_type": "code",
   "execution_count": 104,
   "id": "a3575ea1-510c-46a1-a80f-163bb35bfc2b",
   "metadata": {},
   "outputs": [
    {
     "name": "stdout",
     "output_type": "stream",
     "text": [
      "Mew mew in 1000Hz!\n"
     ]
    }
   ],
   "source": [
    "cat3.make_sound()"
   ]
  },
  {
   "cell_type": "code",
   "execution_count": 106,
   "id": "e64d0540-e3fe-499e-b2d1-b281ae769c29",
   "metadata": {},
   "outputs": [
    {
     "data": {
      "text/plain": [
       "'1000Hz'"
      ]
     },
     "execution_count": 106,
     "metadata": {},
     "output_type": "execute_result"
    }
   ],
   "source": [
    "cat3.sound_in_dB"
   ]
  },
  {
   "cell_type": "code",
   "execution_count": 107,
   "id": "7148d018-b51a-4395-80c7-1ccfa21e1922",
   "metadata": {},
   "outputs": [],
   "source": [
    "class A:\n",
    "    val_a = \"something\""
   ]
  },
  {
   "cell_type": "code",
   "execution_count": 108,
   "id": "bbe924b0-0032-4a32-8a5a-d12ff3ea6a81",
   "metadata": {},
   "outputs": [
    {
     "data": {
      "text/plain": [
       "'something'"
      ]
     },
     "execution_count": 108,
     "metadata": {},
     "output_type": "execute_result"
    }
   ],
   "source": [
    "A.val_a"
   ]
  },
  {
   "cell_type": "code",
   "execution_count": 109,
   "id": "82cd12d3-f7f1-4ad4-a8db-b6d0a6a166e8",
   "metadata": {},
   "outputs": [],
   "source": [
    "class A:\n",
    "    val_a = \"something\"\n",
    "\n",
    "    @classmethod\n",
    "    def change_val_a(cls, val):\n",
    "        cls.val_b = \"something_2\"\n",
    "        cls.val_a = val"
   ]
  },
  {
   "cell_type": "code",
   "execution_count": 110,
   "id": "da2e7ad8-59ed-4f42-bbe2-66a659ae30db",
   "metadata": {},
   "outputs": [
    {
     "data": {
      "text/plain": [
       "'something'"
      ]
     },
     "execution_count": 110,
     "metadata": {},
     "output_type": "execute_result"
    }
   ],
   "source": [
    "A.val_a"
   ]
  },
  {
   "cell_type": "code",
   "execution_count": 111,
   "id": "bb654774-7ee4-4894-ad82-6025d3842478",
   "metadata": {},
   "outputs": [
    {
     "ename": "AttributeError",
     "evalue": "type object 'A' has no attribute 'val_b'",
     "output_type": "error",
     "traceback": [
      "\u001b[1;31m---------------------------------------------------------------------------\u001b[0m",
      "\u001b[1;31mAttributeError\u001b[0m                            Traceback (most recent call last)",
      "Cell \u001b[1;32mIn[111], line 1\u001b[0m\n\u001b[1;32m----> 1\u001b[0m \u001b[43mA\u001b[49m\u001b[38;5;241;43m.\u001b[39;49m\u001b[43mval_b\u001b[49m\n",
      "\u001b[1;31mAttributeError\u001b[0m: type object 'A' has no attribute 'val_b'"
     ]
    }
   ],
   "source": [
    "A.val_b"
   ]
  },
  {
   "cell_type": "code",
   "execution_count": 112,
   "id": "923751df-df5f-4a0e-80a8-533ed41b2c29",
   "metadata": {},
   "outputs": [],
   "source": [
    "A.change_val_a(56)"
   ]
  },
  {
   "cell_type": "code",
   "execution_count": 113,
   "id": "f4bbad30-1265-4101-b4cb-2683ef34598e",
   "metadata": {},
   "outputs": [
    {
     "data": {
      "text/plain": [
       "'something_2'"
      ]
     },
     "execution_count": 113,
     "metadata": {},
     "output_type": "execute_result"
    }
   ],
   "source": [
    "A.val_b"
   ]
  },
  {
   "cell_type": "markdown",
   "id": "30977bae-58d1-459a-beb9-86546c488a25",
   "metadata": {},
   "source": [
    "### Magic Methods"
   ]
  },
  {
   "cell_type": "code",
   "execution_count": null,
   "id": "0450935c-292c-4a90-a887-0e6f91862b35",
   "metadata": {},
   "outputs": [],
   "source": [
    "__init__() --> initializer in python class\n",
    "__call__() --> makes instance of a class callable\n",
    "__str__(), __repr__() --> provides string representation to objects\n",
    "__len__() --> supprots len() function"
   ]
  },
  {
   "cell_type": "code",
   "execution_count": 115,
   "id": "3b498be7-232b-4b35-bb06-93f45c3180f3",
   "metadata": {
    "collapsed": true,
    "jupyter": {
     "outputs_hidden": true
    }
   },
   "outputs": [
    {
     "name": "stdout",
     "output_type": "stream",
     "text": [
      "Help on class str in module builtins:\n",
      "\n",
      "class str(object)\n",
      " |  str(object='') -> str\n",
      " |  str(bytes_or_buffer[, encoding[, errors]]) -> str\n",
      " |\n",
      " |  Create a new string object from the given object. If encoding or\n",
      " |  errors is specified, then the object must expose a data buffer\n",
      " |  that will be decoded using the given encoding and error handler.\n",
      " |  Otherwise, returns the result of object.__str__() (if defined)\n",
      " |  or repr(object).\n",
      " |  encoding defaults to 'utf-8'.\n",
      " |  errors defaults to 'strict'.\n",
      " |\n",
      " |  Methods defined here:\n",
      " |\n",
      " |  __add__(self, value, /)\n",
      " |      Return self+value.\n",
      " |\n",
      " |  __contains__(self, key, /)\n",
      " |      Return bool(key in self).\n",
      " |\n",
      " |  __eq__(self, value, /)\n",
      " |      Return self==value.\n",
      " |\n",
      " |  __format__(self, format_spec, /)\n",
      " |      Return a formatted version of the string as described by format_spec.\n",
      " |\n",
      " |  __ge__(self, value, /)\n",
      " |      Return self>=value.\n",
      " |\n",
      " |  __getitem__(self, key, /)\n",
      " |      Return self[key].\n",
      " |\n",
      " |  __getnewargs__(self, /)\n",
      " |\n",
      " |  __gt__(self, value, /)\n",
      " |      Return self>value.\n",
      " |\n",
      " |  __hash__(self, /)\n",
      " |      Return hash(self).\n",
      " |\n",
      " |  __iter__(self, /)\n",
      " |      Implement iter(self).\n",
      " |\n",
      " |  __le__(self, value, /)\n",
      " |      Return self<=value.\n",
      " |\n",
      " |  __len__(self, /)\n",
      " |      Return len(self).\n",
      " |\n",
      " |  __lt__(self, value, /)\n",
      " |      Return self<value.\n",
      " |\n",
      " |  __mod__(self, value, /)\n",
      " |      Return self%value.\n",
      " |\n",
      " |  __mul__(self, value, /)\n",
      " |      Return self*value.\n",
      " |\n",
      " |  __ne__(self, value, /)\n",
      " |      Return self!=value.\n",
      " |\n",
      " |  __repr__(self, /)\n",
      " |      Return repr(self).\n",
      " |\n",
      " |  __rmod__(self, value, /)\n",
      " |      Return value%self.\n",
      " |\n",
      " |  __rmul__(self, value, /)\n",
      " |      Return value*self.\n",
      " |\n",
      " |  __sizeof__(self, /)\n",
      " |      Return the size of the string in memory, in bytes.\n",
      " |\n",
      " |  __str__(self, /)\n",
      " |      Return str(self).\n",
      " |\n",
      " |  capitalize(self, /)\n",
      " |      Return a capitalized version of the string.\n",
      " |\n",
      " |      More specifically, make the first character have upper case and the rest lower\n",
      " |      case.\n",
      " |\n",
      " |  casefold(self, /)\n",
      " |      Return a version of the string suitable for caseless comparisons.\n",
      " |\n",
      " |  center(self, width, fillchar=' ', /)\n",
      " |      Return a centered string of length width.\n",
      " |\n",
      " |      Padding is done using the specified fill character (default is a space).\n",
      " |\n",
      " |  count(self, sub[, start[, end]], /)\n",
      " |      Return the number of non-overlapping occurrences of substring sub in string S[start:end].\n",
      " |\n",
      " |      Optional arguments start and end are interpreted as in slice notation.\n",
      " |\n",
      " |  encode(self, /, encoding='utf-8', errors='strict')\n",
      " |      Encode the string using the codec registered for encoding.\n",
      " |\n",
      " |      encoding\n",
      " |        The encoding in which to encode the string.\n",
      " |      errors\n",
      " |        The error handling scheme to use for encoding errors.\n",
      " |        The default is 'strict' meaning that encoding errors raise a\n",
      " |        UnicodeEncodeError.  Other possible values are 'ignore', 'replace' and\n",
      " |        'xmlcharrefreplace' as well as any other name registered with\n",
      " |        codecs.register_error that can handle UnicodeEncodeErrors.\n",
      " |\n",
      " |  endswith(self, suffix[, start[, end]], /)\n",
      " |      Return True if the string ends with the specified suffix, False otherwise.\n",
      " |\n",
      " |      suffix\n",
      " |        A string or a tuple of strings to try.\n",
      " |      start\n",
      " |        Optional start position. Default: start of the string.\n",
      " |      end\n",
      " |        Optional stop position. Default: end of the string.\n",
      " |\n",
      " |  expandtabs(self, /, tabsize=8)\n",
      " |      Return a copy where all tab characters are expanded using spaces.\n",
      " |\n",
      " |      If tabsize is not given, a tab size of 8 characters is assumed.\n",
      " |\n",
      " |  find(self, sub[, start[, end]], /)\n",
      " |      Return the lowest index in S where substring sub is found, such that sub is contained within S[start:end].\n",
      " |\n",
      " |      Optional arguments start and end are interpreted as in slice notation.\n",
      " |      Return -1 on failure.\n",
      " |\n",
      " |  format(self, /, *args, **kwargs)\n",
      " |      Return a formatted version of the string, using substitutions from args and kwargs.\n",
      " |      The substitutions are identified by braces ('{' and '}').\n",
      " |\n",
      " |  format_map(self, mapping, /)\n",
      " |      Return a formatted version of the string, using substitutions from mapping.\n",
      " |      The substitutions are identified by braces ('{' and '}').\n",
      " |\n",
      " |  index(self, sub[, start[, end]], /)\n",
      " |      Return the lowest index in S where substring sub is found, such that sub is contained within S[start:end].\n",
      " |\n",
      " |      Optional arguments start and end are interpreted as in slice notation.\n",
      " |      Raises ValueError when the substring is not found.\n",
      " |\n",
      " |  isalnum(self, /)\n",
      " |      Return True if the string is an alpha-numeric string, False otherwise.\n",
      " |\n",
      " |      A string is alpha-numeric if all characters in the string are alpha-numeric and\n",
      " |      there is at least one character in the string.\n",
      " |\n",
      " |  isalpha(self, /)\n",
      " |      Return True if the string is an alphabetic string, False otherwise.\n",
      " |\n",
      " |      A string is alphabetic if all characters in the string are alphabetic and there\n",
      " |      is at least one character in the string.\n",
      " |\n",
      " |  isascii(self, /)\n",
      " |      Return True if all characters in the string are ASCII, False otherwise.\n",
      " |\n",
      " |      ASCII characters have code points in the range U+0000-U+007F.\n",
      " |      Empty string is ASCII too.\n",
      " |\n",
      " |  isdecimal(self, /)\n",
      " |      Return True if the string is a decimal string, False otherwise.\n",
      " |\n",
      " |      A string is a decimal string if all characters in the string are decimal and\n",
      " |      there is at least one character in the string.\n",
      " |\n",
      " |  isdigit(self, /)\n",
      " |      Return True if the string is a digit string, False otherwise.\n",
      " |\n",
      " |      A string is a digit string if all characters in the string are digits and there\n",
      " |      is at least one character in the string.\n",
      " |\n",
      " |  isidentifier(self, /)\n",
      " |      Return True if the string is a valid Python identifier, False otherwise.\n",
      " |\n",
      " |      Call keyword.iskeyword(s) to test whether string s is a reserved identifier,\n",
      " |      such as \"def\" or \"class\".\n",
      " |\n",
      " |  islower(self, /)\n",
      " |      Return True if the string is a lowercase string, False otherwise.\n",
      " |\n",
      " |      A string is lowercase if all cased characters in the string are lowercase and\n",
      " |      there is at least one cased character in the string.\n",
      " |\n",
      " |  isnumeric(self, /)\n",
      " |      Return True if the string is a numeric string, False otherwise.\n",
      " |\n",
      " |      A string is numeric if all characters in the string are numeric and there is at\n",
      " |      least one character in the string.\n",
      " |\n",
      " |  isprintable(self, /)\n",
      " |      Return True if all characters in the string are printable, False otherwise.\n",
      " |\n",
      " |      A character is printable if repr() may use it in its output.\n",
      " |\n",
      " |  isspace(self, /)\n",
      " |      Return True if the string is a whitespace string, False otherwise.\n",
      " |\n",
      " |      A string is whitespace if all characters in the string are whitespace and there\n",
      " |      is at least one character in the string.\n",
      " |\n",
      " |  istitle(self, /)\n",
      " |      Return True if the string is a title-cased string, False otherwise.\n",
      " |\n",
      " |      In a title-cased string, upper- and title-case characters may only\n",
      " |      follow uncased characters and lowercase characters only cased ones.\n",
      " |\n",
      " |  isupper(self, /)\n",
      " |      Return True if the string is an uppercase string, False otherwise.\n",
      " |\n",
      " |      A string is uppercase if all cased characters in the string are uppercase and\n",
      " |      there is at least one cased character in the string.\n",
      " |\n",
      " |  join(self, iterable, /)\n",
      " |      Concatenate any number of strings.\n",
      " |\n",
      " |      The string whose method is called is inserted in between each given string.\n",
      " |      The result is returned as a new string.\n",
      " |\n",
      " |      Example: '.'.join(['ab', 'pq', 'rs']) -> 'ab.pq.rs'\n",
      " |\n",
      " |  ljust(self, width, fillchar=' ', /)\n",
      " |      Return a left-justified string of length width.\n",
      " |\n",
      " |      Padding is done using the specified fill character (default is a space).\n",
      " |\n",
      " |  lower(self, /)\n",
      " |      Return a copy of the string converted to lowercase.\n",
      " |\n",
      " |  lstrip(self, chars=None, /)\n",
      " |      Return a copy of the string with leading whitespace removed.\n",
      " |\n",
      " |      If chars is given and not None, remove characters in chars instead.\n",
      " |\n",
      " |  partition(self, sep, /)\n",
      " |      Partition the string into three parts using the given separator.\n",
      " |\n",
      " |      This will search for the separator in the string.  If the separator is found,\n",
      " |      returns a 3-tuple containing the part before the separator, the separator\n",
      " |      itself, and the part after it.\n",
      " |\n",
      " |      If the separator is not found, returns a 3-tuple containing the original string\n",
      " |      and two empty strings.\n",
      " |\n",
      " |  removeprefix(self, prefix, /)\n",
      " |      Return a str with the given prefix string removed if present.\n",
      " |\n",
      " |      If the string starts with the prefix string, return string[len(prefix):].\n",
      " |      Otherwise, return a copy of the original string.\n",
      " |\n",
      " |  removesuffix(self, suffix, /)\n",
      " |      Return a str with the given suffix string removed if present.\n",
      " |\n",
      " |      If the string ends with the suffix string and that suffix is not empty,\n",
      " |      return string[:-len(suffix)]. Otherwise, return a copy of the original\n",
      " |      string.\n",
      " |\n",
      " |  replace(self, old, new, /, count=-1)\n",
      " |      Return a copy with all occurrences of substring old replaced by new.\n",
      " |\n",
      " |        count\n",
      " |          Maximum number of occurrences to replace.\n",
      " |          -1 (the default value) means replace all occurrences.\n",
      " |\n",
      " |      If the optional argument count is given, only the first count occurrences are\n",
      " |      replaced.\n",
      " |\n",
      " |  rfind(self, sub[, start[, end]], /)\n",
      " |      Return the highest index in S where substring sub is found, such that sub is contained within S[start:end].\n",
      " |\n",
      " |      Optional arguments start and end are interpreted as in slice notation.\n",
      " |      Return -1 on failure.\n",
      " |\n",
      " |  rindex(self, sub[, start[, end]], /)\n",
      " |      Return the highest index in S where substring sub is found, such that sub is contained within S[start:end].\n",
      " |\n",
      " |      Optional arguments start and end are interpreted as in slice notation.\n",
      " |      Raises ValueError when the substring is not found.\n",
      " |\n",
      " |  rjust(self, width, fillchar=' ', /)\n",
      " |      Return a right-justified string of length width.\n",
      " |\n",
      " |      Padding is done using the specified fill character (default is a space).\n",
      " |\n",
      " |  rpartition(self, sep, /)\n",
      " |      Partition the string into three parts using the given separator.\n",
      " |\n",
      " |      This will search for the separator in the string, starting at the end. If\n",
      " |      the separator is found, returns a 3-tuple containing the part before the\n",
      " |      separator, the separator itself, and the part after it.\n",
      " |\n",
      " |      If the separator is not found, returns a 3-tuple containing two empty strings\n",
      " |      and the original string.\n",
      " |\n",
      " |  rsplit(self, /, sep=None, maxsplit=-1)\n",
      " |      Return a list of the substrings in the string, using sep as the separator string.\n",
      " |\n",
      " |        sep\n",
      " |          The separator used to split the string.\n",
      " |\n",
      " |          When set to None (the default value), will split on any whitespace\n",
      " |          character (including \\n \\r \\t \\f and spaces) and will discard\n",
      " |          empty strings from the result.\n",
      " |        maxsplit\n",
      " |          Maximum number of splits.\n",
      " |          -1 (the default value) means no limit.\n",
      " |\n",
      " |      Splitting starts at the end of the string and works to the front.\n",
      " |\n",
      " |  rstrip(self, chars=None, /)\n",
      " |      Return a copy of the string with trailing whitespace removed.\n",
      " |\n",
      " |      If chars is given and not None, remove characters in chars instead.\n",
      " |\n",
      " |  split(self, /, sep=None, maxsplit=-1)\n",
      " |      Return a list of the substrings in the string, using sep as the separator string.\n",
      " |\n",
      " |        sep\n",
      " |          The separator used to split the string.\n",
      " |\n",
      " |          When set to None (the default value), will split on any whitespace\n",
      " |          character (including \\n \\r \\t \\f and spaces) and will discard\n",
      " |          empty strings from the result.\n",
      " |        maxsplit\n",
      " |          Maximum number of splits.\n",
      " |          -1 (the default value) means no limit.\n",
      " |\n",
      " |      Splitting starts at the front of the string and works to the end.\n",
      " |\n",
      " |      Note, str.split() is mainly useful for data that has been intentionally\n",
      " |      delimited.  With natural text that includes punctuation, consider using\n",
      " |      the regular expression module.\n",
      " |\n",
      " |  splitlines(self, /, keepends=False)\n",
      " |      Return a list of the lines in the string, breaking at line boundaries.\n",
      " |\n",
      " |      Line breaks are not included in the resulting list unless keepends is given and\n",
      " |      true.\n",
      " |\n",
      " |  startswith(self, prefix[, start[, end]], /)\n",
      " |      Return True if the string starts with the specified prefix, False otherwise.\n",
      " |\n",
      " |      prefix\n",
      " |        A string or a tuple of strings to try.\n",
      " |      start\n",
      " |        Optional start position. Default: start of the string.\n",
      " |      end\n",
      " |        Optional stop position. Default: end of the string.\n",
      " |\n",
      " |  strip(self, chars=None, /)\n",
      " |      Return a copy of the string with leading and trailing whitespace removed.\n",
      " |\n",
      " |      If chars is given and not None, remove characters in chars instead.\n",
      " |\n",
      " |  swapcase(self, /)\n",
      " |      Convert uppercase characters to lowercase and lowercase characters to uppercase.\n",
      " |\n",
      " |  title(self, /)\n",
      " |      Return a version of the string where each word is titlecased.\n",
      " |\n",
      " |      More specifically, words start with uppercased characters and all remaining\n",
      " |      cased characters have lower case.\n",
      " |\n",
      " |  translate(self, table, /)\n",
      " |      Replace each character in the string using the given translation table.\n",
      " |\n",
      " |        table\n",
      " |          Translation table, which must be a mapping of Unicode ordinals to\n",
      " |          Unicode ordinals, strings, or None.\n",
      " |\n",
      " |      The table must implement lookup/indexing via __getitem__, for instance a\n",
      " |      dictionary or list.  If this operation raises LookupError, the character is\n",
      " |      left untouched.  Characters mapped to None are deleted.\n",
      " |\n",
      " |  upper(self, /)\n",
      " |      Return a copy of the string converted to uppercase.\n",
      " |\n",
      " |  zfill(self, width, /)\n",
      " |      Pad a numeric string with zeros on the left, to fill a field of the given width.\n",
      " |\n",
      " |      The string is never truncated.\n",
      " |\n",
      " |  ----------------------------------------------------------------------\n",
      " |  Static methods defined here:\n",
      " |\n",
      " |  __new__(*args, **kwargs)\n",
      " |      Create and return a new object.  See help(type) for accurate signature.\n",
      " |\n",
      " |  maketrans(x, y=<unrepresentable>, z=<unrepresentable>, /)\n",
      " |      Return a translation table usable for str.translate().\n",
      " |\n",
      " |      If there is only one argument, it must be a dictionary mapping Unicode\n",
      " |      ordinals (integers) or characters to Unicode ordinals, strings or None.\n",
      " |      Character keys will be then converted to ordinals.\n",
      " |      If there are two arguments, they must be strings of equal length, and\n",
      " |      in the resulting dictionary, each character in x will be mapped to the\n",
      " |      character at the same position in y. If there is a third argument, it\n",
      " |      must be a string, whose characters will be mapped to None in the result.\n",
      "\n"
     ]
    }
   ],
   "source": [
    "help(str)"
   ]
  },
  {
   "cell_type": "code",
   "execution_count": 117,
   "id": "32405032-3d36-4bfd-b0b9-d86c838ce6a2",
   "metadata": {},
   "outputs": [
    {
     "data": {
      "text/plain": [
       "8"
      ]
     },
     "execution_count": 117,
     "metadata": {},
     "output_type": "execute_result"
    }
   ],
   "source": [
    "(5).__add__(3)"
   ]
  },
  {
   "cell_type": "code",
   "execution_count": 118,
   "id": "22d1222a-a8b8-42c3-81c3-8b0a22b4d9dd",
   "metadata": {},
   "outputs": [],
   "source": [
    "class Point:\n",
    "    def __init__(self, x, y):\n",
    "        self.x = x\n",
    "        self.y = y"
   ]
  },
  {
   "cell_type": "code",
   "execution_count": 119,
   "id": "3909ee25-83f6-43ab-963a-1a1770991909",
   "metadata": {},
   "outputs": [],
   "source": [
    "point = Point(5, 6)"
   ]
  },
  {
   "cell_type": "code",
   "execution_count": 120,
   "id": "bb99980a-b808-4a32-b640-052584ea5454",
   "metadata": {},
   "outputs": [
    {
     "data": {
      "text/plain": [
       "5"
      ]
     },
     "execution_count": 120,
     "metadata": {},
     "output_type": "execute_result"
    }
   ],
   "source": [
    "point.x"
   ]
  },
  {
   "cell_type": "code",
   "execution_count": 121,
   "id": "9c4e4f0c-8089-44dc-9f15-39959e672a2e",
   "metadata": {},
   "outputs": [
    {
     "data": {
      "text/plain": [
       "6"
      ]
     },
     "execution_count": 121,
     "metadata": {},
     "output_type": "execute_result"
    }
   ],
   "source": [
    "point.y"
   ]
  },
  {
   "cell_type": "code",
   "execution_count": 122,
   "id": "3a6ff792-4331-41b4-8a0e-3ff44a226119",
   "metadata": {},
   "outputs": [
    {
     "data": {
      "text/plain": [
       "<__main__.Point at 0x14474bc56a0>"
      ]
     },
     "execution_count": 122,
     "metadata": {},
     "output_type": "execute_result"
    }
   ],
   "source": [
    "point"
   ]
  },
  {
   "cell_type": "code",
   "execution_count": 123,
   "id": "4d2a5fe2-1af9-4de8-9041-f47535099d8c",
   "metadata": {},
   "outputs": [
    {
     "name": "stdout",
     "output_type": "stream",
     "text": [
      "<__main__.Point object at 0x0000014474BC56A0>\n"
     ]
    }
   ],
   "source": [
    "print(point)"
   ]
  },
  {
   "cell_type": "code",
   "execution_count": 124,
   "id": "e82dd616-6fc0-41ea-a550-ee87d3d2bb3e",
   "metadata": {},
   "outputs": [],
   "source": [
    "class Point:\n",
    "    def __init__(self, x, y):\n",
    "        self.x = x\n",
    "        self.y = y\n",
    "\n",
    "    def __str__(self):\n",
    "        return f\"X: {self.x}, Y: {self.y}\""
   ]
  },
  {
   "cell_type": "code",
   "execution_count": 125,
   "id": "85d635e5-604a-4e4d-bcab-f60b8c921d2a",
   "metadata": {},
   "outputs": [],
   "source": [
    "point = Point(5, 6)"
   ]
  },
  {
   "cell_type": "code",
   "execution_count": 126,
   "id": "8c8f4c4a-fa37-41de-a8a6-ac0d363aa18d",
   "metadata": {},
   "outputs": [
    {
     "data": {
      "text/plain": [
       "<__main__.Point at 0x14474bc4ad0>"
      ]
     },
     "execution_count": 126,
     "metadata": {},
     "output_type": "execute_result"
    }
   ],
   "source": [
    "point"
   ]
  },
  {
   "cell_type": "code",
   "execution_count": 127,
   "id": "3f51bbd9-1b65-4d5d-b948-8176151aa763",
   "metadata": {},
   "outputs": [
    {
     "name": "stdout",
     "output_type": "stream",
     "text": [
      "X: 5, Y: 6\n"
     ]
    }
   ],
   "source": [
    "print(point)"
   ]
  },
  {
   "cell_type": "code",
   "execution_count": 128,
   "id": "3ffdae55-ce58-4ca4-99a7-e994d65c506e",
   "metadata": {},
   "outputs": [],
   "source": [
    "class Point:\n",
    "    def __init__(self, x, y):\n",
    "        self.x = x\n",
    "        self.y = y\n",
    "\n",
    "    def __repr__(self):\n",
    "        return f\"Point(x={self.x}, y={self.y})\"\n",
    "\n",
    "    def __str__(self):\n",
    "        return f\"X: {self.x}, Y: {self.y}\""
   ]
  },
  {
   "cell_type": "code",
   "execution_count": 129,
   "id": "5cb9d53c-a46c-42c0-a171-160977525a3e",
   "metadata": {},
   "outputs": [],
   "source": [
    "point = Point(5, 6)"
   ]
  },
  {
   "cell_type": "code",
   "execution_count": 130,
   "id": "eb52abb1-a82a-4b91-8889-4d63cb634334",
   "metadata": {},
   "outputs": [
    {
     "data": {
      "text/plain": [
       "Point(x=5, y=6)"
      ]
     },
     "execution_count": 130,
     "metadata": {},
     "output_type": "execute_result"
    }
   ],
   "source": [
    "point"
   ]
  },
  {
   "cell_type": "code",
   "execution_count": 131,
   "id": "8a218b23-5e14-4377-a38b-f48c105019e7",
   "metadata": {},
   "outputs": [
    {
     "data": {
      "text/plain": [
       "5"
      ]
     },
     "execution_count": 131,
     "metadata": {},
     "output_type": "execute_result"
    }
   ],
   "source": [
    "point.x"
   ]
  },
  {
   "cell_type": "code",
   "execution_count": 132,
   "id": "67f792bd-902e-4356-9d84-af34a8c25277",
   "metadata": {},
   "outputs": [
    {
     "data": {
      "text/plain": [
       "Point(x=5, y=6)"
      ]
     },
     "execution_count": 132,
     "metadata": {},
     "output_type": "execute_result"
    }
   ],
   "source": [
    "point"
   ]
  },
  {
   "cell_type": "code",
   "execution_count": 133,
   "id": "6c8c9db4-1543-4b8e-b9c7-7e394a6da7ff",
   "metadata": {},
   "outputs": [
    {
     "name": "stdout",
     "output_type": "stream",
     "text": [
      "X: 5, Y: 6\n"
     ]
    }
   ],
   "source": [
    "print(point)"
   ]
  },
  {
   "cell_type": "code",
   "execution_count": 134,
   "id": "b61ddc31-6eb6-4701-bf8e-155052370b0c",
   "metadata": {},
   "outputs": [
    {
     "data": {
      "text/plain": [
       "'X: 5, Y: 6'"
      ]
     },
     "execution_count": 134,
     "metadata": {},
     "output_type": "execute_result"
    }
   ],
   "source": [
    "str(point)"
   ]
  },
  {
   "cell_type": "code",
   "execution_count": 135,
   "id": "c8870045-40c3-4b87-9429-5d7703937c3c",
   "metadata": {},
   "outputs": [],
   "source": [
    "class Point:\n",
    "    def __init__(self, x, y):\n",
    "        self.x = x\n",
    "        self.y = y\n",
    "\n",
    "    def __repr__(self):\n",
    "        return f\"Point(x={self.x}, y={self.y})\"\n",
    "\n",
    "    def __str__(self):\n",
    "        return f\"X: {self.x}, Y: {self.y}\"\n",
    "\n",
    "    def __sub__(self, other):\n",
    "        xval = self.x - other.x\n",
    "        yval = self.y - other.y\n",
    "        return (xval**2 + yval**2)**(1/2)\n",
    "        "
   ]
  },
  {
   "cell_type": "code",
   "execution_count": 137,
   "id": "a35229ec-d154-47fc-b643-61c995e45b18",
   "metadata": {},
   "outputs": [],
   "source": [
    "P1 = Point(1, 1)\n",
    "P2 = Point(2, 2)"
   ]
  },
  {
   "cell_type": "code",
   "execution_count": 138,
   "id": "adc41a58-4c5c-401d-80d3-4e73a8cd10d5",
   "metadata": {},
   "outputs": [
    {
     "data": {
      "text/plain": [
       "1.4142135623730951"
      ]
     },
     "execution_count": 138,
     "metadata": {},
     "output_type": "execute_result"
    }
   ],
   "source": [
    "P2 - P1"
   ]
  },
  {
   "cell_type": "code",
   "execution_count": null,
   "id": "fbe06505-ead5-4af0-a158-a2d3690a6328",
   "metadata": {},
   "outputs": [],
   "source": []
  }
 ],
 "metadata": {
  "kernelspec": {
   "display_name": "Python 3 (ipykernel)",
   "language": "python",
   "name": "python3"
  },
  "language_info": {
   "codemirror_mode": {
    "name": "ipython",
    "version": 3
   },
   "file_extension": ".py",
   "mimetype": "text/x-python",
   "name": "python",
   "nbconvert_exporter": "python",
   "pygments_lexer": "ipython3",
   "version": "3.13.3"
  }
 },
 "nbformat": 4,
 "nbformat_minor": 5
}
