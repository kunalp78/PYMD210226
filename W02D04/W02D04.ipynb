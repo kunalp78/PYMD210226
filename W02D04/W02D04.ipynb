{
 "cells": [
  {
   "cell_type": "markdown",
   "id": "5b0de8c3-6c04-41d7-a4e6-80e555ee5d28",
   "metadata": {},
   "source": [
    "## Strings"
   ]
  },
  {
   "cell_type": "code",
   "execution_count": null,
   "id": "5359ae3d-c4a0-41d4-ae15-5f744c9d9c60",
   "metadata": {},
   "outputs": [],
   "source": [
    "premitive data structure.\n",
    "it is a collection of characters\n",
    "everything inside quotes are considered as strings.\n",
    "It is an immutable data structure"
   ]
  },
  {
   "cell_type": "code",
   "execution_count": 1,
   "id": "76321380-f483-44cd-a4ff-edb284f1bc17",
   "metadata": {},
   "outputs": [],
   "source": [
    "str1 = \"hello\"\n",
    "str2 = 'hello'\n",
    "str3 = \"\"\"hello\"\"\"\n",
    "str4 = '''hello'''"
   ]
  },
  {
   "cell_type": "code",
   "execution_count": 2,
   "id": "859b6481-8156-43cd-803c-e7bd5e0d146a",
   "metadata": {},
   "outputs": [
    {
     "ename": "SyntaxError",
     "evalue": "unterminated string literal (detected at line 1) (2028354952.py, line 1)",
     "output_type": "error",
     "traceback": [
      "\u001b[1;36m  Cell \u001b[1;32mIn[2], line 1\u001b[1;36m\u001b[0m\n\u001b[1;33m    st1 = \"hey I am writing\u001b[0m\n\u001b[1;37m          ^\u001b[0m\n\u001b[1;31mSyntaxError\u001b[0m\u001b[1;31m:\u001b[0m unterminated string literal (detected at line 1)\n"
     ]
    }
   ],
   "source": [
    "st1 = \"hey I am writing \n",
    "the string\""
   ]
  },
  {
   "cell_type": "code",
   "execution_count": 3,
   "id": "04b00a81-f78c-4b5a-8f12-84cbd4387b28",
   "metadata": {},
   "outputs": [],
   "source": [
    "str2 = \"\"\"\n",
    "hey I am a string\n",
    "I can be written in second line\n",
    "\"\"\""
   ]
  },
  {
   "cell_type": "code",
   "execution_count": 4,
   "id": "80b6cd33-0592-4d6f-b81f-ba45cce544f2",
   "metadata": {},
   "outputs": [
    {
     "name": "stdout",
     "output_type": "stream",
     "text": [
      "\n",
      "hey I am a string\n",
      "I can be written in second line\n",
      "\n"
     ]
    }
   ],
   "source": [
    "print(str2)"
   ]
  },
  {
   "cell_type": "code",
   "execution_count": 5,
   "id": "8ed52c6c-99cf-4c8b-ac1b-024d808601b7",
   "metadata": {},
   "outputs": [
    {
     "data": {
      "text/plain": [
       "'h'"
      ]
     },
     "execution_count": 5,
     "metadata": {},
     "output_type": "execute_result"
    }
   ],
   "source": [
    "# indexing\n",
    "greet = \"hello\"\n",
    "greet[0]"
   ]
  },
  {
   "cell_type": "code",
   "execution_count": 6,
   "id": "93a2212d-708a-4494-ab6c-3a4d51b15a9b",
   "metadata": {},
   "outputs": [
    {
     "data": {
      "text/plain": [
       "'l'"
      ]
     },
     "execution_count": 6,
     "metadata": {},
     "output_type": "execute_result"
    }
   ],
   "source": [
    "greet[2]"
   ]
  },
  {
   "cell_type": "code",
   "execution_count": 7,
   "id": "6cf4d962-d68b-41bd-ad43-61744966b20c",
   "metadata": {},
   "outputs": [
    {
     "data": {
      "text/plain": [
       "'o'"
      ]
     },
     "execution_count": 7,
     "metadata": {},
     "output_type": "execute_result"
    }
   ],
   "source": [
    "# negative indexing\n",
    "greet[-1]"
   ]
  },
  {
   "cell_type": "code",
   "execution_count": 8,
   "id": "c5a2e530-3b16-444c-afd8-e3cef0c88054",
   "metadata": {},
   "outputs": [
    {
     "data": {
      "text/plain": [
       "'l'"
      ]
     },
     "execution_count": 8,
     "metadata": {},
     "output_type": "execute_result"
    }
   ],
   "source": [
    "greet[-2]"
   ]
  },
  {
   "cell_type": "code",
   "execution_count": 9,
   "id": "93b823e5-4f7b-4c95-9db5-7cde5dabfc5c",
   "metadata": {},
   "outputs": [],
   "source": [
    "# slicing\n",
    "        \n",
    "nums = \"abcd1234efgh\"\n",
    "# 2mins"
   ]
  },
  {
   "cell_type": "code",
   "execution_count": 10,
   "id": "0d24b6d1-ad90-4c2f-8d8c-b78cb84b9e5b",
   "metadata": {},
   "outputs": [
    {
     "data": {
      "text/plain": [
       "'1'"
      ]
     },
     "execution_count": 10,
     "metadata": {},
     "output_type": "execute_result"
    }
   ],
   "source": [
    "nums[4]"
   ]
  },
  {
   "cell_type": "code",
   "execution_count": 11,
   "id": "46d46c3f-f458-4606-9f88-aba7de8c8a5d",
   "metadata": {},
   "outputs": [
    {
     "data": {
      "text/plain": [
       "'123'"
      ]
     },
     "execution_count": 11,
     "metadata": {},
     "output_type": "execute_result"
    }
   ],
   "source": [
    "nums[4:7]"
   ]
  },
  {
   "cell_type": "code",
   "execution_count": 12,
   "id": "817f4b19-26f1-40f8-adc8-dd4e2333a279",
   "metadata": {},
   "outputs": [
    {
     "data": {
      "text/plain": [
       "'1234'"
      ]
     },
     "execution_count": 12,
     "metadata": {},
     "output_type": "execute_result"
    }
   ],
   "source": [
    "nums[4:8]"
   ]
  },
  {
   "cell_type": "code",
   "execution_count": 13,
   "id": "4a2a77c5-bdbb-4da4-a3a4-7e04e75f6835",
   "metadata": {},
   "outputs": [],
   "source": [
    "# striding\n",
    "nums = \"0ab1cd2ef3\""
   ]
  },
  {
   "cell_type": "code",
   "execution_count": 14,
   "id": "0b5760a9-45e4-4440-873d-2380df1de3aa",
   "metadata": {},
   "outputs": [
    {
     "data": {
      "text/plain": [
       "'0123'"
      ]
     },
     "execution_count": 14,
     "metadata": {},
     "output_type": "execute_result"
    }
   ],
   "source": [
    "nums[0::3]"
   ]
  },
  {
   "cell_type": "code",
   "execution_count": 15,
   "id": "86b6ce0d-ab3e-463f-ac7a-de0af7d901f3",
   "metadata": {},
   "outputs": [
    {
     "data": {
      "text/plain": [
       "'0123'"
      ]
     },
     "execution_count": 15,
     "metadata": {},
     "output_type": "execute_result"
    }
   ],
   "source": [
    "nums[::3]"
   ]
  },
  {
   "cell_type": "code",
   "execution_count": 16,
   "id": "d4e8da9a-e9dd-49ac-9157-cd4af2a96694",
   "metadata": {},
   "outputs": [
    {
     "name": "stdout",
     "output_type": "stream",
     "text": [
      "Help on class str in module builtins:\n",
      "\n",
      "class str(object)\n",
      " |  str(object='') -> str\n",
      " |  str(bytes_or_buffer[, encoding[, errors]]) -> str\n",
      " |\n",
      " |  Create a new string object from the given object. If encoding or\n",
      " |  errors is specified, then the object must expose a data buffer\n",
      " |  that will be decoded using the given encoding and error handler.\n",
      " |  Otherwise, returns the result of object.__str__() (if defined)\n",
      " |  or repr(object).\n",
      " |  encoding defaults to 'utf-8'.\n",
      " |  errors defaults to 'strict'.\n",
      " |\n",
      " |  Methods defined here:\n",
      " |\n",
      " |  __add__(self, value, /)\n",
      " |      Return self+value.\n",
      " |\n",
      " |  __contains__(self, key, /)\n",
      " |      Return bool(key in self).\n",
      " |\n",
      " |  __eq__(self, value, /)\n",
      " |      Return self==value.\n",
      " |\n",
      " |  __format__(self, format_spec, /)\n",
      " |      Return a formatted version of the string as described by format_spec.\n",
      " |\n",
      " |  __ge__(self, value, /)\n",
      " |      Return self>=value.\n",
      " |\n",
      " |  __getitem__(self, key, /)\n",
      " |      Return self[key].\n",
      " |\n",
      " |  __getnewargs__(self, /)\n",
      " |\n",
      " |  __gt__(self, value, /)\n",
      " |      Return self>value.\n",
      " |\n",
      " |  __hash__(self, /)\n",
      " |      Return hash(self).\n",
      " |\n",
      " |  __iter__(self, /)\n",
      " |      Implement iter(self).\n",
      " |\n",
      " |  __le__(self, value, /)\n",
      " |      Return self<=value.\n",
      " |\n",
      " |  __len__(self, /)\n",
      " |      Return len(self).\n",
      " |\n",
      " |  __lt__(self, value, /)\n",
      " |      Return self<value.\n",
      " |\n",
      " |  __mod__(self, value, /)\n",
      " |      Return self%value.\n",
      " |\n",
      " |  __mul__(self, value, /)\n",
      " |      Return self*value.\n",
      " |\n",
      " |  __ne__(self, value, /)\n",
      " |      Return self!=value.\n",
      " |\n",
      " |  __repr__(self, /)\n",
      " |      Return repr(self).\n",
      " |\n",
      " |  __rmod__(self, value, /)\n",
      " |      Return value%self.\n",
      " |\n",
      " |  __rmul__(self, value, /)\n",
      " |      Return value*self.\n",
      " |\n",
      " |  __sizeof__(self, /)\n",
      " |      Return the size of the string in memory, in bytes.\n",
      " |\n",
      " |  __str__(self, /)\n",
      " |      Return str(self).\n",
      " |\n",
      " |  capitalize(self, /)\n",
      " |      Return a capitalized version of the string.\n",
      " |\n",
      " |      More specifically, make the first character have upper case and the rest lower\n",
      " |      case.\n",
      " |\n",
      " |  casefold(self, /)\n",
      " |      Return a version of the string suitable for caseless comparisons.\n",
      " |\n",
      " |  center(self, width, fillchar=' ', /)\n",
      " |      Return a centered string of length width.\n",
      " |\n",
      " |      Padding is done using the specified fill character (default is a space).\n",
      " |\n",
      " |  count(self, sub[, start[, end]], /)\n",
      " |      Return the number of non-overlapping occurrences of substring sub in string S[start:end].\n",
      " |\n",
      " |      Optional arguments start and end are interpreted as in slice notation.\n",
      " |\n",
      " |  encode(self, /, encoding='utf-8', errors='strict')\n",
      " |      Encode the string using the codec registered for encoding.\n",
      " |\n",
      " |      encoding\n",
      " |        The encoding in which to encode the string.\n",
      " |      errors\n",
      " |        The error handling scheme to use for encoding errors.\n",
      " |        The default is 'strict' meaning that encoding errors raise a\n",
      " |        UnicodeEncodeError.  Other possible values are 'ignore', 'replace' and\n",
      " |        'xmlcharrefreplace' as well as any other name registered with\n",
      " |        codecs.register_error that can handle UnicodeEncodeErrors.\n",
      " |\n",
      " |  endswith(self, suffix[, start[, end]], /)\n",
      " |      Return True if the string ends with the specified suffix, False otherwise.\n",
      " |\n",
      " |      suffix\n",
      " |        A string or a tuple of strings to try.\n",
      " |      start\n",
      " |        Optional start position. Default: start of the string.\n",
      " |      end\n",
      " |        Optional stop position. Default: end of the string.\n",
      " |\n",
      " |  expandtabs(self, /, tabsize=8)\n",
      " |      Return a copy where all tab characters are expanded using spaces.\n",
      " |\n",
      " |      If tabsize is not given, a tab size of 8 characters is assumed.\n",
      " |\n",
      " |  find(self, sub[, start[, end]], /)\n",
      " |      Return the lowest index in S where substring sub is found, such that sub is contained within S[start:end].\n",
      " |\n",
      " |      Optional arguments start and end are interpreted as in slice notation.\n",
      " |      Return -1 on failure.\n",
      " |\n",
      " |  format(self, /, *args, **kwargs)\n",
      " |      Return a formatted version of the string, using substitutions from args and kwargs.\n",
      " |      The substitutions are identified by braces ('{' and '}').\n",
      " |\n",
      " |  format_map(self, mapping, /)\n",
      " |      Return a formatted version of the string, using substitutions from mapping.\n",
      " |      The substitutions are identified by braces ('{' and '}').\n",
      " |\n",
      " |  index(self, sub[, start[, end]], /)\n",
      " |      Return the lowest index in S where substring sub is found, such that sub is contained within S[start:end].\n",
      " |\n",
      " |      Optional arguments start and end are interpreted as in slice notation.\n",
      " |      Raises ValueError when the substring is not found.\n",
      " |\n",
      " |  isalnum(self, /)\n",
      " |      Return True if the string is an alpha-numeric string, False otherwise.\n",
      " |\n",
      " |      A string is alpha-numeric if all characters in the string are alpha-numeric and\n",
      " |      there is at least one character in the string.\n",
      " |\n",
      " |  isalpha(self, /)\n",
      " |      Return True if the string is an alphabetic string, False otherwise.\n",
      " |\n",
      " |      A string is alphabetic if all characters in the string are alphabetic and there\n",
      " |      is at least one character in the string.\n",
      " |\n",
      " |  isascii(self, /)\n",
      " |      Return True if all characters in the string are ASCII, False otherwise.\n",
      " |\n",
      " |      ASCII characters have code points in the range U+0000-U+007F.\n",
      " |      Empty string is ASCII too.\n",
      " |\n",
      " |  isdecimal(self, /)\n",
      " |      Return True if the string is a decimal string, False otherwise.\n",
      " |\n",
      " |      A string is a decimal string if all characters in the string are decimal and\n",
      " |      there is at least one character in the string.\n",
      " |\n",
      " |  isdigit(self, /)\n",
      " |      Return True if the string is a digit string, False otherwise.\n",
      " |\n",
      " |      A string is a digit string if all characters in the string are digits and there\n",
      " |      is at least one character in the string.\n",
      " |\n",
      " |  isidentifier(self, /)\n",
      " |      Return True if the string is a valid Python identifier, False otherwise.\n",
      " |\n",
      " |      Call keyword.iskeyword(s) to test whether string s is a reserved identifier,\n",
      " |      such as \"def\" or \"class\".\n",
      " |\n",
      " |  islower(self, /)\n",
      " |      Return True if the string is a lowercase string, False otherwise.\n",
      " |\n",
      " |      A string is lowercase if all cased characters in the string are lowercase and\n",
      " |      there is at least one cased character in the string.\n",
      " |\n",
      " |  isnumeric(self, /)\n",
      " |      Return True if the string is a numeric string, False otherwise.\n",
      " |\n",
      " |      A string is numeric if all characters in the string are numeric and there is at\n",
      " |      least one character in the string.\n",
      " |\n",
      " |  isprintable(self, /)\n",
      " |      Return True if all characters in the string are printable, False otherwise.\n",
      " |\n",
      " |      A character is printable if repr() may use it in its output.\n",
      " |\n",
      " |  isspace(self, /)\n",
      " |      Return True if the string is a whitespace string, False otherwise.\n",
      " |\n",
      " |      A string is whitespace if all characters in the string are whitespace and there\n",
      " |      is at least one character in the string.\n",
      " |\n",
      " |  istitle(self, /)\n",
      " |      Return True if the string is a title-cased string, False otherwise.\n",
      " |\n",
      " |      In a title-cased string, upper- and title-case characters may only\n",
      " |      follow uncased characters and lowercase characters only cased ones.\n",
      " |\n",
      " |  isupper(self, /)\n",
      " |      Return True if the string is an uppercase string, False otherwise.\n",
      " |\n",
      " |      A string is uppercase if all cased characters in the string are uppercase and\n",
      " |      there is at least one cased character in the string.\n",
      " |\n",
      " |  join(self, iterable, /)\n",
      " |      Concatenate any number of strings.\n",
      " |\n",
      " |      The string whose method is called is inserted in between each given string.\n",
      " |      The result is returned as a new string.\n",
      " |\n",
      " |      Example: '.'.join(['ab', 'pq', 'rs']) -> 'ab.pq.rs'\n",
      " |\n",
      " |  ljust(self, width, fillchar=' ', /)\n",
      " |      Return a left-justified string of length width.\n",
      " |\n",
      " |      Padding is done using the specified fill character (default is a space).\n",
      " |\n",
      " |  lower(self, /)\n",
      " |      Return a copy of the string converted to lowercase.\n",
      " |\n",
      " |  lstrip(self, chars=None, /)\n",
      " |      Return a copy of the string with leading whitespace removed.\n",
      " |\n",
      " |      If chars is given and not None, remove characters in chars instead.\n",
      " |\n",
      " |  partition(self, sep, /)\n",
      " |      Partition the string into three parts using the given separator.\n",
      " |\n",
      " |      This will search for the separator in the string.  If the separator is found,\n",
      " |      returns a 3-tuple containing the part before the separator, the separator\n",
      " |      itself, and the part after it.\n",
      " |\n",
      " |      If the separator is not found, returns a 3-tuple containing the original string\n",
      " |      and two empty strings.\n",
      " |\n",
      " |  removeprefix(self, prefix, /)\n",
      " |      Return a str with the given prefix string removed if present.\n",
      " |\n",
      " |      If the string starts with the prefix string, return string[len(prefix):].\n",
      " |      Otherwise, return a copy of the original string.\n",
      " |\n",
      " |  removesuffix(self, suffix, /)\n",
      " |      Return a str with the given suffix string removed if present.\n",
      " |\n",
      " |      If the string ends with the suffix string and that suffix is not empty,\n",
      " |      return string[:-len(suffix)]. Otherwise, return a copy of the original\n",
      " |      string.\n",
      " |\n",
      " |  replace(self, old, new, /, count=-1)\n",
      " |      Return a copy with all occurrences of substring old replaced by new.\n",
      " |\n",
      " |        count\n",
      " |          Maximum number of occurrences to replace.\n",
      " |          -1 (the default value) means replace all occurrences.\n",
      " |\n",
      " |      If the optional argument count is given, only the first count occurrences are\n",
      " |      replaced.\n",
      " |\n",
      " |  rfind(self, sub[, start[, end]], /)\n",
      " |      Return the highest index in S where substring sub is found, such that sub is contained within S[start:end].\n",
      " |\n",
      " |      Optional arguments start and end are interpreted as in slice notation.\n",
      " |      Return -1 on failure.\n",
      " |\n",
      " |  rindex(self, sub[, start[, end]], /)\n",
      " |      Return the highest index in S where substring sub is found, such that sub is contained within S[start:end].\n",
      " |\n",
      " |      Optional arguments start and end are interpreted as in slice notation.\n",
      " |      Raises ValueError when the substring is not found.\n",
      " |\n",
      " |  rjust(self, width, fillchar=' ', /)\n",
      " |      Return a right-justified string of length width.\n",
      " |\n",
      " |      Padding is done using the specified fill character (default is a space).\n",
      " |\n",
      " |  rpartition(self, sep, /)\n",
      " |      Partition the string into three parts using the given separator.\n",
      " |\n",
      " |      This will search for the separator in the string, starting at the end. If\n",
      " |      the separator is found, returns a 3-tuple containing the part before the\n",
      " |      separator, the separator itself, and the part after it.\n",
      " |\n",
      " |      If the separator is not found, returns a 3-tuple containing two empty strings\n",
      " |      and the original string.\n",
      " |\n",
      " |  rsplit(self, /, sep=None, maxsplit=-1)\n",
      " |      Return a list of the substrings in the string, using sep as the separator string.\n",
      " |\n",
      " |        sep\n",
      " |          The separator used to split the string.\n",
      " |\n",
      " |          When set to None (the default value), will split on any whitespace\n",
      " |          character (including \\n \\r \\t \\f and spaces) and will discard\n",
      " |          empty strings from the result.\n",
      " |        maxsplit\n",
      " |          Maximum number of splits.\n",
      " |          -1 (the default value) means no limit.\n",
      " |\n",
      " |      Splitting starts at the end of the string and works to the front.\n",
      " |\n",
      " |  rstrip(self, chars=None, /)\n",
      " |      Return a copy of the string with trailing whitespace removed.\n",
      " |\n",
      " |      If chars is given and not None, remove characters in chars instead.\n",
      " |\n",
      " |  split(self, /, sep=None, maxsplit=-1)\n",
      " |      Return a list of the substrings in the string, using sep as the separator string.\n",
      " |\n",
      " |        sep\n",
      " |          The separator used to split the string.\n",
      " |\n",
      " |          When set to None (the default value), will split on any whitespace\n",
      " |          character (including \\n \\r \\t \\f and spaces) and will discard\n",
      " |          empty strings from the result.\n",
      " |        maxsplit\n",
      " |          Maximum number of splits.\n",
      " |          -1 (the default value) means no limit.\n",
      " |\n",
      " |      Splitting starts at the front of the string and works to the end.\n",
      " |\n",
      " |      Note, str.split() is mainly useful for data that has been intentionally\n",
      " |      delimited.  With natural text that includes punctuation, consider using\n",
      " |      the regular expression module.\n",
      " |\n",
      " |  splitlines(self, /, keepends=False)\n",
      " |      Return a list of the lines in the string, breaking at line boundaries.\n",
      " |\n",
      " |      Line breaks are not included in the resulting list unless keepends is given and\n",
      " |      true.\n",
      " |\n",
      " |  startswith(self, prefix[, start[, end]], /)\n",
      " |      Return True if the string starts with the specified prefix, False otherwise.\n",
      " |\n",
      " |      prefix\n",
      " |        A string or a tuple of strings to try.\n",
      " |      start\n",
      " |        Optional start position. Default: start of the string.\n",
      " |      end\n",
      " |        Optional stop position. Default: end of the string.\n",
      " |\n",
      " |  strip(self, chars=None, /)\n",
      " |      Return a copy of the string with leading and trailing whitespace removed.\n",
      " |\n",
      " |      If chars is given and not None, remove characters in chars instead.\n",
      " |\n",
      " |  swapcase(self, /)\n",
      " |      Convert uppercase characters to lowercase and lowercase characters to uppercase.\n",
      " |\n",
      " |  title(self, /)\n",
      " |      Return a version of the string where each word is titlecased.\n",
      " |\n",
      " |      More specifically, words start with uppercased characters and all remaining\n",
      " |      cased characters have lower case.\n",
      " |\n",
      " |  translate(self, table, /)\n",
      " |      Replace each character in the string using the given translation table.\n",
      " |\n",
      " |        table\n",
      " |          Translation table, which must be a mapping of Unicode ordinals to\n",
      " |          Unicode ordinals, strings, or None.\n",
      " |\n",
      " |      The table must implement lookup/indexing via __getitem__, for instance a\n",
      " |      dictionary or list.  If this operation raises LookupError, the character is\n",
      " |      left untouched.  Characters mapped to None are deleted.\n",
      " |\n",
      " |  upper(self, /)\n",
      " |      Return a copy of the string converted to uppercase.\n",
      " |\n",
      " |  zfill(self, width, /)\n",
      " |      Pad a numeric string with zeros on the left, to fill a field of the given width.\n",
      " |\n",
      " |      The string is never truncated.\n",
      " |\n",
      " |  ----------------------------------------------------------------------\n",
      " |  Static methods defined here:\n",
      " |\n",
      " |  __new__(*args, **kwargs)\n",
      " |      Create and return a new object.  See help(type) for accurate signature.\n",
      " |\n",
      " |  maketrans(x, y=<unrepresentable>, z=<unrepresentable>, /)\n",
      " |      Return a translation table usable for str.translate().\n",
      " |\n",
      " |      If there is only one argument, it must be a dictionary mapping Unicode\n",
      " |      ordinals (integers) or characters to Unicode ordinals, strings or None.\n",
      " |      Character keys will be then converted to ordinals.\n",
      " |      If there are two arguments, they must be strings of equal length, and\n",
      " |      in the resulting dictionary, each character in x will be mapped to the\n",
      " |      character at the same position in y. If there is a third argument, it\n",
      " |      must be a string, whose characters will be mapped to None in the result.\n",
      "\n"
     ]
    }
   ],
   "source": [
    "help(str)"
   ]
  },
  {
   "cell_type": "code",
   "execution_count": 17,
   "id": "a60673eb-7911-4eda-a9a2-e1fb7bf0423f",
   "metadata": {},
   "outputs": [],
   "source": [
    "string1 = \"bhasker buddy\""
   ]
  },
  {
   "cell_type": "code",
   "execution_count": 18,
   "id": "a1777cda-6b96-4221-8c65-b342dd460f76",
   "metadata": {},
   "outputs": [
    {
     "data": {
      "text/plain": [
       "'Bhasker buddy'"
      ]
     },
     "execution_count": 18,
     "metadata": {},
     "output_type": "execute_result"
    }
   ],
   "source": [
    "string1.capitalize()"
   ]
  },
  {
   "cell_type": "code",
   "execution_count": 19,
   "id": "fd9213b6-c324-4d6a-b916-e3b2a1691d02",
   "metadata": {},
   "outputs": [
    {
     "name": "stdout",
     "output_type": "stream",
     "text": [
      "2\n"
     ]
    }
   ],
   "source": [
    "count = 0\n",
    "for i in string1:\n",
    "    if i == \"b\":\n",
    "        count+=1\n",
    "print(count)"
   ]
  },
  {
   "cell_type": "code",
   "execution_count": 21,
   "id": "ea8f205e-bcea-44ce-80b7-40b56cc06eaf",
   "metadata": {},
   "outputs": [
    {
     "data": {
      "text/plain": [
       "2"
      ]
     },
     "execution_count": 21,
     "metadata": {},
     "output_type": "execute_result"
    }
   ],
   "source": [
    "string1.count(\"b\")"
   ]
  },
  {
   "cell_type": "code",
   "execution_count": 22,
   "id": "949b0bd6-4d6b-4906-a082-afa4a2c7ae78",
   "metadata": {},
   "outputs": [
    {
     "data": {
      "text/plain": [
       "True"
      ]
     },
     "execution_count": 22,
     "metadata": {},
     "output_type": "execute_result"
    }
   ],
   "source": [
    "# endswith\n",
    "str2 = \"Sunaina\"\n",
    "str2.endswith(\"a\")"
   ]
  },
  {
   "cell_type": "code",
   "execution_count": 23,
   "id": "8680d52c-2db3-4a94-86e3-5224928b72bf",
   "metadata": {},
   "outputs": [
    {
     "data": {
      "text/plain": [
       "False"
      ]
     },
     "execution_count": 23,
     "metadata": {},
     "output_type": "execute_result"
    }
   ],
   "source": [
    "str2.endswith(\"e\")"
   ]
  },
  {
   "cell_type": "code",
   "execution_count": 24,
   "id": "281f29c1-ade6-4735-8da7-68c00183f174",
   "metadata": {},
   "outputs": [
    {
     "data": {
      "text/plain": [
       "46"
      ]
     },
     "execution_count": 24,
     "metadata": {},
     "output_type": "execute_result"
    }
   ],
   "source": [
    "# find\n",
    "str3 = \"Hey I am studying in edyoda and I am learning python\"\n",
    "str3.find(\"python\")"
   ]
  },
  {
   "cell_type": "code",
   "execution_count": 25,
   "id": "eccb27d2-1c6e-4e62-bf49-2eb26e628a21",
   "metadata": {},
   "outputs": [],
   "source": [
    "# format\n",
    "form = \"\"\"Name of candidate: {},\n",
    "Course Enrolled: {}\"\"\""
   ]
  },
  {
   "cell_type": "code",
   "execution_count": 26,
   "id": "70cb2129-fdc3-4914-a0a2-cc7e93500d09",
   "metadata": {},
   "outputs": [
    {
     "data": {
      "text/plain": [
       "'Name of candidate: {},\\nCourse Enrolled: {}'"
      ]
     },
     "execution_count": 26,
     "metadata": {},
     "output_type": "execute_result"
    }
   ],
   "source": [
    "form"
   ]
  },
  {
   "cell_type": "code",
   "execution_count": 29,
   "id": "6ffc4151-2341-4b3a-bd59-17f14991ee6f",
   "metadata": {},
   "outputs": [],
   "source": [
    "name = \"kailash\"\n",
    "enrolled = \"python\"\n",
    "form = \"\"\"Name of candidate: {},\n",
    "Course Enrolled: {}\"\"\".format(name.capitalize(), enrolled.capitalize())"
   ]
  },
  {
   "cell_type": "code",
   "execution_count": 30,
   "id": "9c432747-be0e-46c6-848f-f918b6ab5a29",
   "metadata": {},
   "outputs": [
    {
     "name": "stdout",
     "output_type": "stream",
     "text": [
      "Name of candidate: Kailash,\n",
      "Course Enrolled: Python\n"
     ]
    }
   ],
   "source": [
    "print(form)"
   ]
  },
  {
   "cell_type": "code",
   "execution_count": 31,
   "id": "9ee5d1f2-4c4b-472b-bf33-86b75daa775b",
   "metadata": {},
   "outputs": [],
   "source": [
    "form = \"\"\"Name of candidate: {nam},\n",
    "Course Enrolled: {enrol}\"\"\".format(enrol=enrolled.capitalize(), nam=name.capitalize())"
   ]
  },
  {
   "cell_type": "code",
   "execution_count": 32,
   "id": "04a0d26b-a842-4747-b85f-6a9877adb02b",
   "metadata": {},
   "outputs": [
    {
     "data": {
      "text/plain": [
       "'Name of candidate: Kailash,\\nCourse Enrolled: Python'"
      ]
     },
     "execution_count": 32,
     "metadata": {},
     "output_type": "execute_result"
    }
   ],
   "source": [
    "form"
   ]
  },
  {
   "cell_type": "code",
   "execution_count": 36,
   "id": "f14d5fcd-301b-42e2-8598-5e3b20e21dc7",
   "metadata": {},
   "outputs": [],
   "source": [
    "school = \"edyoda\"\n",
    "val = f\"I study in {school.capitalize()}\""
   ]
  },
  {
   "cell_type": "code",
   "execution_count": 37,
   "id": "b4313fcc-21f0-4c41-b169-d6ddfc7ec0b6",
   "metadata": {},
   "outputs": [
    {
     "data": {
      "text/plain": [
       "'I study in Edyoda'"
      ]
     },
     "execution_count": 37,
     "metadata": {},
     "output_type": "execute_result"
    }
   ],
   "source": [
    "val"
   ]
  },
  {
   "cell_type": "code",
   "execution_count": 38,
   "id": "55a86a58-cf4c-4527-92b2-62d04f0db1af",
   "metadata": {},
   "outputs": [],
   "source": [
    "val1 = \"Hello \"\n",
    "val2 = \"dev\""
   ]
  },
  {
   "cell_type": "code",
   "execution_count": 39,
   "id": "f858082a-6ee6-486b-aec0-8817c3e1eba2",
   "metadata": {},
   "outputs": [
    {
     "data": {
      "text/plain": [
       "2320049760720"
      ]
     },
     "execution_count": 39,
     "metadata": {},
     "output_type": "execute_result"
    }
   ],
   "source": [
    "id(val1)"
   ]
  },
  {
   "cell_type": "code",
   "execution_count": 40,
   "id": "382359d4-3743-423d-a618-bdd8951cf4a1",
   "metadata": {},
   "outputs": [
    {
     "data": {
      "text/plain": [
       "2319938517632"
      ]
     },
     "execution_count": 40,
     "metadata": {},
     "output_type": "execute_result"
    }
   ],
   "source": [
    "id (val2)"
   ]
  },
  {
   "cell_type": "code",
   "execution_count": 41,
   "id": "d2d58f2e-7511-4b96-acc4-fb5c74cf106e",
   "metadata": {},
   "outputs": [],
   "source": [
    "val1 = val1 + val2"
   ]
  },
  {
   "cell_type": "code",
   "execution_count": 42,
   "id": "be0787d8-33bc-4f68-a918-2f006944fcad",
   "metadata": {},
   "outputs": [
    {
     "data": {
      "text/plain": [
       "'Hello dev'"
      ]
     },
     "execution_count": 42,
     "metadata": {},
     "output_type": "execute_result"
    }
   ],
   "source": [
    "val1"
   ]
  },
  {
   "cell_type": "code",
   "execution_count": 43,
   "id": "01b311aa-856a-4f42-8424-0ae68af06943",
   "metadata": {},
   "outputs": [
    {
     "data": {
      "text/plain": [
       "2320042771376"
      ]
     },
     "execution_count": 43,
     "metadata": {},
     "output_type": "execute_result"
    }
   ],
   "source": [
    "id(val1)"
   ]
  },
  {
   "cell_type": "code",
   "execution_count": 44,
   "id": "2a24f9b2-3d17-4ca6-96c5-9e1182cda6a0",
   "metadata": {},
   "outputs": [],
   "source": [
    "# index (experinting on your own)"
   ]
  },
  {
   "cell_type": "code",
   "execution_count": 45,
   "id": "b1bd3502-126d-43e2-8b1a-137c5d65e47a",
   "metadata": {},
   "outputs": [],
   "source": [
    "# isdecimal"
   ]
  },
  {
   "cell_type": "code",
   "execution_count": 46,
   "id": "ac8f6a71-02ca-4de1-99da-c015938a85e0",
   "metadata": {},
   "outputs": [],
   "source": [
    "val3 = \"125\""
   ]
  },
  {
   "cell_type": "code",
   "execution_count": 47,
   "id": "57d5b8c2-aacd-470e-a66f-4d88d0271dce",
   "metadata": {},
   "outputs": [
    {
     "data": {
      "text/plain": [
       "True"
      ]
     },
     "execution_count": 47,
     "metadata": {},
     "output_type": "execute_result"
    }
   ],
   "source": [
    "val3.isdecimal()"
   ]
  },
  {
   "cell_type": "code",
   "execution_count": 48,
   "id": "041ee763-eff3-4ab2-8cc6-19695ef6da2e",
   "metadata": {},
   "outputs": [],
   "source": [
    "if val3.isdecimal():\n",
    "    val3 = int(val3)"
   ]
  },
  {
   "cell_type": "code",
   "execution_count": 49,
   "id": "e32a237d-d98c-4a62-9b3d-b3ac8fe457d8",
   "metadata": {},
   "outputs": [
    {
     "data": {
      "text/plain": [
       "int"
      ]
     },
     "execution_count": 49,
     "metadata": {},
     "output_type": "execute_result"
    }
   ],
   "source": [
    "type(val3)"
   ]
  },
  {
   "cell_type": "code",
   "execution_count": 50,
   "id": "a37f5ba8-09f8-453e-a788-12152fc4134c",
   "metadata": {},
   "outputs": [
    {
     "data": {
      "text/plain": [
       "True"
      ]
     },
     "execution_count": 50,
     "metadata": {},
     "output_type": "execute_result"
    }
   ],
   "source": [
    "\"fun\".islower()"
   ]
  },
  {
   "cell_type": "code",
   "execution_count": 51,
   "id": "fa09ca03-e2f1-42ec-923e-5ffd9bf0d4b6",
   "metadata": {},
   "outputs": [
    {
     "data": {
      "text/plain": [
       "False"
      ]
     },
     "execution_count": 51,
     "metadata": {},
     "output_type": "execute_result"
    }
   ],
   "source": [
    "\"Fun\".islower()"
   ]
  },
  {
   "cell_type": "code",
   "execution_count": 52,
   "id": "218fdeb5-4ce4-4414-a1d4-e39c7c59beff",
   "metadata": {},
   "outputs": [
    {
     "data": {
      "text/plain": [
       "'FUN'"
      ]
     },
     "execution_count": 52,
     "metadata": {},
     "output_type": "execute_result"
    }
   ],
   "source": [
    "\"fun\".upper()"
   ]
  },
  {
   "cell_type": "code",
   "execution_count": 53,
   "id": "c7798729-5c91-4a62-96d5-3eab732a6834",
   "metadata": {},
   "outputs": [],
   "source": [
    "# join"
   ]
  },
  {
   "cell_type": "code",
   "execution_count": 54,
   "id": "0b9c86ce-54d6-4110-9830-eb60f40062f6",
   "metadata": {},
   "outputs": [],
   "source": [
    "col1 = [\"I\", \"am\", \"indian\"]"
   ]
  },
  {
   "cell_type": "code",
   "execution_count": 55,
   "id": "aae28da6-deb3-4df0-acc5-8b43cfe9f96e",
   "metadata": {},
   "outputs": [
    {
     "data": {
      "text/plain": [
       "'I am indian'"
      ]
     },
     "execution_count": 55,
     "metadata": {},
     "output_type": "execute_result"
    }
   ],
   "source": [
    "\" \".join(col1)"
   ]
  },
  {
   "cell_type": "code",
   "execution_count": 56,
   "id": "7e87dea5-cb42-411c-994c-2c75ff2c303b",
   "metadata": {},
   "outputs": [
    {
     "data": {
      "text/plain": [
       "'Iamindian'"
      ]
     },
     "execution_count": 56,
     "metadata": {},
     "output_type": "execute_result"
    }
   ],
   "source": [
    "\"\".join(col1)"
   ]
  },
  {
   "cell_type": "code",
   "execution_count": 57,
   "id": "566cf8e9-2c41-459b-8365-b8b6105ecf5d",
   "metadata": {},
   "outputs": [
    {
     "data": {
      "text/plain": [
       "'I-am-indian'"
      ]
     },
     "execution_count": 57,
     "metadata": {},
     "output_type": "execute_result"
    }
   ],
   "source": [
    "\"-\".join(col1)"
   ]
  },
  {
   "cell_type": "code",
   "execution_count": 58,
   "id": "50860444-df94-48df-a90a-3af6c535bed3",
   "metadata": {},
   "outputs": [],
   "source": [
    "# replace"
   ]
  },
  {
   "cell_type": "code",
   "execution_count": 59,
   "id": "60543a4b-4cc5-4ba5-b9bd-4bcca4f1bd9f",
   "metadata": {},
   "outputs": [],
   "source": [
    "str4 = \"I am going to cannada\""
   ]
  },
  {
   "cell_type": "code",
   "execution_count": 60,
   "id": "d3647401-d9cf-4d88-b07d-fb92d4911e03",
   "metadata": {},
   "outputs": [
    {
     "data": {
      "text/plain": [
       "'I am going to Canada'"
      ]
     },
     "execution_count": 60,
     "metadata": {},
     "output_type": "execute_result"
    }
   ],
   "source": [
    "str4.replace(\"cannada\", \"Canada\")"
   ]
  },
  {
   "cell_type": "code",
   "execution_count": 61,
   "id": "98979147-ff88-450c-87b8-1ccaeea5e692",
   "metadata": {},
   "outputs": [
    {
     "data": {
      "text/plain": [
       "2320042310384"
      ]
     },
     "execution_count": 61,
     "metadata": {},
     "output_type": "execute_result"
    }
   ],
   "source": [
    "id(str4)"
   ]
  },
  {
   "cell_type": "code",
   "execution_count": 62,
   "id": "050a71dd-789d-4465-b76b-f25e7231cb1c",
   "metadata": {},
   "outputs": [
    {
     "data": {
      "text/plain": [
       "2320042363056"
      ]
     },
     "execution_count": 62,
     "metadata": {},
     "output_type": "execute_result"
    }
   ],
   "source": [
    "id(str4.replace(\"cannada\", \"Canada\"))"
   ]
  },
  {
   "cell_type": "code",
   "execution_count": null,
   "id": "7e9088cb-f73c-4430-a354-416dcc9b1435",
   "metadata": {},
   "outputs": [],
   "source": [
    "str4.replace()"
   ]
  },
  {
   "cell_type": "code",
   "execution_count": 63,
   "id": "a5a319f2-69ab-4925-8b43-6f2a595c0f43",
   "metadata": {},
   "outputs": [],
   "source": [
    "# split()"
   ]
  },
  {
   "cell_type": "code",
   "execution_count": null,
   "id": "be9da73b-7dfd-4223-b8f7-fb8b0151068a",
   "metadata": {},
   "outputs": [],
   "source": [
    "numbers = input(\"Enter the numbers\")"
   ]
  },
  {
   "cell_type": "code",
   "execution_count": 65,
   "id": "506d8ffd-92ce-49d8-901c-24d2d0f57da4",
   "metadata": {},
   "outputs": [
    {
     "data": {
      "text/plain": [
       "'1,5,6,8,10,1002,-25'"
      ]
     },
     "execution_count": 65,
     "metadata": {},
     "output_type": "execute_result"
    }
   ],
   "source": [
    "numbers"
   ]
  },
  {
   "cell_type": "code",
   "execution_count": 66,
   "id": "a25bdb7b-21e2-4c90-b545-ce60225be292",
   "metadata": {},
   "outputs": [],
   "source": [
    "list_nums = []\n",
    "temp = \"\"\n",
    "for val in numbers:\n",
    "    if val == \",\" or val == \"\":\n",
    "        if val.isdecimal():\n",
    "        list_nums.append(int(val))\n",
    "    temp += val"
   ]
  },
  {
   "cell_type": "code",
   "execution_count": 67,
   "id": "a07cec06-e8cd-48b4-b1f3-3f34493eb75a",
   "metadata": {},
   "outputs": [
    {
     "data": {
      "text/plain": [
       "[1, 5, 6, 8, 1, 0, 1, 0, 0, 2, 2, 5]"
      ]
     },
     "execution_count": 67,
     "metadata": {},
     "output_type": "execute_result"
    }
   ],
   "source": [
    "list_nums"
   ]
  },
  {
   "cell_type": "code",
   "execution_count": 68,
   "id": "5b8d1a7d-c7be-4688-acf5-2ff0b7990cf1",
   "metadata": {},
   "outputs": [],
   "source": [
    "numbers = numbers.split(\",\")"
   ]
  },
  {
   "cell_type": "code",
   "execution_count": 69,
   "id": "3260118b-3e89-40c6-adfb-52cac410c6cd",
   "metadata": {},
   "outputs": [
    {
     "data": {
      "text/plain": [
       "['1', '5', '6', '8', '10', '1002', '-25']"
      ]
     },
     "execution_count": 69,
     "metadata": {},
     "output_type": "execute_result"
    }
   ],
   "source": [
    "numbers"
   ]
  },
  {
   "cell_type": "code",
   "execution_count": null,
   "id": "81ed2742-8d6a-4ab3-a204-af0b6639fda2",
   "metadata": {},
   "outputs": [],
   "source": [
    "numbers.split()"
   ]
  },
  {
   "cell_type": "markdown",
   "id": "f41a420a-04fa-486b-abe9-1a2b1e4ab32d",
   "metadata": {},
   "source": [
    "### tuple"
   ]
  },
  {
   "cell_type": "code",
   "execution_count": 72,
   "id": "66e2e562-3b2a-4fa7-95f8-8c470e314d2a",
   "metadata": {},
   "outputs": [],
   "source": [
    "tuple1 = ()"
   ]
  },
  {
   "cell_type": "code",
   "execution_count": 73,
   "id": "c55add1e-29fb-4f0d-8c38-21bc0f72ef61",
   "metadata": {},
   "outputs": [
    {
     "data": {
      "text/plain": [
       "tuple"
      ]
     },
     "execution_count": 73,
     "metadata": {},
     "output_type": "execute_result"
    }
   ],
   "source": [
    "type(tuple1)"
   ]
  },
  {
   "cell_type": "code",
   "execution_count": 75,
   "id": "af3c9b87-34f8-43af-a4c8-e7b4112b29c3",
   "metadata": {},
   "outputs": [
    {
     "name": "stdout",
     "output_type": "stream",
     "text": [
      "<class 'tuple'>\n"
     ]
    }
   ],
   "source": [
    "print(type(tuple1))"
   ]
  },
  {
   "cell_type": "code",
   "execution_count": null,
   "id": "75c75513-4e05-4cc1-bace-bb87eb4ce7b8",
   "metadata": {},
   "outputs": [],
   "source": [
    "Limitation:\n",
    " its unchangable. once defined you cannot change the value"
   ]
  },
  {
   "cell_type": "code",
   "execution_count": 76,
   "id": "5f9459d3-e289-4f45-b51b-49f462f7f1b6",
   "metadata": {},
   "outputs": [],
   "source": [
    "tuple2 = (1, 5, \"kailash\", \"Bhavesh\", tuple1, [1, 5.5, 9], 5j)"
   ]
  },
  {
   "cell_type": "code",
   "execution_count": 77,
   "id": "681f8b88-40e7-44ca-b2d8-0e42cfc84a85",
   "metadata": {
    "collapsed": true,
    "jupyter": {
     "outputs_hidden": true
    }
   },
   "outputs": [
    {
     "name": "stdout",
     "output_type": "stream",
     "text": [
      "Help on class tuple in module builtins:\n",
      "\n",
      "class tuple(object)\n",
      " |  tuple(iterable=(), /)\n",
      " |\n",
      " |  Built-in immutable sequence.\n",
      " |\n",
      " |  If no argument is given, the constructor returns an empty tuple.\n",
      " |  If iterable is specified the tuple is initialized from iterable's items.\n",
      " |\n",
      " |  If the argument is a tuple, the return value is the same object.\n",
      " |\n",
      " |  Built-in subclasses:\n",
      " |      asyncgen_hooks\n",
      " |      UnraisableHookArgs\n",
      " |\n",
      " |  Methods defined here:\n",
      " |\n",
      " |  __add__(self, value, /)\n",
      " |      Return self+value.\n",
      " |\n",
      " |  __contains__(self, key, /)\n",
      " |      Return bool(key in self).\n",
      " |\n",
      " |  __eq__(self, value, /)\n",
      " |      Return self==value.\n",
      " |\n",
      " |  __ge__(self, value, /)\n",
      " |      Return self>=value.\n",
      " |\n",
      " |  __getattribute__(self, name, /)\n",
      " |      Return getattr(self, name).\n",
      " |\n",
      " |  __getitem__(self, key, /)\n",
      " |      Return self[key].\n",
      " |\n",
      " |  __getnewargs__(self, /)\n",
      " |\n",
      " |  __gt__(self, value, /)\n",
      " |      Return self>value.\n",
      " |\n",
      " |  __hash__(self, /)\n",
      " |      Return hash(self).\n",
      " |\n",
      " |  __iter__(self, /)\n",
      " |      Implement iter(self).\n",
      " |\n",
      " |  __le__(self, value, /)\n",
      " |      Return self<=value.\n",
      " |\n",
      " |  __len__(self, /)\n",
      " |      Return len(self).\n",
      " |\n",
      " |  __lt__(self, value, /)\n",
      " |      Return self<value.\n",
      " |\n",
      " |  __mul__(self, value, /)\n",
      " |      Return self*value.\n",
      " |\n",
      " |  __ne__(self, value, /)\n",
      " |      Return self!=value.\n",
      " |\n",
      " |  __repr__(self, /)\n",
      " |      Return repr(self).\n",
      " |\n",
      " |  __rmul__(self, value, /)\n",
      " |      Return value*self.\n",
      " |\n",
      " |  count(self, value, /)\n",
      " |      Return number of occurrences of value.\n",
      " |\n",
      " |  index(self, value, start=0, stop=9223372036854775807, /)\n",
      " |      Return first index of value.\n",
      " |\n",
      " |      Raises ValueError if the value is not present.\n",
      " |\n",
      " |  ----------------------------------------------------------------------\n",
      " |  Class methods defined here:\n",
      " |\n",
      " |  __class_getitem__(object, /)\n",
      " |      See PEP 585\n",
      " |\n",
      " |  ----------------------------------------------------------------------\n",
      " |  Static methods defined here:\n",
      " |\n",
      " |  __new__(*args, **kwargs)\n",
      " |      Create and return a new object.  See help(type) for accurate signature.\n",
      "\n"
     ]
    }
   ],
   "source": [
    "help(tuple)"
   ]
  },
  {
   "cell_type": "code",
   "execution_count": 78,
   "id": "55087f9e-2590-4055-b720-a7efe7f675f1",
   "metadata": {},
   "outputs": [
    {
     "data": {
      "text/plain": [
       "5"
      ]
     },
     "execution_count": 78,
     "metadata": {},
     "output_type": "execute_result"
    }
   ],
   "source": [
    "tuple2[1]"
   ]
  },
  {
   "cell_type": "code",
   "execution_count": 79,
   "id": "0e7163d7-1b1e-4857-b55e-c30fae38ece7",
   "metadata": {},
   "outputs": [
    {
     "ename": "TypeError",
     "evalue": "'tuple' object does not support item assignment",
     "output_type": "error",
     "traceback": [
      "\u001b[1;31m---------------------------------------------------------------------------\u001b[0m",
      "\u001b[1;31mTypeError\u001b[0m                                 Traceback (most recent call last)",
      "Cell \u001b[1;32mIn[79], line 1\u001b[0m\n\u001b[1;32m----> 1\u001b[0m \u001b[43mtuple2\u001b[49m\u001b[43m[\u001b[49m\u001b[38;5;241;43m1\u001b[39;49m\u001b[43m]\u001b[49m \u001b[38;5;241m=\u001b[39m \u001b[38;5;124m\"\u001b[39m\u001b[38;5;124msome val\u001b[39m\u001b[38;5;124m\"\u001b[39m\n",
      "\u001b[1;31mTypeError\u001b[0m: 'tuple' object does not support item assignment"
     ]
    }
   ],
   "source": [
    "tuple2[1] = \"some val\""
   ]
  },
  {
   "cell_type": "code",
   "execution_count": 80,
   "id": "fa83e581-685e-43a7-8493-6c3f3fd8aa29",
   "metadata": {},
   "outputs": [
    {
     "data": {
      "text/plain": [
       "[1, 5.5, 9]"
      ]
     },
     "execution_count": 80,
     "metadata": {},
     "output_type": "execute_result"
    }
   ],
   "source": [
    "tuple2[-2]"
   ]
  },
  {
   "cell_type": "code",
   "execution_count": 81,
   "id": "a5a78b35-f881-428b-b4f7-0ca823a3bca6",
   "metadata": {},
   "outputs": [],
   "source": [
    "tuple2[-2].append(\"Shankar\")"
   ]
  },
  {
   "cell_type": "code",
   "execution_count": 82,
   "id": "7921bc9e-c75e-4b2b-9ecd-3940917f3f90",
   "metadata": {},
   "outputs": [
    {
     "data": {
      "text/plain": [
       "(1, 5, 'kailash', 'Bhavesh', (), [1, 5.5, 9, 'Shankar'], 5j)"
      ]
     },
     "execution_count": 82,
     "metadata": {},
     "output_type": "execute_result"
    }
   ],
   "source": [
    "tuple2"
   ]
  },
  {
   "cell_type": "markdown",
   "id": "aa50f3dc-7bb3-4091-af59-007849f7d4c0",
   "metadata": {},
   "source": [
    "## Dictionary"
   ]
  },
  {
   "cell_type": "code",
   "execution_count": null,
   "id": "a3011901-23bb-429a-97f0-c8f6bf02148f",
   "metadata": {},
   "outputs": [],
   "source": [
    "# key value pair\n",
    "# key of dictionay has to be an immutable data type\n",
    "# Dictionary doesnot allow duplicate key\n",
    "# Dictionary is a mutable data type\n",
    "{\"key\": [1, 5]}"
   ]
  },
  {
   "cell_type": "code",
   "execution_count": 83,
   "id": "046f161a-4457-4c0a-b99b-1c64d19385d2",
   "metadata": {},
   "outputs": [],
   "source": [
    "dict1 = {}"
   ]
  },
  {
   "cell_type": "code",
   "execution_count": 84,
   "id": "7c73a4c0-03bc-4421-bb3f-f64bdd52606e",
   "metadata": {},
   "outputs": [
    {
     "data": {
      "text/plain": [
       "dict"
      ]
     },
     "execution_count": 84,
     "metadata": {},
     "output_type": "execute_result"
    }
   ],
   "source": [
    "type(dict1)"
   ]
  },
  {
   "cell_type": "code",
   "execution_count": 85,
   "id": "4f998750-6658-4adc-8bb6-ee4f5f0640e5",
   "metadata": {},
   "outputs": [],
   "source": [
    "dict1 = {\n",
    "    \"name\": \"Tanushri\",\n",
    "    58: \"number\",\n",
    "    (1,): [5],\n",
    "    None: 5j,\n",
    "    8j: 0.0\n",
    "}"
   ]
  },
  {
   "cell_type": "code",
   "execution_count": 86,
   "id": "0333ea92-d209-4045-84c0-f3150c3bb515",
   "metadata": {},
   "outputs": [
    {
     "data": {
      "text/plain": [
       "{'name': 'Tanushri', 58: 'number', (1,): [5], None: 5j, 8j: 0.0}"
      ]
     },
     "execution_count": 86,
     "metadata": {},
     "output_type": "execute_result"
    }
   ],
   "source": [
    "dict1"
   ]
  },
  {
   "cell_type": "code",
   "execution_count": 87,
   "id": "28edf2d4-180a-4566-a025-6c52a0663d10",
   "metadata": {},
   "outputs": [
    {
     "ename": "TypeError",
     "evalue": "unhashable type: 'list'",
     "output_type": "error",
     "traceback": [
      "\u001b[1;31m---------------------------------------------------------------------------\u001b[0m",
      "\u001b[1;31mTypeError\u001b[0m                                 Traceback (most recent call last)",
      "Cell \u001b[1;32mIn[87], line 1\u001b[0m\n\u001b[1;32m----> 1\u001b[0m dict2 \u001b[38;5;241m=\u001b[39m {\n\u001b[0;32m      2\u001b[0m     []: \u001b[38;5;241m5\u001b[39m\n\u001b[0;32m      3\u001b[0m }\n",
      "\u001b[1;31mTypeError\u001b[0m: unhashable type: 'list'"
     ]
    }
   ],
   "source": [
    "dict2 = {\n",
    "    []: 5\n",
    "}"
   ]
  },
  {
   "cell_type": "code",
   "execution_count": 88,
   "id": "fc1326ea-7543-43e5-9eec-16ccef96f479",
   "metadata": {},
   "outputs": [
    {
     "data": {
      "text/plain": [
       "'number'"
      ]
     },
     "execution_count": 88,
     "metadata": {},
     "output_type": "execute_result"
    }
   ],
   "source": [
    "dict1[58]"
   ]
  },
  {
   "cell_type": "code",
   "execution_count": 89,
   "id": "dc9c0afb-3f22-4dd5-afc7-a571551c3b0a",
   "metadata": {},
   "outputs": [
    {
     "data": {
      "text/plain": [
       "5j"
      ]
     },
     "execution_count": 89,
     "metadata": {},
     "output_type": "execute_result"
    }
   ],
   "source": [
    "dict1[None]"
   ]
  },
  {
   "cell_type": "code",
   "execution_count": 90,
   "id": "87961e41-bb37-4c02-bd99-8d06b760517d",
   "metadata": {},
   "outputs": [
    {
     "data": {
      "text/plain": [
       "'Tanushri'"
      ]
     },
     "execution_count": 90,
     "metadata": {},
     "output_type": "execute_result"
    }
   ],
   "source": [
    "dict1.get(\"name\")"
   ]
  },
  {
   "cell_type": "code",
   "execution_count": 91,
   "id": "c7e57cbc-cde5-4ab5-8d1a-d889f0ad1f53",
   "metadata": {},
   "outputs": [
    {
     "ename": "KeyError",
     "evalue": "89",
     "output_type": "error",
     "traceback": [
      "\u001b[1;31m---------------------------------------------------------------------------\u001b[0m",
      "\u001b[1;31mKeyError\u001b[0m                                  Traceback (most recent call last)",
      "Cell \u001b[1;32mIn[91], line 1\u001b[0m\n\u001b[1;32m----> 1\u001b[0m \u001b[43mdict1\u001b[49m\u001b[43m[\u001b[49m\u001b[38;5;241;43m89\u001b[39;49m\u001b[43m]\u001b[49m\n",
      "\u001b[1;31mKeyError\u001b[0m: 89"
     ]
    }
   ],
   "source": [
    "dict1[89]"
   ]
  },
  {
   "cell_type": "code",
   "execution_count": 92,
   "id": "49a705a7-858b-4435-88d1-f43d03d1b387",
   "metadata": {},
   "outputs": [],
   "source": [
    "dict1.get(89)"
   ]
  },
  {
   "cell_type": "code",
   "execution_count": 93,
   "id": "3515df7d-254c-45e6-a93f-c81b5e406ca4",
   "metadata": {},
   "outputs": [
    {
     "data": {
      "text/plain": [
       "'no-key'"
      ]
     },
     "execution_count": 93,
     "metadata": {},
     "output_type": "execute_result"
    }
   ],
   "source": [
    "dict1.get(89, \"no-key\")"
   ]
  },
  {
   "cell_type": "code",
   "execution_count": 94,
   "id": "b299aa08-fac1-43d0-a109-99a195af5dcd",
   "metadata": {},
   "outputs": [],
   "source": [
    "dict1[8j] = 0.1"
   ]
  },
  {
   "cell_type": "code",
   "execution_count": 95,
   "id": "03b22e58-3446-4da6-b7f7-8ccd603b43c2",
   "metadata": {},
   "outputs": [
    {
     "data": {
      "text/plain": [
       "{'name': 'Tanushri', 58: 'number', (1,): [5], None: 5j, 8j: 0.1}"
      ]
     },
     "execution_count": 95,
     "metadata": {},
     "output_type": "execute_result"
    }
   ],
   "source": [
    "dict1"
   ]
  },
  {
   "cell_type": "code",
   "execution_count": 96,
   "id": "bc6b09a5-68f6-4a35-a2f4-7171f276a2f2",
   "metadata": {},
   "outputs": [],
   "source": [
    "dict1.update({8j: \"changed value\"})"
   ]
  },
  {
   "cell_type": "code",
   "execution_count": 97,
   "id": "0d3888b3-f24d-45b6-a411-8d6e5f6ca06e",
   "metadata": {},
   "outputs": [
    {
     "data": {
      "text/plain": [
       "{'name': 'Tanushri', 58: 'number', (1,): [5], None: 5j, 8j: 'changed value'}"
      ]
     },
     "execution_count": 97,
     "metadata": {},
     "output_type": "execute_result"
    }
   ],
   "source": [
    "dict1"
   ]
  },
  {
   "cell_type": "code",
   "execution_count": 100,
   "id": "b0e01d88-94b7-4fd6-9556-225bffa55c60",
   "metadata": {},
   "outputs": [],
   "source": [
    "dict1[8.1j] = 5j"
   ]
  },
  {
   "cell_type": "code",
   "execution_count": 101,
   "id": "6e05e960-9c7c-4ff0-a085-f47a5f60c150",
   "metadata": {},
   "outputs": [
    {
     "data": {
      "text/plain": [
       "{'name': 'Tanushri', 58: 'number', (1,): [5], None: 5j, 8j: 5j, 8.1j: 5j}"
      ]
     },
     "execution_count": 101,
     "metadata": {},
     "output_type": "execute_result"
    }
   ],
   "source": [
    "dict1"
   ]
  },
  {
   "cell_type": "code",
   "execution_count": 102,
   "id": "ca7ef868-487f-42ab-a126-456c5f06f297",
   "metadata": {},
   "outputs": [],
   "source": [
    "dict1.update({8.2j: -59.25})"
   ]
  },
  {
   "cell_type": "code",
   "execution_count": 103,
   "id": "175bb04e-6486-4dd6-a639-9437592c3546",
   "metadata": {},
   "outputs": [
    {
     "data": {
      "text/plain": [
       "{'name': 'Tanushri',\n",
       " 58: 'number',\n",
       " (1,): [5],\n",
       " None: 5j,\n",
       " 8j: 5j,\n",
       " 8.1j: 5j,\n",
       " 8.2j: -59.25}"
      ]
     },
     "execution_count": 103,
     "metadata": {},
     "output_type": "execute_result"
    }
   ],
   "source": [
    "dict1"
   ]
  },
  {
   "cell_type": "code",
   "execution_count": 104,
   "id": "c1812a1d-3592-406b-ad34-22544632265d",
   "metadata": {},
   "outputs": [],
   "source": [
    "# remove values"
   ]
  },
  {
   "cell_type": "code",
   "execution_count": 105,
   "id": "e154a7e3-ad68-4174-ae71-0c69ac30ae46",
   "metadata": {},
   "outputs": [
    {
     "data": {
      "text/plain": [
       "5j"
      ]
     },
     "execution_count": 105,
     "metadata": {},
     "output_type": "execute_result"
    }
   ],
   "source": [
    "dict1.pop(None)"
   ]
  },
  {
   "cell_type": "code",
   "execution_count": 107,
   "id": "6573685b-01a1-4b55-af23-87713bdb8300",
   "metadata": {},
   "outputs": [],
   "source": [
    "del dict1[8.1j]"
   ]
  },
  {
   "cell_type": "code",
   "execution_count": 108,
   "id": "09fa7cf5-77dc-40b7-ab3e-9f071b2c5714",
   "metadata": {},
   "outputs": [
    {
     "data": {
      "text/plain": [
       "{'name': 'Tanushri', 58: 'number', (1,): [5], 8j: 5j, 8.2j: -59.25}"
      ]
     },
     "execution_count": 108,
     "metadata": {},
     "output_type": "execute_result"
    }
   ],
   "source": [
    "dict1"
   ]
  },
  {
   "cell_type": "code",
   "execution_count": 109,
   "id": "fee626c4-aa6d-4d33-ada1-fb3eb7c10f07",
   "metadata": {},
   "outputs": [],
   "source": [
    "del dict1"
   ]
  },
  {
   "cell_type": "code",
   "execution_count": 110,
   "id": "e945d795-40e8-4123-888a-1e04e2a67fc2",
   "metadata": {},
   "outputs": [
    {
     "ename": "NameError",
     "evalue": "name 'dict1' is not defined",
     "output_type": "error",
     "traceback": [
      "\u001b[1;31m---------------------------------------------------------------------------\u001b[0m",
      "\u001b[1;31mNameError\u001b[0m                                 Traceback (most recent call last)",
      "Cell \u001b[1;32mIn[110], line 1\u001b[0m\n\u001b[1;32m----> 1\u001b[0m \u001b[43mdict1\u001b[49m\n",
      "\u001b[1;31mNameError\u001b[0m: name 'dict1' is not defined"
     ]
    }
   ],
   "source": [
    "dict1"
   ]
  },
  {
   "cell_type": "code",
   "execution_count": 111,
   "id": "31c7411d-4193-45f1-91a1-80ab1ea775b7",
   "metadata": {},
   "outputs": [],
   "source": [
    "list1 = [1, 5, 8]"
   ]
  },
  {
   "cell_type": "code",
   "execution_count": 112,
   "id": "5cf794cc-965d-41ba-ba06-b249ce274b56",
   "metadata": {},
   "outputs": [],
   "source": [
    "del list1[1]"
   ]
  },
  {
   "cell_type": "code",
   "execution_count": 113,
   "id": "722ed44d-74cf-40a7-8c9f-0c6992cf3098",
   "metadata": {},
   "outputs": [
    {
     "data": {
      "text/plain": [
       "[1, 8]"
      ]
     },
     "execution_count": 113,
     "metadata": {},
     "output_type": "execute_result"
    }
   ],
   "source": [
    "list1"
   ]
  },
  {
   "cell_type": "code",
   "execution_count": 114,
   "id": "7fdb3e61-07a6-4263-abeb-6318625f6644",
   "metadata": {},
   "outputs": [],
   "source": [
    "del list1"
   ]
  },
  {
   "cell_type": "code",
   "execution_count": 116,
   "id": "b94c50f0-5647-4a1c-b5f5-58cab6bf8614",
   "metadata": {},
   "outputs": [
    {
     "ename": "NameError",
     "evalue": "name 'list1' is not defined",
     "output_type": "error",
     "traceback": [
      "\u001b[1;31m---------------------------------------------------------------------------\u001b[0m",
      "\u001b[1;31mNameError\u001b[0m                                 Traceback (most recent call last)",
      "Cell \u001b[1;32mIn[116], line 1\u001b[0m\n\u001b[1;32m----> 1\u001b[0m \u001b[43mlist1\u001b[49m\n",
      "\u001b[1;31mNameError\u001b[0m: name 'list1' is not defined"
     ]
    }
   ],
   "source": [
    "list1"
   ]
  },
  {
   "cell_type": "markdown",
   "id": "0818b6b8-3534-407c-a133-9a445b1e44dd",
   "metadata": {},
   "source": [
    "### sets"
   ]
  },
  {
   "cell_type": "code",
   "execution_count": null,
   "id": "5673e4aa-1c08-4422-8bf4-d36ac5358ad4",
   "metadata": {},
   "outputs": [],
   "source": [
    "set is a collection of unique items, set is collection of keys.\n",
    "set stores immutable data types\n",
    "set itself is a mutable data types\n",
    "unordered"
   ]
  },
  {
   "cell_type": "code",
   "execution_count": 117,
   "id": "5b0a9760-d9cb-48c4-a5db-5b6d50346ae3",
   "metadata": {},
   "outputs": [
    {
     "data": {
      "text/plain": [
       "8944504097440948974"
      ]
     },
     "execution_count": 117,
     "metadata": {},
     "output_type": "execute_result"
    }
   ],
   "source": [
    "hash(\"Kailash\")"
   ]
  },
  {
   "cell_type": "code",
   "execution_count": 118,
   "id": "c189cedc-7757-4d29-ae2a-1ace0865a3b4",
   "metadata": {},
   "outputs": [
    {
     "data": {
      "text/plain": [
       "8944504097440948974"
      ]
     },
     "execution_count": 118,
     "metadata": {},
     "output_type": "execute_result"
    }
   ],
   "source": [
    "hash(\"Kailash\")"
   ]
  },
  {
   "cell_type": "code",
   "execution_count": 119,
   "id": "7327fc72-669e-490c-b7f3-a8ca4259e6ca",
   "metadata": {},
   "outputs": [],
   "source": [
    "set1 = {1, 8}"
   ]
  },
  {
   "cell_type": "code",
   "execution_count": 120,
   "id": "195a30f7-fe04-4417-9a88-985803eb76fd",
   "metadata": {},
   "outputs": [
    {
     "data": {
      "text/plain": [
       "set"
      ]
     },
     "execution_count": 120,
     "metadata": {},
     "output_type": "execute_result"
    }
   ],
   "source": [
    "type(set1)"
   ]
  },
  {
   "cell_type": "code",
   "execution_count": 122,
   "id": "cba6edb2-512d-45cf-aa26-3a7cc1a0effa",
   "metadata": {},
   "outputs": [
    {
     "name": "stdout",
     "output_type": "stream",
     "text": [
      "<class 'dict'>\n"
     ]
    }
   ],
   "source": [
    "set1 = {}\n",
    "print(type(set1))"
   ]
  },
  {
   "cell_type": "code",
   "execution_count": 123,
   "id": "392663ac-9583-467d-ad60-0c7851ddb3d9",
   "metadata": {},
   "outputs": [],
   "source": [
    "set2 = set()"
   ]
  },
  {
   "cell_type": "code",
   "execution_count": 124,
   "id": "d8e3776c-2ea7-407d-90de-d41915fdfb10",
   "metadata": {},
   "outputs": [
    {
     "data": {
      "text/plain": [
       "set"
      ]
     },
     "execution_count": 124,
     "metadata": {},
     "output_type": "execute_result"
    }
   ],
   "source": [
    "type(set2)"
   ]
  },
  {
   "cell_type": "code",
   "execution_count": 125,
   "id": "a21cddff-9e91-4787-bf53-fc1b83f48714",
   "metadata": {},
   "outputs": [],
   "source": [
    "set3 = {5, 8, 9}"
   ]
  },
  {
   "cell_type": "code",
   "execution_count": 127,
   "id": "0db90374-a745-47f9-9592-7f5a836cdd63",
   "metadata": {},
   "outputs": [
    {
     "name": "stdout",
     "output_type": "stream",
     "text": [
      "{8, 9, 5}\n"
     ]
    }
   ],
   "source": [
    "print(set3)"
   ]
  },
  {
   "cell_type": "code",
   "execution_count": 128,
   "id": "7fdaea69-cd35-4869-af1b-e8a6e21ba301",
   "metadata": {},
   "outputs": [],
   "source": [
    "set4 = set()"
   ]
  },
  {
   "cell_type": "code",
   "execution_count": 129,
   "id": "953d5f1b-fb82-4223-b9a9-61321371197e",
   "metadata": {},
   "outputs": [],
   "source": [
    "set4.add(\"Sunaina\")"
   ]
  },
  {
   "cell_type": "code",
   "execution_count": 130,
   "id": "7a9d5627-5e2d-439c-bd22-fbe59965132d",
   "metadata": {},
   "outputs": [
    {
     "data": {
      "text/plain": [
       "{'Sunaina'}"
      ]
     },
     "execution_count": 130,
     "metadata": {},
     "output_type": "execute_result"
    }
   ],
   "source": [
    "set4"
   ]
  },
  {
   "cell_type": "code",
   "execution_count": 131,
   "id": "2419159c-3ed0-4709-a953-1e78b3feede3",
   "metadata": {},
   "outputs": [],
   "source": [
    "set4.add(\"Bhavesh\")"
   ]
  },
  {
   "cell_type": "code",
   "execution_count": 132,
   "id": "44146755-ba25-4ecb-8365-a493a0479918",
   "metadata": {},
   "outputs": [],
   "source": [
    "set4.add(\"Bhaskar\")"
   ]
  },
  {
   "cell_type": "code",
   "execution_count": 133,
   "id": "15a87771-0675-4fca-95b9-ae73face48ea",
   "metadata": {},
   "outputs": [
    {
     "data": {
      "text/plain": [
       "{'Bhaskar', 'Bhavesh', 'Sunaina'}"
      ]
     },
     "execution_count": 133,
     "metadata": {},
     "output_type": "execute_result"
    }
   ],
   "source": [
    "set4"
   ]
  },
  {
   "cell_type": "code",
   "execution_count": 136,
   "id": "59ad8931-4606-4c8a-849f-61987546934d",
   "metadata": {},
   "outputs": [],
   "source": [
    "set4.add(\"Kunal\")"
   ]
  },
  {
   "cell_type": "code",
   "execution_count": 137,
   "id": "273a2644-5b4d-4fa8-a93e-fc1c9afb8d79",
   "metadata": {},
   "outputs": [
    {
     "data": {
      "text/plain": [
       "{'Bhaskar', 'Bhavesh', 'Kunal', 'Sunaina'}"
      ]
     },
     "execution_count": 137,
     "metadata": {},
     "output_type": "execute_result"
    }
   ],
   "source": [
    "set4"
   ]
  },
  {
   "cell_type": "code",
   "execution_count": 142,
   "id": "2f9385a1-c0db-4b12-b835-2a3e43a2d443",
   "metadata": {},
   "outputs": [],
   "source": [
    "set4.discard(\"Kunal\")"
   ]
  },
  {
   "cell_type": "code",
   "execution_count": 143,
   "id": "77f1de64-b8a8-4d86-beca-e7fd33b9172c",
   "metadata": {},
   "outputs": [
    {
     "data": {
      "text/plain": [
       "{'Bhaskar', 'Bhavesh', 'Sunaina'}"
      ]
     },
     "execution_count": 143,
     "metadata": {},
     "output_type": "execute_result"
    }
   ],
   "source": [
    "set4"
   ]
  },
  {
   "cell_type": "code",
   "execution_count": 144,
   "id": "57d8670c-f9ab-47d9-bb00-23019721a78b",
   "metadata": {},
   "outputs": [
    {
     "data": {
      "text/plain": [
       "'Bhaskar'"
      ]
     },
     "execution_count": 144,
     "metadata": {},
     "output_type": "execute_result"
    }
   ],
   "source": [
    "set4.pop()"
   ]
  },
  {
   "cell_type": "code",
   "execution_count": 145,
   "id": "6300a5e1-ae23-4184-8ff4-ec7f58e0e0ec",
   "metadata": {},
   "outputs": [
    {
     "data": {
      "text/plain": [
       "'Bhavesh'"
      ]
     },
     "execution_count": 145,
     "metadata": {},
     "output_type": "execute_result"
    }
   ],
   "source": [
    "set4.pop()"
   ]
  },
  {
   "cell_type": "code",
   "execution_count": 146,
   "id": "d6a07321-5184-4c72-ac02-66b255819e01",
   "metadata": {},
   "outputs": [],
   "source": [
    "set4.add(55)"
   ]
  },
  {
   "cell_type": "code",
   "execution_count": 147,
   "id": "32923e34-f26c-4832-9f2a-3218bb2d5765",
   "metadata": {},
   "outputs": [],
   "source": [
    "set4.add(5.56)"
   ]
  },
  {
   "cell_type": "code",
   "execution_count": 148,
   "id": "7e09d8bf-ec14-4308-aa2c-251ea19685ff",
   "metadata": {},
   "outputs": [
    {
     "data": {
      "text/plain": [
       "{5.56, 55, 'Sunaina'}"
      ]
     },
     "execution_count": 148,
     "metadata": {},
     "output_type": "execute_result"
    }
   ],
   "source": [
    "set4"
   ]
  },
  {
   "cell_type": "code",
   "execution_count": 149,
   "id": "98e325da-f488-4df7-b07c-cb037765b0b4",
   "metadata": {},
   "outputs": [],
   "source": [
    "set4.clear()"
   ]
  },
  {
   "cell_type": "code",
   "execution_count": 150,
   "id": "ee1432b0-c45a-4160-8e0b-9e5d2859aa42",
   "metadata": {},
   "outputs": [
    {
     "data": {
      "text/plain": [
       "set()"
      ]
     },
     "execution_count": 150,
     "metadata": {},
     "output_type": "execute_result"
    }
   ],
   "source": [
    "set4"
   ]
  },
  {
   "cell_type": "code",
   "execution_count": 151,
   "id": "25dab9b1-641c-4dae-98b3-7b01904ff451",
   "metadata": {},
   "outputs": [],
   "source": [
    "del set4"
   ]
  },
  {
   "cell_type": "code",
   "execution_count": 153,
   "id": "e66c4bf6-79c6-48c6-8ab1-dc4979efb142",
   "metadata": {},
   "outputs": [
    {
     "ename": "NameError",
     "evalue": "name 'set4' is not defined",
     "output_type": "error",
     "traceback": [
      "\u001b[1;31m---------------------------------------------------------------------------\u001b[0m",
      "\u001b[1;31mNameError\u001b[0m                                 Traceback (most recent call last)",
      "Cell \u001b[1;32mIn[153], line 1\u001b[0m\n\u001b[1;32m----> 1\u001b[0m \u001b[43mset4\u001b[49m\n",
      "\u001b[1;31mNameError\u001b[0m: name 'set4' is not defined"
     ]
    }
   ],
   "source": [
    "set4"
   ]
  },
  {
   "cell_type": "code",
   "execution_count": 154,
   "id": "40b0c6e7-e6fc-49b2-9c49-9a4a8853fb37",
   "metadata": {},
   "outputs": [],
   "source": [
    "set5 = {5.56, 55, 'Sunaina'}"
   ]
  },
  {
   "cell_type": "code",
   "execution_count": 155,
   "id": "4041afd8-d371-4f4b-b0ad-e7be7e635476",
   "metadata": {},
   "outputs": [
    {
     "name": "stdout",
     "output_type": "stream",
     "text": [
      "Sunaina\n",
      "5.56\n",
      "55\n"
     ]
    }
   ],
   "source": [
    "for val in set5:\n",
    "    print(val)"
   ]
  },
  {
   "cell_type": "code",
   "execution_count": 156,
   "id": "8c6d9194-04a4-4acf-ab87-f42476c123b9",
   "metadata": {},
   "outputs": [
    {
     "data": {
      "text/plain": [
       "['Sunaina', 5.56, 55]"
      ]
     },
     "execution_count": 156,
     "metadata": {},
     "output_type": "execute_result"
    }
   ],
   "source": [
    "list(set5)"
   ]
  },
  {
   "cell_type": "code",
   "execution_count": 157,
   "id": "64daf60a-11d4-4aa6-9131-a52dd0c45306",
   "metadata": {},
   "outputs": [
    {
     "data": {
      "text/plain": [
       "'Sunaina'"
      ]
     },
     "execution_count": 157,
     "metadata": {},
     "output_type": "execute_result"
    }
   ],
   "source": [
    "list(set5)[0]"
   ]
  },
  {
   "cell_type": "code",
   "execution_count": 158,
   "id": "e043e813-cb58-4566-a285-4f3a21e4e7ae",
   "metadata": {
    "collapsed": true,
    "jupyter": {
     "outputs_hidden": true
    }
   },
   "outputs": [
    {
     "name": "stdout",
     "output_type": "stream",
     "text": [
      "Help on class set in module builtins:\n",
      "\n",
      "class set(object)\n",
      " |  set(iterable=(), /)\n",
      " |\n",
      " |  Build an unordered collection of unique elements.\n",
      " |\n",
      " |  Methods defined here:\n",
      " |\n",
      " |  __and__(self, value, /)\n",
      " |      Return self&value.\n",
      " |\n",
      " |  __contains__(self, object, /)\n",
      " |      x.__contains__(y) <==> y in x.\n",
      " |\n",
      " |  __eq__(self, value, /)\n",
      " |      Return self==value.\n",
      " |\n",
      " |  __ge__(self, value, /)\n",
      " |      Return self>=value.\n",
      " |\n",
      " |  __getattribute__(self, name, /)\n",
      " |      Return getattr(self, name).\n",
      " |\n",
      " |  __gt__(self, value, /)\n",
      " |      Return self>value.\n",
      " |\n",
      " |  __iand__(self, value, /)\n",
      " |      Return self&=value.\n",
      " |\n",
      " |  __init__(self, /, *args, **kwargs)\n",
      " |      Initialize self.  See help(type(self)) for accurate signature.\n",
      " |\n",
      " |  __ior__(self, value, /)\n",
      " |      Return self|=value.\n",
      " |\n",
      " |  __isub__(self, value, /)\n",
      " |      Return self-=value.\n",
      " |\n",
      " |  __iter__(self, /)\n",
      " |      Implement iter(self).\n",
      " |\n",
      " |  __ixor__(self, value, /)\n",
      " |      Return self^=value.\n",
      " |\n",
      " |  __le__(self, value, /)\n",
      " |      Return self<=value.\n",
      " |\n",
      " |  __len__(self, /)\n",
      " |      Return len(self).\n",
      " |\n",
      " |  __lt__(self, value, /)\n",
      " |      Return self<value.\n",
      " |\n",
      " |  __ne__(self, value, /)\n",
      " |      Return self!=value.\n",
      " |\n",
      " |  __or__(self, value, /)\n",
      " |      Return self|value.\n",
      " |\n",
      " |  __rand__(self, value, /)\n",
      " |      Return value&self.\n",
      " |\n",
      " |  __reduce__(self, /)\n",
      " |      Return state information for pickling.\n",
      " |\n",
      " |  __repr__(self, /)\n",
      " |      Return repr(self).\n",
      " |\n",
      " |  __ror__(self, value, /)\n",
      " |      Return value|self.\n",
      " |\n",
      " |  __rsub__(self, value, /)\n",
      " |      Return value-self.\n",
      " |\n",
      " |  __rxor__(self, value, /)\n",
      " |      Return value^self.\n",
      " |\n",
      " |  __sizeof__(self, /)\n",
      " |      S.__sizeof__() -> size of S in memory, in bytes.\n",
      " |\n",
      " |  __sub__(self, value, /)\n",
      " |      Return self-value.\n",
      " |\n",
      " |  __xor__(self, value, /)\n",
      " |      Return self^value.\n",
      " |\n",
      " |  add(self, object, /)\n",
      " |      Add an element to a set.\n",
      " |\n",
      " |      This has no effect if the element is already present.\n",
      " |\n",
      " |  clear(self, /)\n",
      " |      Remove all elements from this set.\n",
      " |\n",
      " |  copy(self, /)\n",
      " |      Return a shallow copy of a set.\n",
      " |\n",
      " |  difference(self, /, *others)\n",
      " |      Return a new set with elements in the set that are not in the others.\n",
      " |\n",
      " |  difference_update(self, /, *others)\n",
      " |      Update the set, removing elements found in others.\n",
      " |\n",
      " |  discard(self, object, /)\n",
      " |      Remove an element from a set if it is a member.\n",
      " |\n",
      " |      Unlike set.remove(), the discard() method does not raise\n",
      " |      an exception when an element is missing from the set.\n",
      " |\n",
      " |  intersection(self, /, *others)\n",
      " |      Return a new set with elements common to the set and all others.\n",
      " |\n",
      " |  intersection_update(self, /, *others)\n",
      " |      Update the set, keeping only elements found in it and all others.\n",
      " |\n",
      " |  isdisjoint(self, other, /)\n",
      " |      Return True if two sets have a null intersection.\n",
      " |\n",
      " |  issubset(self, other, /)\n",
      " |      Report whether another set contains this set.\n",
      " |\n",
      " |  issuperset(self, other, /)\n",
      " |      Report whether this set contains another set.\n",
      " |\n",
      " |  pop(self, /)\n",
      " |      Remove and return an arbitrary set element.\n",
      " |\n",
      " |      Raises KeyError if the set is empty.\n",
      " |\n",
      " |  remove(self, object, /)\n",
      " |      Remove an element from a set; it must be a member.\n",
      " |\n",
      " |      If the element is not a member, raise a KeyError.\n",
      " |\n",
      " |  symmetric_difference(self, other, /)\n",
      " |      Return a new set with elements in either the set or other but not both.\n",
      " |\n",
      " |  symmetric_difference_update(self, other, /)\n",
      " |      Update the set, keeping only elements found in either set, but not in both.\n",
      " |\n",
      " |  union(self, /, *others)\n",
      " |      Return a new set with elements from the set and all others.\n",
      " |\n",
      " |  update(self, /, *others)\n",
      " |      Update the set, adding elements from all others.\n",
      " |\n",
      " |  ----------------------------------------------------------------------\n",
      " |  Class methods defined here:\n",
      " |\n",
      " |  __class_getitem__(object, /)\n",
      " |      See PEP 585\n",
      " |\n",
      " |  ----------------------------------------------------------------------\n",
      " |  Static methods defined here:\n",
      " |\n",
      " |  __new__(*args, **kwargs)\n",
      " |      Create and return a new object.  See help(type) for accurate signature.\n",
      " |\n",
      " |  ----------------------------------------------------------------------\n",
      " |  Data and other attributes defined here:\n",
      " |\n",
      " |  __hash__ = None\n",
      "\n"
     ]
    }
   ],
   "source": [
    "help(set)"
   ]
  },
  {
   "cell_type": "code",
   "execution_count": null,
   "id": "4bdcc0d3-dbe6-4151-9eee-5e1fceefb1e6",
   "metadata": {},
   "outputs": [],
   "source": []
  }
 ],
 "metadata": {
  "kernelspec": {
   "display_name": "Python 3 (ipykernel)",
   "language": "python",
   "name": "python3"
  },
  "language_info": {
   "codemirror_mode": {
    "name": "ipython",
    "version": 3
   },
   "file_extension": ".py",
   "mimetype": "text/x-python",
   "name": "python",
   "nbconvert_exporter": "python",
   "pygments_lexer": "ipython3",
   "version": "3.13.3"
  }
 },
 "nbformat": 4,
 "nbformat_minor": 5
}
