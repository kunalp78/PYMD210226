{
 "cells": [
  {
   "cell_type": "code",
   "execution_count": 1,
   "id": "2f9b1429-ffb8-4ffd-9e20-661d314b2137",
   "metadata": {},
   "outputs": [
    {
     "name": "stdout",
     "output_type": "stream",
     "text": [
      "Sarvanan\n"
     ]
    }
   ],
   "source": [
    "print(\"Sarvanan\")"
   ]
  },
  {
   "cell_type": "code",
   "execution_count": 1,
   "id": "599e3454-3215-40e1-96f9-760a9e408765",
   "metadata": {},
   "outputs": [],
   "source": [
    "a = \"Sarvanan\"\n",
    "names = [\"sarvanan\", \"kailash\", \"prem\", \"Bhavesh\"]"
   ]
  },
  {
   "cell_type": "markdown",
   "id": "a9aa3a04-3039-41c9-b28b-ce9a0771f076",
   "metadata": {},
   "source": [
    "# List"
   ]
  },
  {
   "cell_type": "code",
   "execution_count": 2,
   "id": "6ee4a4b6-ba95-4835-a32a-d58b081dcfa8",
   "metadata": {},
   "outputs": [
    {
     "name": "stdout",
     "output_type": "stream",
     "text": [
      "['sarvanan', 'kailash', 'prem', 'Bhavesh']\n"
     ]
    }
   ],
   "source": [
    "         0         , 1        , 2     , 3\n",
    "names = [\"sarvanan\", \"kailash\", \"prem\", \"Bhavesh\"]\n",
    "print(names)"
   ]
  },
  {
   "cell_type": "code",
   "execution_count": null,
   "id": "b652ba64-2582-4c30-bd6a-feebf5328111",
   "metadata": {},
   "outputs": [],
   "source": [
    "Features of list:\n",
    "    1. ordered\n",
    "    2. changeable\n",
    "    3. duplicate value"
   ]
  },
  {
   "cell_type": "code",
   "execution_count": 4,
   "id": "db2763a0-bd6c-4d4d-a059-bd52747549b2",
   "metadata": {},
   "outputs": [
    {
     "data": {
      "text/plain": [
       "'sarvanan'"
      ]
     },
     "execution_count": 4,
     "metadata": {},
     "output_type": "execute_result"
    }
   ],
   "source": [
    "names[0]"
   ]
  },
  {
   "cell_type": "code",
   "execution_count": 5,
   "id": "7845c9aa-3a56-4f13-89ba-f7d6a6c2dafc",
   "metadata": {},
   "outputs": [
    {
     "data": {
      "text/plain": [
       "'kailash'"
      ]
     },
     "execution_count": 5,
     "metadata": {},
     "output_type": "execute_result"
    }
   ],
   "source": [
    "names[1]"
   ]
  },
  {
   "cell_type": "markdown",
   "id": "6a43debd-61e9-4e0f-bb72-0838ea32515a",
   "metadata": {},
   "source": [
    "## negative indexing"
   ]
  },
  {
   "cell_type": "code",
   "execution_count": 6,
   "id": "a4af6418-3d43-42a8-bca0-a280f8b52a11",
   "metadata": {},
   "outputs": [
    {
     "data": {
      "text/plain": [
       "'Bhavesh'"
      ]
     },
     "execution_count": 6,
     "metadata": {},
     "output_type": "execute_result"
    }
   ],
   "source": [
    "names[3]"
   ]
  },
  {
   "cell_type": "code",
   "execution_count": 7,
   "id": "b7dd5190-1635-4d39-bac9-e02b833526eb",
   "metadata": {},
   "outputs": [
    {
     "data": {
      "text/plain": [
       "'Bhavesh'"
      ]
     },
     "execution_count": 7,
     "metadata": {},
     "output_type": "execute_result"
    }
   ],
   "source": [
    "names[-1]"
   ]
  },
  {
   "cell_type": "code",
   "execution_count": 8,
   "id": "387570b9-a68a-40b5-865e-a117be3b43fb",
   "metadata": {},
   "outputs": [],
   "source": [
    "names = [\"sarvanan\", \"kailash\", \"prem\", \"Bhavesh\", \"prem\"]"
   ]
  },
  {
   "cell_type": "code",
   "execution_count": 10,
   "id": "d540ec5f-4046-4353-9180-33f05606b5e2",
   "metadata": {},
   "outputs": [
    {
     "data": {
      "text/plain": [
       "['sarvanan', 'kailash', 'prem', 'Bhavesh', 'prem']"
      ]
     },
     "execution_count": 10,
     "metadata": {},
     "output_type": "execute_result"
    }
   ],
   "source": [
    "names"
   ]
  },
  {
   "cell_type": "markdown",
   "id": "46610722-f18b-41d2-9eca-df870ee79eaa",
   "metadata": {},
   "source": [
    "## List Length"
   ]
  },
  {
   "cell_type": "code",
   "execution_count": 11,
   "id": "85db9a25-6e36-4955-a358-85890f65d5ea",
   "metadata": {},
   "outputs": [
    {
     "data": {
      "text/plain": [
       "5"
      ]
     },
     "execution_count": 11,
     "metadata": {},
     "output_type": "execute_result"
    }
   ],
   "source": [
    "len(names)"
   ]
  },
  {
   "cell_type": "code",
   "execution_count": 12,
   "id": "d68a13b1-efd5-42f3-a5ea-6b29233de4cc",
   "metadata": {},
   "outputs": [
    {
     "ename": "IndexError",
     "evalue": "list index out of range",
     "output_type": "error",
     "traceback": [
      "\u001b[1;31m---------------------------------------------------------------------------\u001b[0m",
      "\u001b[1;31mIndexError\u001b[0m                                Traceback (most recent call last)",
      "Cell \u001b[1;32mIn[12], line 1\u001b[0m\n\u001b[1;32m----> 1\u001b[0m \u001b[43mnames\u001b[49m\u001b[43m[\u001b[49m\u001b[38;5;28;43mlen\u001b[39;49m\u001b[43m(\u001b[49m\u001b[43mnames\u001b[49m\u001b[43m)\u001b[49m\u001b[43m]\u001b[49m\n",
      "\u001b[1;31mIndexError\u001b[0m: list index out of range"
     ]
    }
   ],
   "source": [
    "names[len(names)]"
   ]
  },
  {
   "cell_type": "code",
   "execution_count": 13,
   "id": "5083717f-fc58-4228-8a7e-800c3bf81b66",
   "metadata": {},
   "outputs": [
    {
     "data": {
      "text/plain": [
       "'prem'"
      ]
     },
     "execution_count": 13,
     "metadata": {},
     "output_type": "execute_result"
    }
   ],
   "source": [
    "names[len(names)-1]"
   ]
  },
  {
   "cell_type": "code",
   "execution_count": 14,
   "id": "68d01716-d21c-42fb-9b90-8dc2ba1a652b",
   "metadata": {},
   "outputs": [
    {
     "data": {
      "text/plain": [
       "'Bhavesh'"
      ]
     },
     "execution_count": 14,
     "metadata": {},
     "output_type": "execute_result"
    }
   ],
   "source": [
    "names[len(names)-2]"
   ]
  },
  {
   "cell_type": "code",
   "execution_count": 15,
   "id": "5f5912e2-43c3-4691-88fb-0b16f66d9b55",
   "metadata": {},
   "outputs": [],
   "source": [
    "list1 = [\"mango\", \"apple\", \"coconut\"]\n",
    "list2 = [1, 2, 5, 8]\n",
    "list3 = [5j, 2 - 6j]\n",
    "list4 = [\"mango\", 2, -4j, None]"
   ]
  },
  {
   "cell_type": "code",
   "execution_count": 16,
   "id": "8f97423a-ff77-4333-99f2-596c074b7dcf",
   "metadata": {},
   "outputs": [
    {
     "data": {
      "text/plain": [
       "['mango', 2, (-0-4j), None]"
      ]
     },
     "execution_count": 16,
     "metadata": {},
     "output_type": "execute_result"
    }
   ],
   "source": [
    "list4"
   ]
  },
  {
   "cell_type": "code",
   "execution_count": 17,
   "id": "577e5b83-3596-4e03-846d-27f781ea62b3",
   "metadata": {},
   "outputs": [
    {
     "data": {
      "text/plain": [
       "list"
      ]
     },
     "execution_count": 17,
     "metadata": {},
     "output_type": "execute_result"
    }
   ],
   "source": [
    "type(list4)"
   ]
  },
  {
   "cell_type": "code",
   "execution_count": 18,
   "id": "1a4b7ddf-2ff2-468f-bcb4-304da21bb407",
   "metadata": {},
   "outputs": [
    {
     "data": {
      "text/plain": [
       "str"
      ]
     },
     "execution_count": 18,
     "metadata": {},
     "output_type": "execute_result"
    }
   ],
   "source": [
    "type(list4[0])"
   ]
  },
  {
   "cell_type": "code",
   "execution_count": 19,
   "id": "07751fb7-c36f-40de-a50d-4ad03465d82a",
   "metadata": {},
   "outputs": [],
   "source": [
    "list6 = list((\"apple\", list4, list3[0], -9j))"
   ]
  },
  {
   "cell_type": "code",
   "execution_count": 20,
   "id": "3c5e750a-13ed-4388-ab99-a0ac17e6408e",
   "metadata": {},
   "outputs": [
    {
     "data": {
      "text/plain": [
       "['apple', ['mango', 2, (-0-4j), None], 5j, (-0-9j)]"
      ]
     },
     "execution_count": 20,
     "metadata": {},
     "output_type": "execute_result"
    }
   ],
   "source": [
    "list6"
   ]
  },
  {
   "cell_type": "code",
   "execution_count": 21,
   "id": "6c98b863-4600-4b40-a24d-d6812058f505",
   "metadata": {},
   "outputs": [
    {
     "ename": "TypeError",
     "evalue": "list expected at most 1 argument, got 2",
     "output_type": "error",
     "traceback": [
      "\u001b[1;31m---------------------------------------------------------------------------\u001b[0m",
      "\u001b[1;31mTypeError\u001b[0m                                 Traceback (most recent call last)",
      "Cell \u001b[1;32mIn[21], line 1\u001b[0m\n\u001b[1;32m----> 1\u001b[0m \u001b[38;5;28;43mlist\u001b[39;49m\u001b[43m(\u001b[49m\u001b[38;5;241;43m5\u001b[39;49m\u001b[43m,\u001b[49m\u001b[43m \u001b[49m\u001b[38;5;241;43m6\u001b[39;49m\u001b[43m)\u001b[49m\n",
      "\u001b[1;31mTypeError\u001b[0m: list expected at most 1 argument, got 2"
     ]
    }
   ],
   "source": [
    "list(5, 6)"
   ]
  },
  {
   "cell_type": "code",
   "execution_count": 22,
   "id": "7895149e-6006-4978-96cf-ef4436466679",
   "metadata": {},
   "outputs": [
    {
     "data": {
      "text/plain": [
       "[5, 6]"
      ]
     },
     "execution_count": 22,
     "metadata": {},
     "output_type": "execute_result"
    }
   ],
   "source": [
    "list([5, 6])"
   ]
  },
  {
   "cell_type": "markdown",
   "id": "63a1a5cd-8535-4100-9563-af7554203bf1",
   "metadata": {},
   "source": [
    "### Range of Indexes/slicing"
   ]
  },
  {
   "cell_type": "code",
   "execution_count": 23,
   "id": "100f2ed5-5e6f-4508-b823-38260c94d255",
   "metadata": {},
   "outputs": [],
   "source": [
    "        -7,-6, -5      , -4,-3  , -2 ,-1\n",
    "         0, 1, 2       , 3 , 4  , 5  , 6\n",
    "list7 = [1, 8, \"Edyoda\", -1, -1j, 0.0, None]"
   ]
  },
  {
   "cell_type": "code",
   "execution_count": 24,
   "id": "03ee1c29-b265-4a3d-8193-4b4dd5b33207",
   "metadata": {},
   "outputs": [
    {
     "data": {
      "text/plain": [
       "['Edyoda', -1, (-0-1j)]"
      ]
     },
     "execution_count": 24,
     "metadata": {},
     "output_type": "execute_result"
    }
   ],
   "source": [
    "list7[2:5]"
   ]
  },
  {
   "cell_type": "code",
   "execution_count": 25,
   "id": "e622d2d1-9ede-4aa9-ae2f-ca33802ad556",
   "metadata": {},
   "outputs": [
    {
     "data": {
      "text/plain": [
       "[1, 8, 'Edyoda', -1, (-0-1j), 0.0, None]"
      ]
     },
     "execution_count": 25,
     "metadata": {},
     "output_type": "execute_result"
    }
   ],
   "source": [
    "list7"
   ]
  },
  {
   "cell_type": "code",
   "execution_count": 26,
   "id": "3eb6a534-260e-4ed6-ad82-8a64da7df47f",
   "metadata": {},
   "outputs": [
    {
     "data": {
      "text/plain": [
       "['Edyoda', -1, (-0-1j), 0.0]"
      ]
     },
     "execution_count": 26,
     "metadata": {},
     "output_type": "execute_result"
    }
   ],
   "source": [
    "list7[2:6]"
   ]
  },
  {
   "cell_type": "markdown",
   "id": "578ce66f-84d7-4e88-abd3-ef66bc570a60",
   "metadata": {},
   "source": [
    "## striding"
   ]
  },
  {
   "cell_type": "code",
   "execution_count": 27,
   "id": "f93c9c33-f573-4b9d-be2b-7c995ae96bb6",
   "metadata": {},
   "outputs": [
    {
     "data": {
      "text/plain": [
       "[1, 8, 'Edyoda', -1, (-0-1j), 0.0, None]"
      ]
     },
     "execution_count": 27,
     "metadata": {},
     "output_type": "execute_result"
    }
   ],
   "source": [
    "list7[0:]"
   ]
  },
  {
   "cell_type": "code",
   "execution_count": 28,
   "id": "da026698-e193-411a-a1d2-27a5f037b8d8",
   "metadata": {},
   "outputs": [
    {
     "data": {
      "text/plain": [
       "[1, 8, 'Edyoda', -1, (-0-1j), 0.0, None]"
      ]
     },
     "execution_count": 28,
     "metadata": {},
     "output_type": "execute_result"
    }
   ],
   "source": [
    "list7[:]"
   ]
  },
  {
   "cell_type": "code",
   "execution_count": 29,
   "id": "6a9c83ff-a787-4db2-adfd-075f3be2a862",
   "metadata": {},
   "outputs": [
    {
     "data": {
      "text/plain": [
       "[8, -1, 0.0]"
      ]
     },
     "execution_count": 29,
     "metadata": {},
     "output_type": "execute_result"
    }
   ],
   "source": [
    "list7[1::2]"
   ]
  },
  {
   "cell_type": "code",
   "execution_count": 31,
   "id": "6acebaa9-f5d4-44df-9724-05169594f0af",
   "metadata": {},
   "outputs": [
    {
     "data": {
      "text/plain": [
       "[1, 'Edyoda', (-0-1j), None]"
      ]
     },
     "execution_count": 31,
     "metadata": {},
     "output_type": "execute_result"
    }
   ],
   "source": [
    "list7[::2]"
   ]
  },
  {
   "cell_type": "code",
   "execution_count": 32,
   "id": "43bf95d6-5a87-46de-989c-733441886c3f",
   "metadata": {},
   "outputs": [
    {
     "data": {
      "text/plain": [
       "[1, -1, None]"
      ]
     },
     "execution_count": 32,
     "metadata": {},
     "output_type": "execute_result"
    }
   ],
   "source": [
    "list7[::3]"
   ]
  },
  {
   "cell_type": "code",
   "execution_count": 33,
   "id": "9d1fe7b0-f1dc-4458-9008-59b20241fe0b",
   "metadata": {},
   "outputs": [
    {
     "data": {
      "text/plain": [
       "[None, 0.0, (-0-1j), -1, 'Edyoda', 8, 1]"
      ]
     },
     "execution_count": 33,
     "metadata": {},
     "output_type": "execute_result"
    }
   ],
   "source": [
    "list7[::-1]"
   ]
  },
  {
   "cell_type": "code",
   "execution_count": 34,
   "id": "1e2271b6-d4d1-4d09-97c3-872939c91cdb",
   "metadata": {},
   "outputs": [
    {
     "data": {
      "text/plain": [
       "1708696337728"
      ]
     },
     "execution_count": 34,
     "metadata": {},
     "output_type": "execute_result"
    }
   ],
   "source": [
    "id(list7)"
   ]
  },
  {
   "cell_type": "code",
   "execution_count": 35,
   "id": "f6046196-6439-4faa-ab75-effcb488c443",
   "metadata": {},
   "outputs": [
    {
     "data": {
      "text/plain": [
       "1708696960384"
      ]
     },
     "execution_count": 35,
     "metadata": {},
     "output_type": "execute_result"
    }
   ],
   "source": [
    "id(list7[::-1])"
   ]
  },
  {
   "cell_type": "code",
   "execution_count": 36,
   "id": "7ef37f12-5494-4079-a8f1-33b2e7afcaa6",
   "metadata": {},
   "outputs": [
    {
     "data": {
      "text/plain": [
       "[None, (-0-1j), 'Edyoda', 1]"
      ]
     },
     "execution_count": 36,
     "metadata": {},
     "output_type": "execute_result"
    }
   ],
   "source": [
    "list7[::-2]"
   ]
  },
  {
   "cell_type": "code",
   "execution_count": 37,
   "id": "088b1425-7f09-4884-a0f5-e05e630dd5a0",
   "metadata": {},
   "outputs": [
    {
     "data": {
      "text/plain": [
       "[0.0, -1, 8]"
      ]
     },
     "execution_count": 37,
     "metadata": {},
     "output_type": "execute_result"
    }
   ],
   "source": [
    "list7[-2::-2]"
   ]
  },
  {
   "cell_type": "code",
   "execution_count": 38,
   "id": "b5311206-606a-4e5e-abb8-b877d723ba4a",
   "metadata": {},
   "outputs": [
    {
     "data": {
      "text/plain": [
       "[0.0, -1, 8]"
      ]
     },
     "execution_count": 38,
     "metadata": {},
     "output_type": "execute_result"
    }
   ],
   "source": [
    "list7[5::-2]"
   ]
  },
  {
   "cell_type": "code",
   "execution_count": 39,
   "id": "ffca9f38-fdfc-45b0-a911-bf6cc91fddc2",
   "metadata": {},
   "outputs": [
    {
     "data": {
      "text/plain": [
       "[0.0, -1]"
      ]
     },
     "execution_count": 39,
     "metadata": {},
     "output_type": "execute_result"
    }
   ],
   "source": [
    "list7[5:1:-2]"
   ]
  },
  {
   "cell_type": "code",
   "execution_count": 40,
   "id": "5706f49a-5b98-46e6-b864-e22b19c780bd",
   "metadata": {},
   "outputs": [
    {
     "data": {
      "text/plain": [
       "[0.0, -1]"
      ]
     },
     "execution_count": 40,
     "metadata": {},
     "output_type": "execute_result"
    }
   ],
   "source": [
    "list7[-2:1:-2]"
   ]
  },
  {
   "cell_type": "code",
   "execution_count": 41,
   "id": "db2d6491-3859-4823-a741-de4cc8741aed",
   "metadata": {},
   "outputs": [
    {
     "data": {
      "text/plain": [
       "[0.0, -1]"
      ]
     },
     "execution_count": 41,
     "metadata": {},
     "output_type": "execute_result"
    }
   ],
   "source": [
    "list7[-2:-5:-2]"
   ]
  },
  {
   "cell_type": "code",
   "execution_count": 42,
   "id": "aecb9955-59d6-40f5-87a6-470ad8903d1d",
   "metadata": {},
   "outputs": [
    {
     "data": {
      "text/plain": [
       "[]"
      ]
     },
     "execution_count": 42,
     "metadata": {},
     "output_type": "execute_result"
    }
   ],
   "source": [
    "list7[-2:-1:-1]"
   ]
  },
  {
   "cell_type": "markdown",
   "id": "b657a2e6-92b6-4359-bed1-70019a3c2244",
   "metadata": {},
   "source": [
    "### insert"
   ]
  },
  {
   "cell_type": "code",
   "execution_count": 43,
   "id": "7c034e51-11f2-4acf-ade7-05b924ce6dee",
   "metadata": {},
   "outputs": [],
   "source": [
    "list8 = [\"appple\", \"mango\", \"papaya\"]"
   ]
  },
  {
   "cell_type": "code",
   "execution_count": 44,
   "id": "552d3c7d-4425-4d8a-8c9d-0ea09e71f283",
   "metadata": {},
   "outputs": [],
   "source": [
    "list8 = [\"pineapple\"] + list8"
   ]
  },
  {
   "cell_type": "code",
   "execution_count": 45,
   "id": "a1d36efb-10b5-4b46-b07d-f50dcae79b95",
   "metadata": {},
   "outputs": [
    {
     "data": {
      "text/plain": [
       "['pineapple', 'appple', 'mango', 'papaya']"
      ]
     },
     "execution_count": 45,
     "metadata": {},
     "output_type": "execute_result"
    }
   ],
   "source": [
    "list8"
   ]
  },
  {
   "cell_type": "code",
   "execution_count": 48,
   "id": "fa8233a6-fe16-4fdc-9f1c-66cc05971010",
   "metadata": {},
   "outputs": [
    {
     "name": "stdout",
     "output_type": "stream",
     "text": [
      "1708696651392\n",
      "1708696312832\n"
     ]
    }
   ],
   "source": [
    "list8 = [\"appple\", \"mango\", \"papaya\"]\n",
    "print(id(list8))\n",
    "list8 = [\"pineapple\"] + list8\n",
    "print(id(list8))"
   ]
  },
  {
   "cell_type": "code",
   "execution_count": 49,
   "id": "10deca38-b570-46ab-b6f2-217d33851438",
   "metadata": {},
   "outputs": [
    {
     "name": "stdout",
     "output_type": "stream",
     "text": [
      "['appple', 'mango', 'papaya']\n",
      "1708696652224\n"
     ]
    }
   ],
   "source": [
    "list8 = [\"appple\", \"mango\", \"papaya\"]\n",
    "print(list8)\n",
    "print(id(list8))"
   ]
  },
  {
   "cell_type": "code",
   "execution_count": 51,
   "id": "f77d004b-4895-40e0-85e4-5676778967b1",
   "metadata": {},
   "outputs": [],
   "source": [
    "list8.insert(0, \"pineapple\")"
   ]
  },
  {
   "cell_type": "code",
   "execution_count": 52,
   "id": "79e40e08-b445-4e6b-9c5a-baed47a4c9af",
   "metadata": {},
   "outputs": [
    {
     "data": {
      "text/plain": [
       "['pineapple', 'appple', 'mango', 'papaya']"
      ]
     },
     "execution_count": 52,
     "metadata": {},
     "output_type": "execute_result"
    }
   ],
   "source": [
    "list8"
   ]
  },
  {
   "cell_type": "code",
   "execution_count": 53,
   "id": "2e3a8c87-0a3f-4c51-ab4c-7f0a0b27929f",
   "metadata": {},
   "outputs": [
    {
     "data": {
      "text/plain": [
       "1708696652224"
      ]
     },
     "execution_count": 53,
     "metadata": {},
     "output_type": "execute_result"
    }
   ],
   "source": [
    "id(list8)"
   ]
  },
  {
   "cell_type": "markdown",
   "id": "862c8730-7c54-4e0e-9d42-911bee06d3bf",
   "metadata": {},
   "source": [
    "## append"
   ]
  },
  {
   "cell_type": "code",
   "execution_count": 54,
   "id": "e7936ddf-611e-4658-ad74-e61f40abe90d",
   "metadata": {},
   "outputs": [],
   "source": [
    "list8.append(\"banana\")"
   ]
  },
  {
   "cell_type": "code",
   "execution_count": 55,
   "id": "e09d286a-e2e4-4260-a787-afc2ca6f8638",
   "metadata": {},
   "outputs": [
    {
     "data": {
      "text/plain": [
       "['pineapple', 'appple', 'mango', 'papaya', 'banana']"
      ]
     },
     "execution_count": 55,
     "metadata": {},
     "output_type": "execute_result"
    }
   ],
   "source": [
    "list8"
   ]
  },
  {
   "cell_type": "code",
   "execution_count": 56,
   "id": "b874079e-4280-4c5a-af33-2c9905b5663e",
   "metadata": {},
   "outputs": [],
   "source": [
    "list9 = [\"brinjal\", \"potato\", \"caulifower\", \"cabbage\"]"
   ]
  },
  {
   "cell_type": "code",
   "execution_count": 59,
   "id": "820f86b4-2096-42ea-bd85-ab6de1167b1d",
   "metadata": {},
   "outputs": [],
   "source": [
    "list8.append(list9)"
   ]
  },
  {
   "cell_type": "code",
   "execution_count": 60,
   "id": "7237231e-e6cb-4508-ad93-ecf0941614b1",
   "metadata": {},
   "outputs": [
    {
     "data": {
      "text/plain": [
       "['pineapple',\n",
       " 'appple',\n",
       " 'mango',\n",
       " 'papaya',\n",
       " 'banana',\n",
       " ['brinjal', 'potato', 'caulifower', 'cabbage']]"
      ]
     },
     "execution_count": 60,
     "metadata": {},
     "output_type": "execute_result"
    }
   ],
   "source": [
    "list8"
   ]
  },
  {
   "cell_type": "code",
   "execution_count": 62,
   "id": "bd647d68-10ee-42bc-9165-3c2cd2ebc383",
   "metadata": {},
   "outputs": [
    {
     "data": {
      "text/plain": [
       "['brinjal', 'potato', 'caulifower', 'cabbage']"
      ]
     },
     "execution_count": 62,
     "metadata": {},
     "output_type": "execute_result"
    }
   ],
   "source": [
    "list8[5]"
   ]
  },
  {
   "cell_type": "code",
   "execution_count": 63,
   "id": "086a6883-fd6b-46dd-9132-e6c49d5eca6b",
   "metadata": {},
   "outputs": [],
   "source": [
    "list8 = ['pineapple', 'appple', 'mango', 'papaya', 'banana']"
   ]
  },
  {
   "cell_type": "markdown",
   "id": "39e237cd-bdfc-4a43-aa8f-21226dc8c90c",
   "metadata": {},
   "source": [
    "## extend"
   ]
  },
  {
   "cell_type": "code",
   "execution_count": 64,
   "id": "a227de48-09c8-4aff-9c20-dd69c81afb32",
   "metadata": {},
   "outputs": [],
   "source": [
    "list8.extend(list9)"
   ]
  },
  {
   "cell_type": "code",
   "execution_count": 65,
   "id": "db9b1e44-6278-4028-b229-821107cb974d",
   "metadata": {},
   "outputs": [
    {
     "data": {
      "text/plain": [
       "['pineapple',\n",
       " 'appple',\n",
       " 'mango',\n",
       " 'papaya',\n",
       " 'banana',\n",
       " 'brinjal',\n",
       " 'potato',\n",
       " 'caulifower',\n",
       " 'cabbage']"
      ]
     },
     "execution_count": 65,
     "metadata": {},
     "output_type": "execute_result"
    }
   ],
   "source": [
    "list8"
   ]
  },
  {
   "cell_type": "code",
   "execution_count": 66,
   "id": "ef60cee8-f204-4392-8447-72567db2fe9d",
   "metadata": {},
   "outputs": [
    {
     "data": {
      "text/plain": [
       "6"
      ]
     },
     "execution_count": 66,
     "metadata": {},
     "output_type": "execute_result"
    }
   ],
   "source": [
    "list8.index(\"potato\")"
   ]
  },
  {
   "cell_type": "code",
   "execution_count": 67,
   "id": "ba005616-70c7-4187-9396-403b00fbbf22",
   "metadata": {},
   "outputs": [],
   "source": [
    "list8[6] = \"tomato\""
   ]
  },
  {
   "cell_type": "code",
   "execution_count": 69,
   "id": "2c44db86-8257-4746-babf-ca7a0f41cea6",
   "metadata": {},
   "outputs": [
    {
     "data": {
      "text/plain": [
       "['pineapple',\n",
       " 'appple',\n",
       " 'mango',\n",
       " 'papaya',\n",
       " 'banana',\n",
       " 'brinjal',\n",
       " 'tomato',\n",
       " 'caulifower',\n",
       " 'cabbage']"
      ]
     },
     "execution_count": 69,
     "metadata": {},
     "output_type": "execute_result"
    }
   ],
   "source": [
    "list8"
   ]
  },
  {
   "cell_type": "code",
   "execution_count": 70,
   "id": "171c3a5a-542f-4432-a217-2d27e495bbd9",
   "metadata": {},
   "outputs": [],
   "source": [
    "list8[list8.index(\"appple\")] = \"apple\""
   ]
  },
  {
   "cell_type": "code",
   "execution_count": 71,
   "id": "efe69eb6-6247-449f-9d96-6a437f444206",
   "metadata": {},
   "outputs": [
    {
     "data": {
      "text/plain": [
       "['pineapple',\n",
       " 'apple',\n",
       " 'mango',\n",
       " 'papaya',\n",
       " 'banana',\n",
       " 'brinjal',\n",
       " 'tomato',\n",
       " 'caulifower',\n",
       " 'cabbage']"
      ]
     },
     "execution_count": 71,
     "metadata": {},
     "output_type": "execute_result"
    }
   ],
   "source": [
    "list8"
   ]
  },
  {
   "cell_type": "code",
   "execution_count": 72,
   "id": "a9be57ee-7565-4cd0-851f-53bfad92e798",
   "metadata": {},
   "outputs": [],
   "source": [
    "list8.remove(\"pineapple\")"
   ]
  },
  {
   "cell_type": "code",
   "execution_count": 73,
   "id": "ca0202ee-78a1-4893-9286-70e883fabde0",
   "metadata": {},
   "outputs": [
    {
     "data": {
      "text/plain": [
       "['apple',\n",
       " 'mango',\n",
       " 'papaya',\n",
       " 'banana',\n",
       " 'brinjal',\n",
       " 'tomato',\n",
       " 'caulifower',\n",
       " 'cabbage']"
      ]
     },
     "execution_count": 73,
     "metadata": {},
     "output_type": "execute_result"
    }
   ],
   "source": [
    "list8"
   ]
  },
  {
   "cell_type": "code",
   "execution_count": 74,
   "id": "5a3e59e7-b85c-4f05-be7e-6a9635074ccd",
   "metadata": {},
   "outputs": [
    {
     "ename": "ValueError",
     "evalue": "list.remove(x): x not in list",
     "output_type": "error",
     "traceback": [
      "\u001b[1;31m---------------------------------------------------------------------------\u001b[0m",
      "\u001b[1;31mValueError\u001b[0m                                Traceback (most recent call last)",
      "Cell \u001b[1;32mIn[74], line 1\u001b[0m\n\u001b[1;32m----> 1\u001b[0m \u001b[43mlist8\u001b[49m\u001b[38;5;241;43m.\u001b[39;49m\u001b[43mremove\u001b[49m\u001b[43m(\u001b[49m\u001b[38;5;124;43m\"\u001b[39;49m\u001b[38;5;124;43mpineapple\u001b[39;49m\u001b[38;5;124;43m\"\u001b[39;49m\u001b[43m)\u001b[49m\n",
      "\u001b[1;31mValueError\u001b[0m: list.remove(x): x not in list"
     ]
    }
   ],
   "source": [
    "list8.remove(\"pineapple\")"
   ]
  },
  {
   "cell_type": "code",
   "execution_count": 75,
   "id": "01ccd832-b862-4f37-886a-fb085e07346e",
   "metadata": {},
   "outputs": [],
   "source": [
    "if \"pineapple\" in list8:\n",
    "    list8.remove()"
   ]
  },
  {
   "cell_type": "code",
   "execution_count": 76,
   "id": "ac444415-6646-4a7e-aa70-3e3600139525",
   "metadata": {},
   "outputs": [
    {
     "name": "stdout",
     "output_type": "stream",
     "text": [
      "cabbage\n",
      "tomato\n",
      "mango\n"
     ]
    }
   ],
   "source": [
    "list10 = [\"cabbage\", \"tomato\", \"mango\"]\n",
    "for item in list10:\n",
    "    if item in list8:\n",
    "        list8.remove(item)\n",
    "        print(item)"
   ]
  },
  {
   "cell_type": "code",
   "execution_count": 77,
   "id": "faff6cb7-12de-475f-bb7f-47fa8ff9fc0b",
   "metadata": {},
   "outputs": [
    {
     "data": {
      "text/plain": [
       "['apple', 'papaya', 'banana', 'brinjal', 'caulifower']"
      ]
     },
     "execution_count": 77,
     "metadata": {},
     "output_type": "execute_result"
    }
   ],
   "source": [
    "list8"
   ]
  },
  {
   "cell_type": "markdown",
   "id": "a4c820c6-a7a3-445f-bdb8-154e4a7c11a1",
   "metadata": {},
   "source": [
    "### pop()"
   ]
  },
  {
   "cell_type": "code",
   "execution_count": 78,
   "id": "c5204d40-3ac7-4c26-add8-5fb9f8e2dcbe",
   "metadata": {},
   "outputs": [
    {
     "data": {
      "text/plain": [
       "'caulifower'"
      ]
     },
     "execution_count": 78,
     "metadata": {},
     "output_type": "execute_result"
    }
   ],
   "source": [
    "list8.pop()"
   ]
  },
  {
   "cell_type": "code",
   "execution_count": 79,
   "id": "9f93c453-be7a-4b6f-936b-0f8ced9e406f",
   "metadata": {},
   "outputs": [],
   "source": [
    "veggies = list8.pop()"
   ]
  },
  {
   "cell_type": "code",
   "execution_count": 80,
   "id": "375c0ab7-2b36-4490-96de-29c0d2904664",
   "metadata": {},
   "outputs": [
    {
     "data": {
      "text/plain": [
       "'brinjal'"
      ]
     },
     "execution_count": 80,
     "metadata": {},
     "output_type": "execute_result"
    }
   ],
   "source": [
    "veggies"
   ]
  },
  {
   "cell_type": "code",
   "execution_count": 81,
   "id": "ce7e0e6e-531e-41aa-974b-3e1fe393cd32",
   "metadata": {},
   "outputs": [
    {
     "data": {
      "text/plain": [
       "['apple', 'papaya', 'banana']"
      ]
     },
     "execution_count": 81,
     "metadata": {},
     "output_type": "execute_result"
    }
   ],
   "source": [
    "list8"
   ]
  },
  {
   "cell_type": "code",
   "execution_count": 82,
   "id": "79c5fb0e-dbfe-485b-a188-61855d7aa20d",
   "metadata": {},
   "outputs": [
    {
     "data": {
      "text/plain": [
       "'papaya'"
      ]
     },
     "execution_count": 82,
     "metadata": {},
     "output_type": "execute_result"
    }
   ],
   "source": [
    "list8.pop(1)"
   ]
  },
  {
   "cell_type": "code",
   "execution_count": 83,
   "id": "c2298262-6e18-4477-ae3b-897e77c067ff",
   "metadata": {},
   "outputs": [
    {
     "data": {
      "text/plain": [
       "['apple', 'banana']"
      ]
     },
     "execution_count": 83,
     "metadata": {},
     "output_type": "execute_result"
    }
   ],
   "source": [
    "list8"
   ]
  },
  {
   "cell_type": "code",
   "execution_count": 84,
   "id": "8bc0f813-431f-4916-b9a1-191f11ab4b17",
   "metadata": {},
   "outputs": [],
   "source": [
    "list8.extend([\"mango\", \"pineapple\", \"litchi\"])"
   ]
  },
  {
   "cell_type": "code",
   "execution_count": 85,
   "id": "62593290-e6b0-4ea1-9288-b0ff6e93d52b",
   "metadata": {},
   "outputs": [
    {
     "data": {
      "text/plain": [
       "['apple', 'banana', 'mango', 'pineapple', 'litchi']"
      ]
     },
     "execution_count": 85,
     "metadata": {},
     "output_type": "execute_result"
    }
   ],
   "source": [
    "list8"
   ]
  },
  {
   "cell_type": "code",
   "execution_count": 86,
   "id": "04fa6caa-2c1d-4988-ad91-5c4335cde90f",
   "metadata": {},
   "outputs": [
    {
     "data": {
      "text/plain": [
       "'mango'"
      ]
     },
     "execution_count": 86,
     "metadata": {},
     "output_type": "execute_result"
    }
   ],
   "source": [
    "list8.pop(-3)"
   ]
  },
  {
   "cell_type": "code",
   "execution_count": 87,
   "id": "1f21ca91-6f54-4817-97d5-e79d7e03e3e3",
   "metadata": {},
   "outputs": [
    {
     "data": {
      "text/plain": [
       "['apple', 'banana', 'pineapple', 'litchi']"
      ]
     },
     "execution_count": 87,
     "metadata": {},
     "output_type": "execute_result"
    }
   ],
   "source": [
    "list8"
   ]
  },
  {
   "cell_type": "markdown",
   "id": "09caaad4-e796-46cc-b9b4-661ab00583a3",
   "metadata": {},
   "source": [
    "### del"
   ]
  },
  {
   "cell_type": "code",
   "execution_count": 91,
   "id": "82577b15-4147-4ea2-af1a-56b53984f42e",
   "metadata": {},
   "outputs": [],
   "source": [
    "name1 = [\"one\", \"two\", \"three\", \"four\"]"
   ]
  },
  {
   "cell_type": "code",
   "execution_count": 92,
   "id": "d8d4f9f8-54d1-4b8a-a673-76a7e542811e",
   "metadata": {},
   "outputs": [],
   "source": [
    "name2 = [\"five\", \"six\", \"seven\"]"
   ]
  },
  {
   "cell_type": "code",
   "execution_count": 93,
   "id": "2347c7c0-742f-4172-86a9-8e92fb2ff0b3",
   "metadata": {},
   "outputs": [],
   "source": [
    "name1.append(name2)"
   ]
  },
  {
   "cell_type": "code",
   "execution_count": 94,
   "id": "d5f97a84-8697-4960-a62c-23094510f3bd",
   "metadata": {},
   "outputs": [
    {
     "name": "stdout",
     "output_type": "stream",
     "text": [
      "['one', 'two', 'three', 'four', ['five', 'six', 'seven']]\n"
     ]
    }
   ],
   "source": [
    "print(name1)"
   ]
  },
  {
   "cell_type": "code",
   "execution_count": 95,
   "id": "d41b321f-45ff-40a4-98d6-abd7947e20ed",
   "metadata": {},
   "outputs": [
    {
     "data": {
      "text/plain": [
       "'six'"
      ]
     },
     "execution_count": 95,
     "metadata": {},
     "output_type": "execute_result"
    }
   ],
   "source": [
    "name2.pop(1)"
   ]
  },
  {
   "cell_type": "code",
   "execution_count": 96,
   "id": "a9fe5077-d435-41c3-b39c-4d0d1e10fe21",
   "metadata": {},
   "outputs": [
    {
     "data": {
      "text/plain": [
       "['one', 'two', 'three', 'four', ['five', 'seven']]"
      ]
     },
     "execution_count": 96,
     "metadata": {},
     "output_type": "execute_result"
    }
   ],
   "source": [
    "name1"
   ]
  },
  {
   "cell_type": "code",
   "execution_count": 98,
   "id": "8e2e453d-ecd0-41ae-acdf-09c934ca7215",
   "metadata": {},
   "outputs": [
    {
     "data": {
      "text/plain": [
       "['one', 'two', 'three', 'four', ['five', 'seven']]"
      ]
     },
     "execution_count": 98,
     "metadata": {},
     "output_type": "execute_result"
    }
   ],
   "source": [
    "name1"
   ]
  },
  {
   "cell_type": "code",
   "execution_count": 99,
   "id": "17d95f64-6225-4c75-8829-e2c405708743",
   "metadata": {},
   "outputs": [],
   "source": [
    "name3 = [5, 9, 7]"
   ]
  },
  {
   "cell_type": "code",
   "execution_count": 103,
   "id": "f05b84c2-bb93-4483-b873-4dc41d0b14f4",
   "metadata": {},
   "outputs": [],
   "source": [
    "name1.append(list())\n",
    "for i in name3:\n",
    "    name1[-1].append(i)"
   ]
  },
  {
   "cell_type": "code",
   "execution_count": 104,
   "id": "2e469345-8040-4c8a-8b92-f47df0986edd",
   "metadata": {},
   "outputs": [
    {
     "data": {
      "text/plain": [
       "['one', 'two', 'three', 'four', ['five', 'seven'], [5, 9, 7]]"
      ]
     },
     "execution_count": 104,
     "metadata": {},
     "output_type": "execute_result"
    }
   ],
   "source": [
    "name1"
   ]
  },
  {
   "cell_type": "code",
   "execution_count": 105,
   "id": "01a33aaa-4215-4e06-a3dd-9007e124e849",
   "metadata": {},
   "outputs": [
    {
     "data": {
      "text/plain": [
       "7"
      ]
     },
     "execution_count": 105,
     "metadata": {},
     "output_type": "execute_result"
    }
   ],
   "source": [
    "name3.pop()"
   ]
  },
  {
   "cell_type": "code",
   "execution_count": 106,
   "id": "d90174e8-a21c-4e1b-bf5f-9c6527a83907",
   "metadata": {},
   "outputs": [
    {
     "data": {
      "text/plain": [
       "['one', 'two', 'three', 'four', ['five', 'seven'], [5, 9, 7]]"
      ]
     },
     "execution_count": 106,
     "metadata": {},
     "output_type": "execute_result"
    }
   ],
   "source": [
    "name1"
   ]
  },
  {
   "cell_type": "code",
   "execution_count": 107,
   "id": "519da6e1-02a7-4c3e-82e9-dcec44717051",
   "metadata": {},
   "outputs": [
    {
     "data": {
      "text/plain": [
       "[5, 9, 7]"
      ]
     },
     "execution_count": 107,
     "metadata": {},
     "output_type": "execute_result"
    }
   ],
   "source": [
    "name1[-1]"
   ]
  },
  {
   "cell_type": "code",
   "execution_count": 108,
   "id": "e7395538-9375-4d7f-a664-d02aca33e1e4",
   "metadata": {},
   "outputs": [
    {
     "data": {
      "text/plain": [
       "9"
      ]
     },
     "execution_count": 108,
     "metadata": {},
     "output_type": "execute_result"
    }
   ],
   "source": [
    "name1[-1][1]"
   ]
  },
  {
   "cell_type": "markdown",
   "id": "d1f2ad5c-1d19-4a1d-a680-9411e40b4d7e",
   "metadata": {},
   "source": [
    "### list comprehension"
   ]
  },
  {
   "cell_type": "code",
   "execution_count": 110,
   "id": "2d8d7915-e7b3-4a84-92f8-84d7b28d8f4f",
   "metadata": {},
   "outputs": [
    {
     "data": {
      "text/plain": [
       "['apple', 'banana', 'pineapple', 'litchi']"
      ]
     },
     "execution_count": 110,
     "metadata": {},
     "output_type": "execute_result"
    }
   ],
   "source": [
    "list8"
   ]
  },
  {
   "cell_type": "code",
   "execution_count": null,
   "id": "97587241-10c9-42b5-aa45-7d9532013f95",
   "metadata": {},
   "outputs": [],
   "source": [
    "# save only those fruits which doenot ends with the letter \"e\""
   ]
  },
  {
   "cell_type": "code",
   "execution_count": 111,
   "id": "e807248c-e83d-40b7-a119-a097ddcb6e26",
   "metadata": {},
   "outputs": [
    {
     "name": "stdout",
     "output_type": "stream",
     "text": [
      "banana\n",
      "litchi\n"
     ]
    }
   ],
   "source": [
    "newlist = []\n",
    "for fruit in list8:\n",
    "    if fruit[-1] != \"e\":\n",
    "        print(fruit)"
   ]
  },
  {
   "cell_type": "code",
   "execution_count": 112,
   "id": "febd65c7-a4fd-465b-b978-2086615921f8",
   "metadata": {},
   "outputs": [],
   "source": [
    "newlist = []\n",
    "for fruit in list8:\n",
    "    if fruit[-1] != \"e\":\n",
    "        newlist.append(fruit)"
   ]
  },
  {
   "cell_type": "code",
   "execution_count": 113,
   "id": "8ba9f22e-abe8-44e3-80b4-cb4d1e09b216",
   "metadata": {},
   "outputs": [
    {
     "data": {
      "text/plain": [
       "['banana', 'litchi']"
      ]
     },
     "execution_count": 113,
     "metadata": {},
     "output_type": "execute_result"
    }
   ],
   "source": [
    "newlist"
   ]
  },
  {
   "cell_type": "code",
   "execution_count": 114,
   "id": "74949d33-0698-4ce1-831f-fa7514b277d2",
   "metadata": {
    "collapsed": true,
    "jupyter": {
     "outputs_hidden": true
    }
   },
   "outputs": [
    {
     "name": "stdout",
     "output_type": "stream",
     "text": [
      "Help on class list in module builtins:\n",
      "\n",
      "class list(object)\n",
      " |  list(iterable=(), /)\n",
      " |\n",
      " |  Built-in mutable sequence.\n",
      " |\n",
      " |  If no argument is given, the constructor creates a new empty list.\n",
      " |  The argument must be an iterable if specified.\n",
      " |\n",
      " |  Methods defined here:\n",
      " |\n",
      " |  __add__(self, value, /)\n",
      " |      Return self+value.\n",
      " |\n",
      " |  __contains__(self, key, /)\n",
      " |      Return bool(key in self).\n",
      " |\n",
      " |  __delitem__(self, key, /)\n",
      " |      Delete self[key].\n",
      " |\n",
      " |  __eq__(self, value, /)\n",
      " |      Return self==value.\n",
      " |\n",
      " |  __ge__(self, value, /)\n",
      " |      Return self>=value.\n",
      " |\n",
      " |  __getattribute__(self, name, /)\n",
      " |      Return getattr(self, name).\n",
      " |\n",
      " |  __getitem__(self, index, /)\n",
      " |      Return self[index].\n",
      " |\n",
      " |  __gt__(self, value, /)\n",
      " |      Return self>value.\n",
      " |\n",
      " |  __iadd__(self, value, /)\n",
      " |      Implement self+=value.\n",
      " |\n",
      " |  __imul__(self, value, /)\n",
      " |      Implement self*=value.\n",
      " |\n",
      " |  __init__(self, /, *args, **kwargs)\n",
      " |      Initialize self.  See help(type(self)) for accurate signature.\n",
      " |\n",
      " |  __iter__(self, /)\n",
      " |      Implement iter(self).\n",
      " |\n",
      " |  __le__(self, value, /)\n",
      " |      Return self<=value.\n",
      " |\n",
      " |  __len__(self, /)\n",
      " |      Return len(self).\n",
      " |\n",
      " |  __lt__(self, value, /)\n",
      " |      Return self<value.\n",
      " |\n",
      " |  __mul__(self, value, /)\n",
      " |      Return self*value.\n",
      " |\n",
      " |  __ne__(self, value, /)\n",
      " |      Return self!=value.\n",
      " |\n",
      " |  __repr__(self, /)\n",
      " |      Return repr(self).\n",
      " |\n",
      " |  __reversed__(self, /)\n",
      " |      Return a reverse iterator over the list.\n",
      " |\n",
      " |  __rmul__(self, value, /)\n",
      " |      Return value*self.\n",
      " |\n",
      " |  __setitem__(self, key, value, /)\n",
      " |      Set self[key] to value.\n",
      " |\n",
      " |  __sizeof__(self, /)\n",
      " |      Return the size of the list in memory, in bytes.\n",
      " |\n",
      " |  append(self, object, /)\n",
      " |      Append object to the end of the list.\n",
      " |\n",
      " |  clear(self, /)\n",
      " |      Remove all items from list.\n",
      " |\n",
      " |  copy(self, /)\n",
      " |      Return a shallow copy of the list.\n",
      " |\n",
      " |  count(self, value, /)\n",
      " |      Return number of occurrences of value.\n",
      " |\n",
      " |  extend(self, iterable, /)\n",
      " |      Extend list by appending elements from the iterable.\n",
      " |\n",
      " |  index(self, value, start=0, stop=9223372036854775807, /)\n",
      " |      Return first index of value.\n",
      " |\n",
      " |      Raises ValueError if the value is not present.\n",
      " |\n",
      " |  insert(self, index, object, /)\n",
      " |      Insert object before index.\n",
      " |\n",
      " |  pop(self, index=-1, /)\n",
      " |      Remove and return item at index (default last).\n",
      " |\n",
      " |      Raises IndexError if list is empty or index is out of range.\n",
      " |\n",
      " |  remove(self, value, /)\n",
      " |      Remove first occurrence of value.\n",
      " |\n",
      " |      Raises ValueError if the value is not present.\n",
      " |\n",
      " |  reverse(self, /)\n",
      " |      Reverse *IN PLACE*.\n",
      " |\n",
      " |  sort(self, /, *, key=None, reverse=False)\n",
      " |      Sort the list in ascending order and return None.\n",
      " |\n",
      " |      The sort is in-place (i.e. the list itself is modified) and stable (i.e. the\n",
      " |      order of two equal elements is maintained).\n",
      " |\n",
      " |      If a key function is given, apply it once to each list item and sort them,\n",
      " |      ascending or descending, according to their function values.\n",
      " |\n",
      " |      The reverse flag can be set to sort in descending order.\n",
      " |\n",
      " |  ----------------------------------------------------------------------\n",
      " |  Class methods defined here:\n",
      " |\n",
      " |  __class_getitem__(object, /)\n",
      " |      See PEP 585\n",
      " |\n",
      " |  ----------------------------------------------------------------------\n",
      " |  Static methods defined here:\n",
      " |\n",
      " |  __new__(*args, **kwargs)\n",
      " |      Create and return a new object.  See help(type) for accurate signature.\n",
      " |\n",
      " |  ----------------------------------------------------------------------\n",
      " |  Data and other attributes defined here:\n",
      " |\n",
      " |  __hash__ = None\n",
      "\n"
     ]
    }
   ],
   "source": [
    "help(list)"
   ]
  },
  {
   "cell_type": "code",
   "execution_count": 115,
   "id": "01e68b39-cfde-4ddb-a74a-38ee69224b9d",
   "metadata": {
    "collapsed": true,
    "jupyter": {
     "outputs_hidden": true
    }
   },
   "outputs": [
    {
     "name": "stdout",
     "output_type": "stream",
     "text": [
      "Help on class str in module builtins:\n",
      "\n",
      "class str(object)\n",
      " |  str(object='') -> str\n",
      " |  str(bytes_or_buffer[, encoding[, errors]]) -> str\n",
      " |\n",
      " |  Create a new string object from the given object. If encoding or\n",
      " |  errors is specified, then the object must expose a data buffer\n",
      " |  that will be decoded using the given encoding and error handler.\n",
      " |  Otherwise, returns the result of object.__str__() (if defined)\n",
      " |  or repr(object).\n",
      " |  encoding defaults to 'utf-8'.\n",
      " |  errors defaults to 'strict'.\n",
      " |\n",
      " |  Methods defined here:\n",
      " |\n",
      " |  __add__(self, value, /)\n",
      " |      Return self+value.\n",
      " |\n",
      " |  __contains__(self, key, /)\n",
      " |      Return bool(key in self).\n",
      " |\n",
      " |  __eq__(self, value, /)\n",
      " |      Return self==value.\n",
      " |\n",
      " |  __format__(self, format_spec, /)\n",
      " |      Return a formatted version of the string as described by format_spec.\n",
      " |\n",
      " |  __ge__(self, value, /)\n",
      " |      Return self>=value.\n",
      " |\n",
      " |  __getitem__(self, key, /)\n",
      " |      Return self[key].\n",
      " |\n",
      " |  __getnewargs__(self, /)\n",
      " |\n",
      " |  __gt__(self, value, /)\n",
      " |      Return self>value.\n",
      " |\n",
      " |  __hash__(self, /)\n",
      " |      Return hash(self).\n",
      " |\n",
      " |  __iter__(self, /)\n",
      " |      Implement iter(self).\n",
      " |\n",
      " |  __le__(self, value, /)\n",
      " |      Return self<=value.\n",
      " |\n",
      " |  __len__(self, /)\n",
      " |      Return len(self).\n",
      " |\n",
      " |  __lt__(self, value, /)\n",
      " |      Return self<value.\n",
      " |\n",
      " |  __mod__(self, value, /)\n",
      " |      Return self%value.\n",
      " |\n",
      " |  __mul__(self, value, /)\n",
      " |      Return self*value.\n",
      " |\n",
      " |  __ne__(self, value, /)\n",
      " |      Return self!=value.\n",
      " |\n",
      " |  __repr__(self, /)\n",
      " |      Return repr(self).\n",
      " |\n",
      " |  __rmod__(self, value, /)\n",
      " |      Return value%self.\n",
      " |\n",
      " |  __rmul__(self, value, /)\n",
      " |      Return value*self.\n",
      " |\n",
      " |  __sizeof__(self, /)\n",
      " |      Return the size of the string in memory, in bytes.\n",
      " |\n",
      " |  __str__(self, /)\n",
      " |      Return str(self).\n",
      " |\n",
      " |  capitalize(self, /)\n",
      " |      Return a capitalized version of the string.\n",
      " |\n",
      " |      More specifically, make the first character have upper case and the rest lower\n",
      " |      case.\n",
      " |\n",
      " |  casefold(self, /)\n",
      " |      Return a version of the string suitable for caseless comparisons.\n",
      " |\n",
      " |  center(self, width, fillchar=' ', /)\n",
      " |      Return a centered string of length width.\n",
      " |\n",
      " |      Padding is done using the specified fill character (default is a space).\n",
      " |\n",
      " |  count(self, sub[, start[, end]], /)\n",
      " |      Return the number of non-overlapping occurrences of substring sub in string S[start:end].\n",
      " |\n",
      " |      Optional arguments start and end are interpreted as in slice notation.\n",
      " |\n",
      " |  encode(self, /, encoding='utf-8', errors='strict')\n",
      " |      Encode the string using the codec registered for encoding.\n",
      " |\n",
      " |      encoding\n",
      " |        The encoding in which to encode the string.\n",
      " |      errors\n",
      " |        The error handling scheme to use for encoding errors.\n",
      " |        The default is 'strict' meaning that encoding errors raise a\n",
      " |        UnicodeEncodeError.  Other possible values are 'ignore', 'replace' and\n",
      " |        'xmlcharrefreplace' as well as any other name registered with\n",
      " |        codecs.register_error that can handle UnicodeEncodeErrors.\n",
      " |\n",
      " |  endswith(self, suffix[, start[, end]], /)\n",
      " |      Return True if the string ends with the specified suffix, False otherwise.\n",
      " |\n",
      " |      suffix\n",
      " |        A string or a tuple of strings to try.\n",
      " |      start\n",
      " |        Optional start position. Default: start of the string.\n",
      " |      end\n",
      " |        Optional stop position. Default: end of the string.\n",
      " |\n",
      " |  expandtabs(self, /, tabsize=8)\n",
      " |      Return a copy where all tab characters are expanded using spaces.\n",
      " |\n",
      " |      If tabsize is not given, a tab size of 8 characters is assumed.\n",
      " |\n",
      " |  find(self, sub[, start[, end]], /)\n",
      " |      Return the lowest index in S where substring sub is found, such that sub is contained within S[start:end].\n",
      " |\n",
      " |      Optional arguments start and end are interpreted as in slice notation.\n",
      " |      Return -1 on failure.\n",
      " |\n",
      " |  format(self, /, *args, **kwargs)\n",
      " |      Return a formatted version of the string, using substitutions from args and kwargs.\n",
      " |      The substitutions are identified by braces ('{' and '}').\n",
      " |\n",
      " |  format_map(self, mapping, /)\n",
      " |      Return a formatted version of the string, using substitutions from mapping.\n",
      " |      The substitutions are identified by braces ('{' and '}').\n",
      " |\n",
      " |  index(self, sub[, start[, end]], /)\n",
      " |      Return the lowest index in S where substring sub is found, such that sub is contained within S[start:end].\n",
      " |\n",
      " |      Optional arguments start and end are interpreted as in slice notation.\n",
      " |      Raises ValueError when the substring is not found.\n",
      " |\n",
      " |  isalnum(self, /)\n",
      " |      Return True if the string is an alpha-numeric string, False otherwise.\n",
      " |\n",
      " |      A string is alpha-numeric if all characters in the string are alpha-numeric and\n",
      " |      there is at least one character in the string.\n",
      " |\n",
      " |  isalpha(self, /)\n",
      " |      Return True if the string is an alphabetic string, False otherwise.\n",
      " |\n",
      " |      A string is alphabetic if all characters in the string are alphabetic and there\n",
      " |      is at least one character in the string.\n",
      " |\n",
      " |  isascii(self, /)\n",
      " |      Return True if all characters in the string are ASCII, False otherwise.\n",
      " |\n",
      " |      ASCII characters have code points in the range U+0000-U+007F.\n",
      " |      Empty string is ASCII too.\n",
      " |\n",
      " |  isdecimal(self, /)\n",
      " |      Return True if the string is a decimal string, False otherwise.\n",
      " |\n",
      " |      A string is a decimal string if all characters in the string are decimal and\n",
      " |      there is at least one character in the string.\n",
      " |\n",
      " |  isdigit(self, /)\n",
      " |      Return True if the string is a digit string, False otherwise.\n",
      " |\n",
      " |      A string is a digit string if all characters in the string are digits and there\n",
      " |      is at least one character in the string.\n",
      " |\n",
      " |  isidentifier(self, /)\n",
      " |      Return True if the string is a valid Python identifier, False otherwise.\n",
      " |\n",
      " |      Call keyword.iskeyword(s) to test whether string s is a reserved identifier,\n",
      " |      such as \"def\" or \"class\".\n",
      " |\n",
      " |  islower(self, /)\n",
      " |      Return True if the string is a lowercase string, False otherwise.\n",
      " |\n",
      " |      A string is lowercase if all cased characters in the string are lowercase and\n",
      " |      there is at least one cased character in the string.\n",
      " |\n",
      " |  isnumeric(self, /)\n",
      " |      Return True if the string is a numeric string, False otherwise.\n",
      " |\n",
      " |      A string is numeric if all characters in the string are numeric and there is at\n",
      " |      least one character in the string.\n",
      " |\n",
      " |  isprintable(self, /)\n",
      " |      Return True if all characters in the string are printable, False otherwise.\n",
      " |\n",
      " |      A character is printable if repr() may use it in its output.\n",
      " |\n",
      " |  isspace(self, /)\n",
      " |      Return True if the string is a whitespace string, False otherwise.\n",
      " |\n",
      " |      A string is whitespace if all characters in the string are whitespace and there\n",
      " |      is at least one character in the string.\n",
      " |\n",
      " |  istitle(self, /)\n",
      " |      Return True if the string is a title-cased string, False otherwise.\n",
      " |\n",
      " |      In a title-cased string, upper- and title-case characters may only\n",
      " |      follow uncased characters and lowercase characters only cased ones.\n",
      " |\n",
      " |  isupper(self, /)\n",
      " |      Return True if the string is an uppercase string, False otherwise.\n",
      " |\n",
      " |      A string is uppercase if all cased characters in the string are uppercase and\n",
      " |      there is at least one cased character in the string.\n",
      " |\n",
      " |  join(self, iterable, /)\n",
      " |      Concatenate any number of strings.\n",
      " |\n",
      " |      The string whose method is called is inserted in between each given string.\n",
      " |      The result is returned as a new string.\n",
      " |\n",
      " |      Example: '.'.join(['ab', 'pq', 'rs']) -> 'ab.pq.rs'\n",
      " |\n",
      " |  ljust(self, width, fillchar=' ', /)\n",
      " |      Return a left-justified string of length width.\n",
      " |\n",
      " |      Padding is done using the specified fill character (default is a space).\n",
      " |\n",
      " |  lower(self, /)\n",
      " |      Return a copy of the string converted to lowercase.\n",
      " |\n",
      " |  lstrip(self, chars=None, /)\n",
      " |      Return a copy of the string with leading whitespace removed.\n",
      " |\n",
      " |      If chars is given and not None, remove characters in chars instead.\n",
      " |\n",
      " |  partition(self, sep, /)\n",
      " |      Partition the string into three parts using the given separator.\n",
      " |\n",
      " |      This will search for the separator in the string.  If the separator is found,\n",
      " |      returns a 3-tuple containing the part before the separator, the separator\n",
      " |      itself, and the part after it.\n",
      " |\n",
      " |      If the separator is not found, returns a 3-tuple containing the original string\n",
      " |      and two empty strings.\n",
      " |\n",
      " |  removeprefix(self, prefix, /)\n",
      " |      Return a str with the given prefix string removed if present.\n",
      " |\n",
      " |      If the string starts with the prefix string, return string[len(prefix):].\n",
      " |      Otherwise, return a copy of the original string.\n",
      " |\n",
      " |  removesuffix(self, suffix, /)\n",
      " |      Return a str with the given suffix string removed if present.\n",
      " |\n",
      " |      If the string ends with the suffix string and that suffix is not empty,\n",
      " |      return string[:-len(suffix)]. Otherwise, return a copy of the original\n",
      " |      string.\n",
      " |\n",
      " |  replace(self, old, new, /, count=-1)\n",
      " |      Return a copy with all occurrences of substring old replaced by new.\n",
      " |\n",
      " |        count\n",
      " |          Maximum number of occurrences to replace.\n",
      " |          -1 (the default value) means replace all occurrences.\n",
      " |\n",
      " |      If the optional argument count is given, only the first count occurrences are\n",
      " |      replaced.\n",
      " |\n",
      " |  rfind(self, sub[, start[, end]], /)\n",
      " |      Return the highest index in S where substring sub is found, such that sub is contained within S[start:end].\n",
      " |\n",
      " |      Optional arguments start and end are interpreted as in slice notation.\n",
      " |      Return -1 on failure.\n",
      " |\n",
      " |  rindex(self, sub[, start[, end]], /)\n",
      " |      Return the highest index in S where substring sub is found, such that sub is contained within S[start:end].\n",
      " |\n",
      " |      Optional arguments start and end are interpreted as in slice notation.\n",
      " |      Raises ValueError when the substring is not found.\n",
      " |\n",
      " |  rjust(self, width, fillchar=' ', /)\n",
      " |      Return a right-justified string of length width.\n",
      " |\n",
      " |      Padding is done using the specified fill character (default is a space).\n",
      " |\n",
      " |  rpartition(self, sep, /)\n",
      " |      Partition the string into three parts using the given separator.\n",
      " |\n",
      " |      This will search for the separator in the string, starting at the end. If\n",
      " |      the separator is found, returns a 3-tuple containing the part before the\n",
      " |      separator, the separator itself, and the part after it.\n",
      " |\n",
      " |      If the separator is not found, returns a 3-tuple containing two empty strings\n",
      " |      and the original string.\n",
      " |\n",
      " |  rsplit(self, /, sep=None, maxsplit=-1)\n",
      " |      Return a list of the substrings in the string, using sep as the separator string.\n",
      " |\n",
      " |        sep\n",
      " |          The separator used to split the string.\n",
      " |\n",
      " |          When set to None (the default value), will split on any whitespace\n",
      " |          character (including \\n \\r \\t \\f and spaces) and will discard\n",
      " |          empty strings from the result.\n",
      " |        maxsplit\n",
      " |          Maximum number of splits.\n",
      " |          -1 (the default value) means no limit.\n",
      " |\n",
      " |      Splitting starts at the end of the string and works to the front.\n",
      " |\n",
      " |  rstrip(self, chars=None, /)\n",
      " |      Return a copy of the string with trailing whitespace removed.\n",
      " |\n",
      " |      If chars is given and not None, remove characters in chars instead.\n",
      " |\n",
      " |  split(self, /, sep=None, maxsplit=-1)\n",
      " |      Return a list of the substrings in the string, using sep as the separator string.\n",
      " |\n",
      " |        sep\n",
      " |          The separator used to split the string.\n",
      " |\n",
      " |          When set to None (the default value), will split on any whitespace\n",
      " |          character (including \\n \\r \\t \\f and spaces) and will discard\n",
      " |          empty strings from the result.\n",
      " |        maxsplit\n",
      " |          Maximum number of splits.\n",
      " |          -1 (the default value) means no limit.\n",
      " |\n",
      " |      Splitting starts at the front of the string and works to the end.\n",
      " |\n",
      " |      Note, str.split() is mainly useful for data that has been intentionally\n",
      " |      delimited.  With natural text that includes punctuation, consider using\n",
      " |      the regular expression module.\n",
      " |\n",
      " |  splitlines(self, /, keepends=False)\n",
      " |      Return a list of the lines in the string, breaking at line boundaries.\n",
      " |\n",
      " |      Line breaks are not included in the resulting list unless keepends is given and\n",
      " |      true.\n",
      " |\n",
      " |  startswith(self, prefix[, start[, end]], /)\n",
      " |      Return True if the string starts with the specified prefix, False otherwise.\n",
      " |\n",
      " |      prefix\n",
      " |        A string or a tuple of strings to try.\n",
      " |      start\n",
      " |        Optional start position. Default: start of the string.\n",
      " |      end\n",
      " |        Optional stop position. Default: end of the string.\n",
      " |\n",
      " |  strip(self, chars=None, /)\n",
      " |      Return a copy of the string with leading and trailing whitespace removed.\n",
      " |\n",
      " |      If chars is given and not None, remove characters in chars instead.\n",
      " |\n",
      " |  swapcase(self, /)\n",
      " |      Convert uppercase characters to lowercase and lowercase characters to uppercase.\n",
      " |\n",
      " |  title(self, /)\n",
      " |      Return a version of the string where each word is titlecased.\n",
      " |\n",
      " |      More specifically, words start with uppercased characters and all remaining\n",
      " |      cased characters have lower case.\n",
      " |\n",
      " |  translate(self, table, /)\n",
      " |      Replace each character in the string using the given translation table.\n",
      " |\n",
      " |        table\n",
      " |          Translation table, which must be a mapping of Unicode ordinals to\n",
      " |          Unicode ordinals, strings, or None.\n",
      " |\n",
      " |      The table must implement lookup/indexing via __getitem__, for instance a\n",
      " |      dictionary or list.  If this operation raises LookupError, the character is\n",
      " |      left untouched.  Characters mapped to None are deleted.\n",
      " |\n",
      " |  upper(self, /)\n",
      " |      Return a copy of the string converted to uppercase.\n",
      " |\n",
      " |  zfill(self, width, /)\n",
      " |      Pad a numeric string with zeros on the left, to fill a field of the given width.\n",
      " |\n",
      " |      The string is never truncated.\n",
      " |\n",
      " |  ----------------------------------------------------------------------\n",
      " |  Static methods defined here:\n",
      " |\n",
      " |  __new__(*args, **kwargs)\n",
      " |      Create and return a new object.  See help(type) for accurate signature.\n",
      " |\n",
      " |  maketrans(x, y=<unrepresentable>, z=<unrepresentable>, /)\n",
      " |      Return a translation table usable for str.translate().\n",
      " |\n",
      " |      If there is only one argument, it must be a dictionary mapping Unicode\n",
      " |      ordinals (integers) or characters to Unicode ordinals, strings or None.\n",
      " |      Character keys will be then converted to ordinals.\n",
      " |      If there are two arguments, they must be strings of equal length, and\n",
      " |      in the resulting dictionary, each character in x will be mapped to the\n",
      " |      character at the same position in y. If there is a third argument, it\n",
      " |      must be a string, whose characters will be mapped to None in the result.\n",
      "\n"
     ]
    }
   ],
   "source": [
    "help(str)"
   ]
  },
  {
   "cell_type": "code",
   "execution_count": 116,
   "id": "d2f39af8-39fa-453a-b5f5-5101a32ba1bb",
   "metadata": {},
   "outputs": [],
   "source": [
    "newlist = [fruit for fruit in list8 if fruit[-1] != \"e\"]"
   ]
  },
  {
   "cell_type": "code",
   "execution_count": 117,
   "id": "14260b2c-34dc-4ed5-9803-bb168f086278",
   "metadata": {},
   "outputs": [
    {
     "data": {
      "text/plain": [
       "['banana', 'litchi']"
      ]
     },
     "execution_count": 117,
     "metadata": {},
     "output_type": "execute_result"
    }
   ],
   "source": [
    "newlist"
   ]
  },
  {
   "cell_type": "code",
   "execution_count": 118,
   "id": "6350d8c4-1d5b-4b50-871a-64a50750e175",
   "metadata": {},
   "outputs": [],
   "source": [
    "newlist = [fruit for fruit in list8 if fruit[-1] == \"e\"]"
   ]
  },
  {
   "cell_type": "code",
   "execution_count": 119,
   "id": "dc188337-292a-4c39-908d-24b0ecf84617",
   "metadata": {},
   "outputs": [
    {
     "data": {
      "text/plain": [
       "['apple', 'pineapple']"
      ]
     },
     "execution_count": 119,
     "metadata": {},
     "output_type": "execute_result"
    }
   ],
   "source": [
    "newlist"
   ]
  },
  {
   "cell_type": "code",
   "execution_count": null,
   "id": "19d1eaa3-7aec-42e7-81d9-cef3c82b046b",
   "metadata": {},
   "outputs": [],
   "source": []
  }
 ],
 "metadata": {
  "kernelspec": {
   "display_name": "Python 3 (ipykernel)",
   "language": "python",
   "name": "python3"
  },
  "language_info": {
   "codemirror_mode": {
    "name": "ipython",
    "version": 3
   },
   "file_extension": ".py",
   "mimetype": "text/x-python",
   "name": "python",
   "nbconvert_exporter": "python",
   "pygments_lexer": "ipython3",
   "version": "3.13.3"
  }
 },
 "nbformat": 4,
 "nbformat_minor": 5
}
