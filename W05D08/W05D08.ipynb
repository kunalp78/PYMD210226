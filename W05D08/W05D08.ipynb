{
 "cells": [
  {
   "cell_type": "markdown",
   "id": "8884417b-1930-4dc0-8bf0-94e75a16c39f",
   "metadata": {},
   "source": [
    "# iterators and generators"
   ]
  },
  {
   "cell_type": "code",
   "execution_count": 1,
   "id": "6ce21844-7828-439a-8f51-43127b034ad3",
   "metadata": {},
   "outputs": [],
   "source": [
    "my_list = [1, 5, 8, 7]"
   ]
  },
  {
   "cell_type": "code",
   "execution_count": 2,
   "id": "a1389043-34e6-4e52-a074-e0f3af4f2a5b",
   "metadata": {},
   "outputs": [],
   "source": [
    "iterator = iter(my_list)"
   ]
  },
  {
   "cell_type": "code",
   "execution_count": 3,
   "id": "cbab20b1-9270-403d-9a96-2cddb152caf7",
   "metadata": {},
   "outputs": [
    {
     "data": {
      "text/plain": [
       "<list_iterator at 0x1e0093a7e80>"
      ]
     },
     "execution_count": 3,
     "metadata": {},
     "output_type": "execute_result"
    }
   ],
   "source": [
    "iterator"
   ]
  },
  {
   "cell_type": "code",
   "execution_count": 4,
   "id": "8fadb55f-5041-4ab3-b4b4-5d4cc19a999a",
   "metadata": {},
   "outputs": [
    {
     "name": "stdout",
     "output_type": "stream",
     "text": [
      "<list_iterator object at 0x000001E0093A7E80>\n"
     ]
    }
   ],
   "source": [
    "print(iterator)"
   ]
  },
  {
   "cell_type": "code",
   "execution_count": 5,
   "id": "8f78a4bb-807c-4463-a3f4-35c9f4051149",
   "metadata": {},
   "outputs": [
    {
     "data": {
      "text/plain": [
       "list_iterator"
      ]
     },
     "execution_count": 5,
     "metadata": {},
     "output_type": "execute_result"
    }
   ],
   "source": [
    "type(iterator)"
   ]
  },
  {
   "cell_type": "code",
   "execution_count": 6,
   "id": "f710b19f-d43d-435e-981f-3f7cb5063b81",
   "metadata": {},
   "outputs": [
    {
     "name": "stdout",
     "output_type": "stream",
     "text": [
      "1\n"
     ]
    }
   ],
   "source": [
    "print(next(iterator))"
   ]
  },
  {
   "cell_type": "code",
   "execution_count": 7,
   "id": "32ee718a-15d7-4503-ac2e-b4a57e3fddf1",
   "metadata": {},
   "outputs": [
    {
     "name": "stdout",
     "output_type": "stream",
     "text": [
      "5\n"
     ]
    }
   ],
   "source": [
    "print(next(iterator))"
   ]
  },
  {
   "cell_type": "code",
   "execution_count": 8,
   "id": "937b79bd-d3dc-4882-bcc3-1c854752e56f",
   "metadata": {},
   "outputs": [
    {
     "name": "stdout",
     "output_type": "stream",
     "text": [
      "8\n"
     ]
    }
   ],
   "source": [
    "print(next(iterator))"
   ]
  },
  {
   "cell_type": "code",
   "execution_count": 9,
   "id": "d13643b7-54ab-4a59-9ace-46a83806b045",
   "metadata": {},
   "outputs": [
    {
     "name": "stdout",
     "output_type": "stream",
     "text": [
      "7\n"
     ]
    }
   ],
   "source": [
    "print(next(iterator))"
   ]
  },
  {
   "cell_type": "code",
   "execution_count": 10,
   "id": "71bced51-1e59-42c7-bd7a-f4d9b502d005",
   "metadata": {},
   "outputs": [
    {
     "ename": "StopIteration",
     "evalue": "",
     "output_type": "error",
     "traceback": [
      "\u001b[1;31m---------------------------------------------------------------------------\u001b[0m",
      "\u001b[1;31mStopIteration\u001b[0m                             Traceback (most recent call last)",
      "Cell \u001b[1;32mIn[10], line 1\u001b[0m\n\u001b[1;32m----> 1\u001b[0m \u001b[38;5;28mprint\u001b[39m(\u001b[38;5;28;43mnext\u001b[39;49m\u001b[43m(\u001b[49m\u001b[43miterator\u001b[49m\u001b[43m)\u001b[49m)\n",
      "\u001b[1;31mStopIteration\u001b[0m: "
     ]
    }
   ],
   "source": [
    "print(next(iterator))"
   ]
  },
  {
   "cell_type": "code",
   "execution_count": 11,
   "id": "fc2e5c55-96ac-4aa6-86dc-fcc9b6a00b96",
   "metadata": {},
   "outputs": [
    {
     "name": "stdout",
     "output_type": "stream",
     "text": [
      "1\n",
      "5\n",
      "8\n",
      "7\n"
     ]
    }
   ],
   "source": [
    "iterator = iter(my_list)\n",
    "for item in iterator:\n",
    "    print(item)"
   ]
  },
  {
   "cell_type": "code",
   "execution_count": 12,
   "id": "b02afb23-a1ed-4a08-95e0-29e7eb47306b",
   "metadata": {},
   "outputs": [],
   "source": [
    "# Build your own custom iterator"
   ]
  },
  {
   "cell_type": "code",
   "execution_count": null,
   "id": "05784784-24c5-4594-ada5-028e4c6a3347",
   "metadata": {},
   "outputs": [],
   "source": [
    "# __iter__(), __next__()"
   ]
  },
  {
   "cell_type": "code",
   "execution_count": 13,
   "id": "18766dc0-e361-4330-85cb-aec9ccd09008",
   "metadata": {},
   "outputs": [],
   "source": [
    "class PowTwo:\n",
    "    def __init__(self, max=0):\n",
    "        self.max=max\n",
    "    def __iter__(self):\n",
    "        self.n=0\n",
    "        return self\n",
    "\n",
    "    def __next__(self):\n",
    "        if self.n <= self.max:\n",
    "            result = 2 ** self.n\n",
    "            self.n += 1\n",
    "            return result\n",
    "        else:\n",
    "            raise StopIteration"
   ]
  },
  {
   "cell_type": "code",
   "execution_count": 14,
   "id": "9b3cf554-4e10-480f-9288-1dbe4d8a2824",
   "metadata": {},
   "outputs": [],
   "source": [
    "numbers = PowTwo(3)"
   ]
  },
  {
   "cell_type": "code",
   "execution_count": 15,
   "id": "5a0ed16d-9625-4a66-bed0-abbc54843d4e",
   "metadata": {},
   "outputs": [],
   "source": [
    "i = iter(numbers)"
   ]
  },
  {
   "cell_type": "code",
   "execution_count": 16,
   "id": "74172daa-64e5-497a-8b18-12e0e64a882c",
   "metadata": {},
   "outputs": [
    {
     "name": "stdout",
     "output_type": "stream",
     "text": [
      "1\n"
     ]
    }
   ],
   "source": [
    "print(next(i))"
   ]
  },
  {
   "cell_type": "code",
   "execution_count": 17,
   "id": "f40d9b49-762f-4016-bb25-4b347714d420",
   "metadata": {},
   "outputs": [
    {
     "name": "stdout",
     "output_type": "stream",
     "text": [
      "2\n"
     ]
    }
   ],
   "source": [
    "print(next(i))"
   ]
  },
  {
   "cell_type": "code",
   "execution_count": 18,
   "id": "ab7426db-aa25-46fd-bb67-7b82099f864a",
   "metadata": {},
   "outputs": [
    {
     "name": "stdout",
     "output_type": "stream",
     "text": [
      "4\n"
     ]
    }
   ],
   "source": [
    "print(next(i))"
   ]
  },
  {
   "cell_type": "code",
   "execution_count": 19,
   "id": "f3b59815-e6b8-4094-b024-f4bbbf230f96",
   "metadata": {},
   "outputs": [
    {
     "name": "stdout",
     "output_type": "stream",
     "text": [
      "8\n"
     ]
    }
   ],
   "source": [
    "print(next(i))"
   ]
  },
  {
   "cell_type": "code",
   "execution_count": 20,
   "id": "7b22e486-89cd-4dfe-b38d-5e43422e9fab",
   "metadata": {},
   "outputs": [
    {
     "ename": "StopIteration",
     "evalue": "",
     "output_type": "error",
     "traceback": [
      "\u001b[1;31m---------------------------------------------------------------------------\u001b[0m",
      "\u001b[1;31mStopIteration\u001b[0m                             Traceback (most recent call last)",
      "Cell \u001b[1;32mIn[20], line 1\u001b[0m\n\u001b[1;32m----> 1\u001b[0m \u001b[38;5;28mprint\u001b[39m(\u001b[38;5;28;43mnext\u001b[39;49m\u001b[43m(\u001b[49m\u001b[43mi\u001b[49m\u001b[43m)\u001b[49m)\n",
      "Cell \u001b[1;32mIn[13], line 14\u001b[0m, in \u001b[0;36mPowTwo.__next__\u001b[1;34m(self)\u001b[0m\n\u001b[0;32m     12\u001b[0m     \u001b[38;5;28;01mreturn\u001b[39;00m result\n\u001b[0;32m     13\u001b[0m \u001b[38;5;28;01melse\u001b[39;00m:\n\u001b[1;32m---> 14\u001b[0m     \u001b[38;5;28;01mraise\u001b[39;00m \u001b[38;5;167;01mStopIteration\u001b[39;00m\n",
      "\u001b[1;31mStopIteration\u001b[0m: "
     ]
    }
   ],
   "source": [
    "print(next(i))"
   ]
  },
  {
   "cell_type": "markdown",
   "id": "99cbdbcc-a651-453c-826f-031a0e0cdc03",
   "metadata": {},
   "source": [
    "# Generators"
   ]
  },
  {
   "cell_type": "code",
   "execution_count": 23,
   "id": "27f04929-0fed-4bb2-bafa-7de5667ae861",
   "metadata": {},
   "outputs": [],
   "source": [
    "def some_generator(n):\n",
    "    value = 0\n",
    "    while value < n:\n",
    "        yield value\n",
    "        value += 1"
   ]
  },
  {
   "cell_type": "code",
   "execution_count": 24,
   "id": "55e8a390-bb04-4bf9-8159-85cc1d9f32ba",
   "metadata": {},
   "outputs": [
    {
     "name": "stdout",
     "output_type": "stream",
     "text": [
      "0\n",
      "1\n",
      "2\n",
      "3\n",
      "4\n"
     ]
    }
   ],
   "source": [
    "for value in some_generator(5):\n",
    "    print(value)"
   ]
  },
  {
   "cell_type": "code",
   "execution_count": 25,
   "id": "6a718845-e270-4f2e-97a3-86ed2f857932",
   "metadata": {},
   "outputs": [],
   "source": [
    "def some_function(n):\n",
    "    value = 0\n",
    "    while value < n:\n",
    "        return value\n",
    "        value += 1"
   ]
  },
  {
   "cell_type": "code",
   "execution_count": 26,
   "id": "ba889120-3d0d-4504-8eff-4ebe7223b19b",
   "metadata": {},
   "outputs": [
    {
     "ename": "TypeError",
     "evalue": "'int' object is not iterable",
     "output_type": "error",
     "traceback": [
      "\u001b[1;31m---------------------------------------------------------------------------\u001b[0m",
      "\u001b[1;31mTypeError\u001b[0m                                 Traceback (most recent call last)",
      "Cell \u001b[1;32mIn[26], line 1\u001b[0m\n\u001b[1;32m----> 1\u001b[0m \u001b[38;5;28;43;01mfor\u001b[39;49;00m\u001b[43m \u001b[49m\u001b[43mvalue\u001b[49m\u001b[43m \u001b[49m\u001b[38;5;129;43;01min\u001b[39;49;00m\u001b[43m \u001b[49m\u001b[43msome_function\u001b[49m\u001b[43m(\u001b[49m\u001b[38;5;241;43m5\u001b[39;49m\u001b[43m)\u001b[49m\u001b[43m:\u001b[49m\n\u001b[0;32m      2\u001b[0m \u001b[43m    \u001b[49m\u001b[38;5;28;43mprint\u001b[39;49m\u001b[43m(\u001b[49m\u001b[43mvalue\u001b[49m\u001b[43m)\u001b[49m\n",
      "\u001b[1;31mTypeError\u001b[0m: 'int' object is not iterable"
     ]
    }
   ],
   "source": [
    "for value in some_function(5):\n",
    "    print(value)"
   ]
  },
  {
   "cell_type": "code",
   "execution_count": 27,
   "id": "2de2df6d-6fd3-4a69-adec-957b6c0fd297",
   "metadata": {},
   "outputs": [
    {
     "data": {
      "text/plain": [
       "<generator object some_generator at 0x000001E009466980>"
      ]
     },
     "execution_count": 27,
     "metadata": {},
     "output_type": "execute_result"
    }
   ],
   "source": [
    "some_generator(5)"
   ]
  },
  {
   "cell_type": "code",
   "execution_count": null,
   "id": "e004960a-4f03-4fe6-83d2-113b0392dcbc",
   "metadata": {},
   "outputs": [],
   "source": []
  },
  {
   "cell_type": "markdown",
   "id": "bc70bef3-d356-45dc-9073-06c09dc29422",
   "metadata": {},
   "source": [
    "# python generator expression"
   ]
  },
  {
   "cell_type": "code",
   "execution_count": 29,
   "id": "0c172928-c728-4117-aec4-c54682f49c22",
   "metadata": {},
   "outputs": [],
   "source": [
    "gen_expr = (i for i in range(1, 11))"
   ]
  },
  {
   "cell_type": "code",
   "execution_count": 30,
   "id": "365909ed-638b-4327-8f76-687f06f95f2c",
   "metadata": {},
   "outputs": [
    {
     "data": {
      "text/plain": [
       "<generator object <genexpr> at 0x000001E009C31300>"
      ]
     },
     "execution_count": 30,
     "metadata": {},
     "output_type": "execute_result"
    }
   ],
   "source": [
    "gen_expr"
   ]
  },
  {
   "cell_type": "code",
   "execution_count": 31,
   "id": "bf296d32-14fd-4583-9b45-8c4cdecca848",
   "metadata": {},
   "outputs": [
    {
     "data": {
      "text/plain": [
       "1"
      ]
     },
     "execution_count": 31,
     "metadata": {},
     "output_type": "execute_result"
    }
   ],
   "source": [
    "next(gen_expr)"
   ]
  },
  {
   "cell_type": "code",
   "execution_count": 32,
   "id": "7173cd2e-9155-42bd-8527-25147a86ff19",
   "metadata": {},
   "outputs": [
    {
     "data": {
      "text/plain": [
       "2"
      ]
     },
     "execution_count": 32,
     "metadata": {},
     "output_type": "execute_result"
    }
   ],
   "source": [
    "next(gen_expr)"
   ]
  },
  {
   "cell_type": "code",
   "execution_count": 33,
   "id": "8bdedb29-c2de-44b0-b81c-ecf9d7ca2a68",
   "metadata": {},
   "outputs": [
    {
     "data": {
      "text/plain": [
       "3"
      ]
     },
     "execution_count": 33,
     "metadata": {},
     "output_type": "execute_result"
    }
   ],
   "source": [
    "next(gen_expr)"
   ]
  },
  {
   "cell_type": "code",
   "execution_count": 34,
   "id": "8fecceb3-53c1-4b29-938a-402bf5fdbc12",
   "metadata": {},
   "outputs": [
    {
     "data": {
      "text/plain": [
       "4"
      ]
     },
     "execution_count": 34,
     "metadata": {},
     "output_type": "execute_result"
    }
   ],
   "source": [
    "next(gen_expr)"
   ]
  },
  {
   "cell_type": "code",
   "execution_count": 35,
   "id": "f3df7a8d-b48d-4429-8cd1-9a8420aa29f4",
   "metadata": {},
   "outputs": [
    {
     "data": {
      "text/plain": [
       "5"
      ]
     },
     "execution_count": 35,
     "metadata": {},
     "output_type": "execute_result"
    }
   ],
   "source": [
    "next(gen_expr)"
   ]
  },
  {
   "cell_type": "code",
   "execution_count": 36,
   "id": "68569dc4-2cfa-48e2-bfd8-b6751d17f9e5",
   "metadata": {},
   "outputs": [
    {
     "data": {
      "text/plain": [
       "6"
      ]
     },
     "execution_count": 36,
     "metadata": {},
     "output_type": "execute_result"
    }
   ],
   "source": [
    "next(gen_expr)"
   ]
  },
  {
   "cell_type": "code",
   "execution_count": 37,
   "id": "f74357d0-fe72-4c08-a4b2-a7dce747200f",
   "metadata": {},
   "outputs": [
    {
     "data": {
      "text/plain": [
       "7"
      ]
     },
     "execution_count": 37,
     "metadata": {},
     "output_type": "execute_result"
    }
   ],
   "source": [
    "next(gen_expr)"
   ]
  },
  {
   "cell_type": "code",
   "execution_count": 38,
   "id": "e5c44678-0853-4f90-a6d4-03f80aa820ad",
   "metadata": {},
   "outputs": [
    {
     "data": {
      "text/plain": [
       "8"
      ]
     },
     "execution_count": 38,
     "metadata": {},
     "output_type": "execute_result"
    }
   ],
   "source": [
    "next(gen_expr)"
   ]
  },
  {
   "cell_type": "code",
   "execution_count": 39,
   "id": "44e87ba2-6bfc-4d24-8fc4-e2a5144e685b",
   "metadata": {},
   "outputs": [
    {
     "data": {
      "text/plain": [
       "9"
      ]
     },
     "execution_count": 39,
     "metadata": {},
     "output_type": "execute_result"
    }
   ],
   "source": [
    "next(gen_expr)"
   ]
  },
  {
   "cell_type": "code",
   "execution_count": 40,
   "id": "bffae081-3798-4e66-9407-33c72c37ceff",
   "metadata": {},
   "outputs": [
    {
     "data": {
      "text/plain": [
       "10"
      ]
     },
     "execution_count": 40,
     "metadata": {},
     "output_type": "execute_result"
    }
   ],
   "source": [
    "next(gen_expr)"
   ]
  },
  {
   "cell_type": "code",
   "execution_count": 41,
   "id": "6b5e30d1-23d9-465b-bacc-73a59b923ef7",
   "metadata": {},
   "outputs": [
    {
     "ename": "StopIteration",
     "evalue": "",
     "output_type": "error",
     "traceback": [
      "\u001b[1;31m---------------------------------------------------------------------------\u001b[0m",
      "\u001b[1;31mStopIteration\u001b[0m                             Traceback (most recent call last)",
      "Cell \u001b[1;32mIn[41], line 1\u001b[0m\n\u001b[1;32m----> 1\u001b[0m \u001b[38;5;28;43mnext\u001b[39;49m\u001b[43m(\u001b[49m\u001b[43mgen_expr\u001b[49m\u001b[43m)\u001b[49m\n",
      "\u001b[1;31mStopIteration\u001b[0m: "
     ]
    }
   ],
   "source": [
    "next(gen_expr)"
   ]
  },
  {
   "cell_type": "raw",
   "id": "f71fa734-6cee-4208-9a3c-9923bb27362d",
   "metadata": {},
   "source": [
    "val = 10\n",
    "while 1:\n",
    "    val += 1\n",
    "    print(val)"
   ]
  },
  {
   "cell_type": "code",
   "execution_count": 42,
   "id": "f22100d1-63bd-4b1e-839c-250b4f729adc",
   "metadata": {},
   "outputs": [],
   "source": [
    "def all_event(n=0):\n",
    "    while True:\n",
    "        yield n\n",
    "        n += 1"
   ]
  },
  {
   "cell_type": "code",
   "execution_count": 44,
   "id": "f6d59d44-78e1-41d7-bd4d-99b13311d59d",
   "metadata": {},
   "outputs": [
    {
     "data": {
      "text/plain": [
       "0"
      ]
     },
     "execution_count": 44,
     "metadata": {},
     "output_type": "execute_result"
    }
   ],
   "source": [
    "next(all_event())"
   ]
  },
  {
   "cell_type": "code",
   "execution_count": 45,
   "id": "23be92a5-e8d1-45ce-bd7c-64f69cf83c68",
   "metadata": {},
   "outputs": [
    {
     "data": {
      "text/plain": [
       "0"
      ]
     },
     "execution_count": 45,
     "metadata": {},
     "output_type": "execute_result"
    }
   ],
   "source": [
    "next(all_event())"
   ]
  },
  {
   "cell_type": "markdown",
   "id": "1d9c7f66-d94f-47fe-b178-4d21484197b5",
   "metadata": {},
   "source": [
    "## Regular Expression"
   ]
  },
  {
   "cell_type": "markdown",
   "id": "c7371181-341a-44a1-98a7-03f1c6fe35f5",
   "metadata": {},
   "source": [
    "Metacharacters"
   ]
  },
  {
   "cell_type": "code",
   "execution_count": null,
   "id": "1dc57193-2d5e-4830-885d-af717b4d41e6",
   "metadata": {},
   "outputs": [],
   "source": [
    "[] --> A set of characters --- [axd][te][1ea] --> ate, xte, dte, aee ...\n",
    ".  --> Any character (except newline charater) --- ... --> eat, cat, 114, t8h, 2 5\n",
    "^  --> Starts with --- ^[h]ello -->\n",
    "$  --> Ends with --- planet$\n",
    "\n",
    "*  --> Zero or more number of occurences of the value left side to it --- 97*8 --> 978, 98, 9778, 97778, 97.....78\n",
    "+  --> one or more occurences of the value left side to it --- 97+8 --> 978, 9778, 977...78\n",
    "?  --> Zero or one occurences of the value left side to it --- 97?8 --> 978, 98\n",
    "{} --> gets you the specified number of occurences --- 95ad{5}58 --> 95addddd58, \n",
    "                                                       95a{2,5}b --> 95aab, 95aaab, 95aaaab, 95aaaaab"
   ]
  },
  {
   "cell_type": "code",
   "execution_count": null,
   "id": "08d19917-a3d9-45e3-a696-3e9f9ce5488f",
   "metadata": {},
   "outputs": [],
   "source": [
    "findall\n",
    "search\n",
    "split\n",
    "sub"
   ]
  },
  {
   "cell_type": "code",
   "execution_count": null,
   "id": "c647f934-2db7-401e-b2dd-d12151e1a029",
   "metadata": {},
   "outputs": [],
   "source": [
    "# findall()"
   ]
  },
  {
   "cell_type": "code",
   "execution_count": 46,
   "id": "10005530-1782-40e9-aa96-b3b8d0afdc2d",
   "metadata": {},
   "outputs": [],
   "source": [
    "import re"
   ]
  },
  {
   "cell_type": "code",
   "execution_count": 47,
   "id": "4253cf7f-ba7f-4583-ad84-24d30fdb4d49",
   "metadata": {},
   "outputs": [],
   "source": [
    "txt = \"The rain in Spain\""
   ]
  },
  {
   "cell_type": "code",
   "execution_count": 48,
   "id": "d732ae5c-8e72-4431-a407-28a41faeaf49",
   "metadata": {},
   "outputs": [],
   "source": [
    "search_p = \"ai\""
   ]
  },
  {
   "cell_type": "code",
   "execution_count": 49,
   "id": "d626b68c-ed1c-45e2-9035-ff7aa6bd3c99",
   "metadata": {},
   "outputs": [],
   "source": [
    "x = re.findall(search_p, txt)"
   ]
  },
  {
   "cell_type": "code",
   "execution_count": 50,
   "id": "ad312e1e-f6f4-4783-afa1-7c8182b646c2",
   "metadata": {},
   "outputs": [
    {
     "data": {
      "text/plain": [
       "['ai', 'ai']"
      ]
     },
     "execution_count": 50,
     "metadata": {},
     "output_type": "execute_result"
    }
   ],
   "source": [
    "x"
   ]
  },
  {
   "cell_type": "code",
   "execution_count": 51,
   "id": "cdcd724b-36fc-4498-92d2-3f87e88cd21b",
   "metadata": {},
   "outputs": [],
   "source": [
    "search_p = \"r..n\""
   ]
  },
  {
   "cell_type": "code",
   "execution_count": 52,
   "id": "d561eaad-6c21-42c0-bf57-8bad2f0f4f59",
   "metadata": {},
   "outputs": [],
   "source": [
    "x = re.findall(search_p, txt)"
   ]
  },
  {
   "cell_type": "code",
   "execution_count": 53,
   "id": "10dd080a-817c-4863-9941-14a986307061",
   "metadata": {},
   "outputs": [
    {
     "data": {
      "text/plain": [
       "['rain']"
      ]
     },
     "execution_count": 53,
     "metadata": {},
     "output_type": "execute_result"
    }
   ],
   "source": [
    "x"
   ]
  },
  {
   "cell_type": "code",
   "execution_count": 54,
   "id": "cb045694-678b-4a46-abd9-945fe7088dc9",
   "metadata": {},
   "outputs": [],
   "source": [
    "txt = \"The rain in Spain room\""
   ]
  },
  {
   "cell_type": "code",
   "execution_count": 55,
   "id": "6361028f-b9e1-4f07-a5d9-e30a185bfb1f",
   "metadata": {},
   "outputs": [],
   "source": [
    "search_p = \"r..[nm]\""
   ]
  },
  {
   "cell_type": "code",
   "execution_count": 56,
   "id": "f15885a9-719a-4c9a-8e70-581529c341db",
   "metadata": {},
   "outputs": [],
   "source": [
    "x = re.findall(search_p, txt)"
   ]
  },
  {
   "cell_type": "code",
   "execution_count": 57,
   "id": "258e9411-11d4-4a83-9cc8-3ce3c8edd0d8",
   "metadata": {},
   "outputs": [
    {
     "data": {
      "text/plain": [
       "['rain', 'room']"
      ]
     },
     "execution_count": 57,
     "metadata": {},
     "output_type": "execute_result"
    }
   ],
   "source": [
    "x"
   ]
  },
  {
   "cell_type": "code",
   "execution_count": 58,
   "id": "8fe99048-be34-4503-8fe1-0512006fec5a",
   "metadata": {},
   "outputs": [],
   "source": [
    "# search()"
   ]
  },
  {
   "cell_type": "code",
   "execution_count": 59,
   "id": "5c0f8ce3-41a5-4d69-857a-4c11c04fe76d",
   "metadata": {},
   "outputs": [],
   "source": [
    "x = re.search(search_p, txt)"
   ]
  },
  {
   "cell_type": "code",
   "execution_count": 60,
   "id": "c24ddbcb-0428-432d-abd0-9c182a0b2b7b",
   "metadata": {},
   "outputs": [
    {
     "data": {
      "text/plain": [
       "<re.Match object; span=(4, 8), match='rain'>"
      ]
     },
     "execution_count": 60,
     "metadata": {},
     "output_type": "execute_result"
    }
   ],
   "source": [
    "x"
   ]
  },
  {
   "cell_type": "code",
   "execution_count": 62,
   "id": "521c1b45-1469-4c9d-9837-927e9dbaeb18",
   "metadata": {},
   "outputs": [
    {
     "data": {
      "text/plain": [
       "'rain'"
      ]
     },
     "execution_count": 62,
     "metadata": {},
     "output_type": "execute_result"
    }
   ],
   "source": [
    "x.group()"
   ]
  },
  {
   "cell_type": "code",
   "execution_count": 64,
   "id": "78f72c20-2ef3-4710-b629-2261b4fd3a50",
   "metadata": {},
   "outputs": [
    {
     "data": {
      "text/plain": [
       "4"
      ]
     },
     "execution_count": 64,
     "metadata": {},
     "output_type": "execute_result"
    }
   ],
   "source": [
    "x.start()"
   ]
  },
  {
   "cell_type": "code",
   "execution_count": 66,
   "id": "56b27006-f9f4-4acb-918e-1d55474711b6",
   "metadata": {},
   "outputs": [
    {
     "data": {
      "text/plain": [
       "8"
      ]
     },
     "execution_count": 66,
     "metadata": {},
     "output_type": "execute_result"
    }
   ],
   "source": [
    "x.end()"
   ]
  },
  {
   "cell_type": "code",
   "execution_count": 67,
   "id": "236cd28b-a2b6-4cc9-8e45-b24c560113ee",
   "metadata": {},
   "outputs": [],
   "source": [
    "# split()"
   ]
  },
  {
   "cell_type": "code",
   "execution_count": 68,
   "id": "95b114d2-4b5c-453b-b2b9-98611eab491a",
   "metadata": {},
   "outputs": [],
   "source": [
    "txt = \"1,2,,5,8,,,9\""
   ]
  },
  {
   "cell_type": "code",
   "execution_count": 70,
   "id": "4ccedfe0-37de-4950-9918-c203b021d93e",
   "metadata": {},
   "outputs": [
    {
     "data": {
      "text/plain": [
       "['1', '2', '', '5', '8', '', '', '9']"
      ]
     },
     "execution_count": 70,
     "metadata": {},
     "output_type": "execute_result"
    }
   ],
   "source": [
    "txt.split(\",\")"
   ]
  },
  {
   "cell_type": "code",
   "execution_count": 71,
   "id": "0c92bec7-47e9-48b4-b946-927ffc244d33",
   "metadata": {},
   "outputs": [],
   "source": [
    "search_p = \",+\""
   ]
  },
  {
   "cell_type": "code",
   "execution_count": 72,
   "id": "7ee6f8f4-5e50-4fb9-9049-81423c7b9bd0",
   "metadata": {},
   "outputs": [],
   "source": [
    "x = re.split(search_p, txt)"
   ]
  },
  {
   "cell_type": "code",
   "execution_count": 73,
   "id": "1152db02-de05-4123-a52d-551c1e91b03b",
   "metadata": {},
   "outputs": [
    {
     "data": {
      "text/plain": [
       "['1', '2', '5', '8', '9']"
      ]
     },
     "execution_count": 73,
     "metadata": {},
     "output_type": "execute_result"
    }
   ],
   "source": [
    "x"
   ]
  },
  {
   "cell_type": "code",
   "execution_count": 74,
   "id": "b46af4a8-b6ec-4cbf-abeb-e068b55c6d8e",
   "metadata": {},
   "outputs": [],
   "source": [
    "# replace()\n",
    "txt = \"the brain in spain\"\n",
    "txt = txt.replace(\"brain\", \"rain\")"
   ]
  },
  {
   "cell_type": "code",
   "execution_count": 75,
   "id": "81898d5c-df6b-47d6-9968-f3c958667e2e",
   "metadata": {},
   "outputs": [
    {
     "data": {
      "text/plain": [
       "'the rain in spain'"
      ]
     },
     "execution_count": 75,
     "metadata": {},
     "output_type": "execute_result"
    }
   ],
   "source": [
    "txt"
   ]
  },
  {
   "cell_type": "code",
   "execution_count": 78,
   "id": "7b14cbc0-f104-485a-85d6-b251b91f65f0",
   "metadata": {},
   "outputs": [],
   "source": [
    "txt0 = \"the baaaannnn in spain\"\n",
    "txt1 = \"the braaaaiiiiinnnn in spain\""
   ]
  },
  {
   "cell_type": "code",
   "execution_count": 79,
   "id": "67e589ec-812e-4fb7-b8b1-16eccdab5bf7",
   "metadata": {},
   "outputs": [],
   "source": [
    "search_p = \"br?a+i*n{4}\""
   ]
  },
  {
   "cell_type": "code",
   "execution_count": 80,
   "id": "249e8203-fc78-44bd-8bc0-65adaa08b4f4",
   "metadata": {},
   "outputs": [],
   "source": [
    "txt = re.sub(search_p, \"rain\", txt0)"
   ]
  },
  {
   "cell_type": "code",
   "execution_count": 81,
   "id": "fdbdab24-1bb2-43ab-a1e5-e2202518ab15",
   "metadata": {},
   "outputs": [
    {
     "data": {
      "text/plain": [
       "'the rain in spain'"
      ]
     },
     "execution_count": 81,
     "metadata": {},
     "output_type": "execute_result"
    }
   ],
   "source": [
    "txt"
   ]
  },
  {
   "cell_type": "code",
   "execution_count": 82,
   "id": "8001adc0-c21d-4cb3-8d27-923d62b7bc72",
   "metadata": {},
   "outputs": [],
   "source": [
    "txt = re.sub(search_p, \"rain\", txt1)"
   ]
  },
  {
   "cell_type": "code",
   "execution_count": 83,
   "id": "eefc7b11-b19b-4608-9005-5222c260becf",
   "metadata": {},
   "outputs": [
    {
     "data": {
      "text/plain": [
       "'the rain in spain'"
      ]
     },
     "execution_count": 83,
     "metadata": {},
     "output_type": "execute_result"
    }
   ],
   "source": [
    "txt"
   ]
  },
  {
   "cell_type": "code",
   "execution_count": 84,
   "id": "dc350c3e-bd80-4d92-b3da-fdf2c61f19e3",
   "metadata": {},
   "outputs": [
    {
     "data": {
      "text/plain": [
       "'braaaaiiiiinnnn'"
      ]
     },
     "execution_count": 84,
     "metadata": {},
     "output_type": "execute_result"
    }
   ],
   "source": [
    "txt1 = \"the braaaaiiiiinnnn in spain\"\n",
    "re.search(search_p, txt1).group()"
   ]
  },
  {
   "cell_type": "code",
   "execution_count": null,
   "id": "936b342a-9f97-4237-a16a-b678b0971652",
   "metadata": {},
   "outputs": [],
   "source": [
    "[0-9]{10}"
   ]
  },
  {
   "cell_type": "code",
   "execution_count": null,
   "id": "57db955f-23ce-47c6-8675-ee658d304e18",
   "metadata": {},
   "outputs": [],
   "source": [
    "# Error Handling"
   ]
  },
  {
   "cell_type": "code",
   "execution_count": null,
   "id": "3e4635f3-f2e5-44e2-bf75-3883776846be",
   "metadata": {},
   "outputs": [],
   "source": [
    "ZeroDivisionError\n",
    "StopIteration\n",
    "KeyError\n",
    "..."
   ]
  },
  {
   "cell_type": "code",
   "execution_count": 88,
   "id": "5f783a99-3700-4493-96e6-cfecbeb2786d",
   "metadata": {},
   "outputs": [
    {
     "ename": "ZeroDivisionError",
     "evalue": "division by zero",
     "output_type": "error",
     "traceback": [
      "\u001b[1;31m---------------------------------------------------------------------------\u001b[0m",
      "\u001b[1;31mZeroDivisionError\u001b[0m                         Traceback (most recent call last)",
      "Cell \u001b[1;32mIn[88], line 1\u001b[0m\n\u001b[1;32m----> 1\u001b[0m a \u001b[38;5;241m=\u001b[39m \u001b[38;5;241;43m1\u001b[39;49m\u001b[38;5;241;43m/\u001b[39;49m\u001b[38;5;241;43m0\u001b[39;49m\n\u001b[0;32m      2\u001b[0m \u001b[38;5;28;01mfor\u001b[39;00m i \u001b[38;5;129;01min\u001b[39;00m \u001b[38;5;28mrange\u001b[39m(\u001b[38;5;241m10\u001b[39m):\n\u001b[0;32m      3\u001b[0m     \u001b[38;5;28mprint\u001b[39m(\u001b[38;5;124m\"\u001b[39m\u001b[38;5;124m \u001b[39m\u001b[38;5;124m\"\u001b[39m\u001b[38;5;241m*\u001b[39mi \u001b[38;5;241m+\u001b[39m \u001b[38;5;124m\"\u001b[39m\u001b[38;5;124m*\u001b[39m\u001b[38;5;124m\"\u001b[39m)\n",
      "\u001b[1;31mZeroDivisionError\u001b[0m: division by zero"
     ]
    }
   ],
   "source": [
    "a = 1/0\n",
    "for i in range(10):\n",
    "    print(\" \"*i + \"*\")"
   ]
  },
  {
   "cell_type": "code",
   "execution_count": 87,
   "id": "279291ec-6c06-4b7f-9bb9-279bd348d91f",
   "metadata": {},
   "outputs": [
    {
     "name": "stdout",
     "output_type": "stream",
     "text": [
      "division by zero\n",
      "*\n",
      " *\n",
      "  *\n",
      "   *\n",
      "    *\n",
      "     *\n",
      "      *\n",
      "       *\n",
      "        *\n",
      "         *\n"
     ]
    }
   ],
   "source": [
    "try:\n",
    "    a = 1/0\n",
    "except Exception as e:\n",
    "    print(e)\n",
    "\n",
    "for i in range(10):\n",
    "    print(\" \"*i + \"*\")"
   ]
  },
  {
   "cell_type": "code",
   "execution_count": 89,
   "id": "fe2bfa86-b2fd-4a03-8c23-72f9effa859d",
   "metadata": {},
   "outputs": [
    {
     "name": "stdout",
     "output_type": "stream",
     "text": [
      "OOps logical mistake\n"
     ]
    }
   ],
   "source": [
    "try:\n",
    "    a = 1/0\n",
    "except ZeroDivisionError:\n",
    "    print(\"OOps logical mistake\")\n",
    "except Exception as e:\n",
    "    print(e)"
   ]
  },
  {
   "cell_type": "code",
   "execution_count": 90,
   "id": "31ddb3ba-bd80-4a7a-bde0-008d20d137cd",
   "metadata": {},
   "outputs": [
    {
     "name": "stdout",
     "output_type": "stream",
     "text": [
      "OOps logical mistake\n"
     ]
    }
   ],
   "source": [
    "try:\n",
    "    a = 1/0\n",
    "except ZeroDivisionError:\n",
    "    print(\"OOps logical mistake\")\n",
    "except Exception as e:\n",
    "    print(e)\n",
    "else:\n",
    "    print(\"no Error\")"
   ]
  },
  {
   "cell_type": "code",
   "execution_count": 91,
   "id": "f9f731da-9289-48b4-acb7-99a77aa2601b",
   "metadata": {},
   "outputs": [
    {
     "name": "stdout",
     "output_type": "stream",
     "text": [
      "no Error\n"
     ]
    }
   ],
   "source": [
    "try:\n",
    "    a = 1/10\n",
    "except ZeroDivisionError:\n",
    "    print(\"OOps logical mistake\")\n",
    "except Exception as e:\n",
    "    print(e)\n",
    "else:\n",
    "    print(\"no Error\")"
   ]
  },
  {
   "cell_type": "code",
   "execution_count": 92,
   "id": "3d0da344-dbaf-4e6a-ae59-3d26413a4058",
   "metadata": {},
   "outputs": [
    {
     "name": "stdout",
     "output_type": "stream",
     "text": [
      "no Error\n",
      "Calculation complete!\n"
     ]
    }
   ],
   "source": [
    "try:\n",
    "    a = 1/10\n",
    "except ZeroDivisionError:\n",
    "    print(\"OOps logical mistake\")\n",
    "except Exception as e:\n",
    "    print(e)\n",
    "else:\n",
    "    print(\"no Error\")\n",
    "finally:\n",
    "    print(\"Calculation complete!\")"
   ]
  },
  {
   "cell_type": "code",
   "execution_count": 93,
   "id": "cbd0305e-671a-4208-b47a-8f36836b6700",
   "metadata": {},
   "outputs": [
    {
     "name": "stdout",
     "output_type": "stream",
     "text": [
      "OOps logical mistake\n",
      "Calculation complete!\n"
     ]
    }
   ],
   "source": [
    "try:\n",
    "    a = 1/0\n",
    "except ZeroDivisionError:\n",
    "    print(\"OOps logical mistake\")\n",
    "except Exception as e:\n",
    "    print(e)\n",
    "else:\n",
    "    print(\"no Error\")\n",
    "finally:\n",
    "    print(\"Calculation complete!\")"
   ]
  },
  {
   "cell_type": "code",
   "execution_count": 94,
   "id": "b62afcad-5891-4425-9948-130446aef940",
   "metadata": {},
   "outputs": [
    {
     "ename": "FileNotFoundError",
     "evalue": "[Errno 2] No such file or directory: 'some_file.txt'",
     "output_type": "error",
     "traceback": [
      "\u001b[1;31m---------------------------------------------------------------------------\u001b[0m",
      "\u001b[1;31mFileNotFoundError\u001b[0m                         Traceback (most recent call last)",
      "Cell \u001b[1;32mIn[94], line 1\u001b[0m\n\u001b[1;32m----> 1\u001b[0m x \u001b[38;5;241m=\u001b[39m \u001b[38;5;28;43mopen\u001b[39;49m\u001b[43m(\u001b[49m\u001b[38;5;124;43m\"\u001b[39;49m\u001b[38;5;124;43msome_file.txt\u001b[39;49m\u001b[38;5;124;43m\"\u001b[39;49m\u001b[43m)\u001b[49m\n",
      "File \u001b[1;32m~\\AppData\\Local\\Programs\\Python\\Python313\\Lib\\site-packages\\IPython\\core\\interactiveshell.py:324\u001b[0m, in \u001b[0;36m_modified_open\u001b[1;34m(file, *args, **kwargs)\u001b[0m\n\u001b[0;32m    317\u001b[0m \u001b[38;5;28;01mif\u001b[39;00m file \u001b[38;5;129;01min\u001b[39;00m {\u001b[38;5;241m0\u001b[39m, \u001b[38;5;241m1\u001b[39m, \u001b[38;5;241m2\u001b[39m}:\n\u001b[0;32m    318\u001b[0m     \u001b[38;5;28;01mraise\u001b[39;00m \u001b[38;5;167;01mValueError\u001b[39;00m(\n\u001b[0;32m    319\u001b[0m         \u001b[38;5;124mf\u001b[39m\u001b[38;5;124m\"\u001b[39m\u001b[38;5;124mIPython won\u001b[39m\u001b[38;5;124m'\u001b[39m\u001b[38;5;124mt let you open fd=\u001b[39m\u001b[38;5;132;01m{\u001b[39;00mfile\u001b[38;5;132;01m}\u001b[39;00m\u001b[38;5;124m by default \u001b[39m\u001b[38;5;124m\"\u001b[39m\n\u001b[0;32m    320\u001b[0m         \u001b[38;5;124m\"\u001b[39m\u001b[38;5;124mas it is likely to crash IPython. If you know what you are doing, \u001b[39m\u001b[38;5;124m\"\u001b[39m\n\u001b[0;32m    321\u001b[0m         \u001b[38;5;124m\"\u001b[39m\u001b[38;5;124myou can use builtins\u001b[39m\u001b[38;5;124m'\u001b[39m\u001b[38;5;124m open.\u001b[39m\u001b[38;5;124m\"\u001b[39m\n\u001b[0;32m    322\u001b[0m     )\n\u001b[1;32m--> 324\u001b[0m \u001b[38;5;28;01mreturn\u001b[39;00m \u001b[43mio_open\u001b[49m\u001b[43m(\u001b[49m\u001b[43mfile\u001b[49m\u001b[43m,\u001b[49m\u001b[43m \u001b[49m\u001b[38;5;241;43m*\u001b[39;49m\u001b[43margs\u001b[49m\u001b[43m,\u001b[49m\u001b[43m \u001b[49m\u001b[38;5;241;43m*\u001b[39;49m\u001b[38;5;241;43m*\u001b[39;49m\u001b[43mkwargs\u001b[49m\u001b[43m)\u001b[49m\n",
      "\u001b[1;31mFileNotFoundError\u001b[0m: [Errno 2] No such file or directory: 'some_file.txt'"
     ]
    }
   ],
   "source": [
    "x = open(\"some_file.txt\")"
   ]
  },
  {
   "cell_type": "code",
   "execution_count": 95,
   "id": "c022475f-d425-40aa-b0b0-0383957ea37b",
   "metadata": {},
   "outputs": [
    {
     "name": "stdout",
     "output_type": "stream",
     "text": [
      "Creating file as it doesnt exist!!\n"
     ]
    }
   ],
   "source": [
    "try:\n",
    "    x = open(\"some_file.txt\")\n",
    "except:\n",
    "    print(\"Creating file as it doesnt exist!!\")\n",
    "    x = open(\"some_file.txt\", \"w\")\n",
    "    x.close()\n",
    "else:\n",
    "    print(\"file already exists\")\n",
    "    x.close()"
   ]
  },
  {
   "cell_type": "code",
   "execution_count": 96,
   "id": "f8e086f8-e84f-429b-8b1c-beff1b1afc7c",
   "metadata": {},
   "outputs": [
    {
     "name": "stdout",
     "output_type": "stream",
     "text": [
      "file already exists\n"
     ]
    }
   ],
   "source": [
    "try:\n",
    "    x = open(\"some_file.txt\")\n",
    "except:\n",
    "    print(\"Creating file as it doesnt exist!!\")\n",
    "    x = open(\"some_file.txt\", \"w\")\n",
    "    x.close()\n",
    "else:\n",
    "    print(\"file already exists\")\n",
    "    x.close()"
   ]
  },
  {
   "cell_type": "code",
   "execution_count": null,
   "id": "cb9ae831-cadc-4297-a119-ac46544267de",
   "metadata": {},
   "outputs": [],
   "source": [
    "# JSON"
   ]
  },
  {
   "cell_type": "code",
   "execution_count": 97,
   "id": "59380eab-5f5f-48ca-a9e0-5442436e2052",
   "metadata": {},
   "outputs": [],
   "source": [
    "import json"
   ]
  },
  {
   "cell_type": "code",
   "execution_count": 98,
   "id": "c985540c-9be4-4924-b3a7-d25aec27aa67",
   "metadata": {},
   "outputs": [],
   "source": [
    "file = open(\"new_file.json\", \"r+\")"
   ]
  },
  {
   "cell_type": "code",
   "execution_count": 99,
   "id": "13688d67-c3d9-499c-981d-2de31e396ee9",
   "metadata": {},
   "outputs": [],
   "source": [
    "json_val = json.load(file)"
   ]
  },
  {
   "cell_type": "code",
   "execution_count": 100,
   "id": "bf8b3fac-f26c-4b87-9351-0c49d0f87a77",
   "metadata": {},
   "outputs": [
    {
     "data": {
      "text/plain": [
       "{'greetings': 'Hello Bhavesh'}"
      ]
     },
     "execution_count": 100,
     "metadata": {},
     "output_type": "execute_result"
    }
   ],
   "source": [
    "json_val"
   ]
  },
  {
   "cell_type": "code",
   "execution_count": 101,
   "id": "47e76d16-8411-4e3d-93d9-cbab03c6a35d",
   "metadata": {},
   "outputs": [
    {
     "data": {
      "text/plain": [
       "'Hello Bhavesh'"
      ]
     },
     "execution_count": 101,
     "metadata": {},
     "output_type": "execute_result"
    }
   ],
   "source": [
    "json_val[\"greetings\"]"
   ]
  },
  {
   "cell_type": "code",
   "execution_count": 102,
   "id": "a60fc14c-252b-4378-9f6c-78c40a1cf462",
   "metadata": {},
   "outputs": [],
   "source": [
    "json_val[\"my_todo\"] = []"
   ]
  },
  {
   "cell_type": "code",
   "execution_count": 103,
   "id": "005e8a7c-b27d-41a4-aa68-d9338126cffc",
   "metadata": {},
   "outputs": [
    {
     "data": {
      "text/plain": [
       "{'greetings': 'Hello Bhavesh', 'my_todo': []}"
      ]
     },
     "execution_count": 103,
     "metadata": {},
     "output_type": "execute_result"
    }
   ],
   "source": [
    "json_val"
   ]
  },
  {
   "cell_type": "code",
   "execution_count": 104,
   "id": "47ff7603-9d09-4c09-89e4-4106cd058b15",
   "metadata": {},
   "outputs": [],
   "source": [
    "del json_val[\"greetings\"]"
   ]
  },
  {
   "cell_type": "code",
   "execution_count": 105,
   "id": "7c933692-8118-42d7-9066-5da1fdb45af1",
   "metadata": {},
   "outputs": [
    {
     "data": {
      "text/plain": [
       "0"
      ]
     },
     "execution_count": 105,
     "metadata": {},
     "output_type": "execute_result"
    }
   ],
   "source": [
    "file.seek(0)"
   ]
  },
  {
   "cell_type": "code",
   "execution_count": 106,
   "id": "8a8b19c8-cf6f-4ed8-a7e1-38ad0409a5e4",
   "metadata": {},
   "outputs": [
    {
     "data": {
      "text/plain": [
       "0"
      ]
     },
     "execution_count": 106,
     "metadata": {},
     "output_type": "execute_result"
    }
   ],
   "source": [
    "file.truncate()"
   ]
  },
  {
   "cell_type": "code",
   "execution_count": 107,
   "id": "485d7daa-52ff-4551-a4ff-724b8156f135",
   "metadata": {},
   "outputs": [],
   "source": [
    "json.dump(json_val, file, indent=2)"
   ]
  },
  {
   "cell_type": "code",
   "execution_count": 108,
   "id": "2892e5d9-7630-4200-b7ac-041339f6e56c",
   "metadata": {},
   "outputs": [],
   "source": [
    "file.close()"
   ]
  },
  {
   "cell_type": "code",
   "execution_count": 109,
   "id": "cda9dd44-9453-4ea5-94c5-c8dc9fff9cac",
   "metadata": {},
   "outputs": [],
   "source": [
    "file = open(\"new_file.json\", \"r+\")"
   ]
  },
  {
   "cell_type": "code",
   "execution_count": 110,
   "id": "e8751057-9b24-4d53-8834-fcfb514594bb",
   "metadata": {},
   "outputs": [],
   "source": [
    "json_val = json.load(file)"
   ]
  },
  {
   "cell_type": "code",
   "execution_count": 111,
   "id": "7d202d00-8047-442c-95a0-208e123d695c",
   "metadata": {},
   "outputs": [
    {
     "data": {
      "text/plain": [
       "{'my_todo': []}"
      ]
     },
     "execution_count": 111,
     "metadata": {},
     "output_type": "execute_result"
    }
   ],
   "source": [
    "json_val"
   ]
  },
  {
   "cell_type": "code",
   "execution_count": 112,
   "id": "58d2d9b8-dbb6-4dc7-8255-ab7be0460ece",
   "metadata": {},
   "outputs": [],
   "source": [
    "json_val[\"my_todo\"].append(\"I learnt json\")"
   ]
  },
  {
   "cell_type": "code",
   "execution_count": 113,
   "id": "644fda1c-19b3-4124-a7d0-f5866b9dac39",
   "metadata": {},
   "outputs": [],
   "source": [
    "json_val[\"my_todo\"].append(\"learn csv module\")"
   ]
  },
  {
   "cell_type": "code",
   "execution_count": 114,
   "id": "8f0a4370-2ee9-42d0-b78b-76f6c5c49606",
   "metadata": {},
   "outputs": [
    {
     "data": {
      "text/plain": [
       "{'my_todo': ['I learnt json', 'learn csv module']}"
      ]
     },
     "execution_count": 114,
     "metadata": {},
     "output_type": "execute_result"
    }
   ],
   "source": [
    "json_val"
   ]
  },
  {
   "cell_type": "code",
   "execution_count": 115,
   "id": "8a632391-5ebb-4ada-b71b-cb3038a9a9ee",
   "metadata": {},
   "outputs": [],
   "source": [
    "file.seek(0)\n",
    "file.truncate()\n",
    "json.dump(json_val, file)\n",
    "file.close()"
   ]
  },
  {
   "cell_type": "code",
   "execution_count": 116,
   "id": "34285cf9-b9ba-4171-9805-08b9c9e414c6",
   "metadata": {},
   "outputs": [],
   "source": [
    "file = open(\"new_file1.json\", \"w\")"
   ]
  },
  {
   "cell_type": "code",
   "execution_count": 117,
   "id": "8e213238-0fc8-46c1-a1c1-fe2ad3e84c6e",
   "metadata": {},
   "outputs": [
    {
     "ename": "UnsupportedOperation",
     "evalue": "not readable",
     "output_type": "error",
     "traceback": [
      "\u001b[1;31m---------------------------------------------------------------------------\u001b[0m",
      "\u001b[1;31mUnsupportedOperation\u001b[0m                      Traceback (most recent call last)",
      "Cell \u001b[1;32mIn[117], line 1\u001b[0m\n\u001b[1;32m----> 1\u001b[0m json_file \u001b[38;5;241m=\u001b[39m \u001b[43mjson\u001b[49m\u001b[38;5;241;43m.\u001b[39;49m\u001b[43mload\u001b[49m\u001b[43m(\u001b[49m\u001b[43mfile\u001b[49m\u001b[43m)\u001b[49m\n",
      "File \u001b[1;32m~\\AppData\\Local\\Programs\\Python\\Python313\\Lib\\json\\__init__.py:293\u001b[0m, in \u001b[0;36mload\u001b[1;34m(fp, cls, object_hook, parse_float, parse_int, parse_constant, object_pairs_hook, **kw)\u001b[0m\n\u001b[0;32m    274\u001b[0m \u001b[38;5;28;01mdef\u001b[39;00m \u001b[38;5;21mload\u001b[39m(fp, \u001b[38;5;241m*\u001b[39m, \u001b[38;5;28mcls\u001b[39m\u001b[38;5;241m=\u001b[39m\u001b[38;5;28;01mNone\u001b[39;00m, object_hook\u001b[38;5;241m=\u001b[39m\u001b[38;5;28;01mNone\u001b[39;00m, parse_float\u001b[38;5;241m=\u001b[39m\u001b[38;5;28;01mNone\u001b[39;00m,\n\u001b[0;32m    275\u001b[0m         parse_int\u001b[38;5;241m=\u001b[39m\u001b[38;5;28;01mNone\u001b[39;00m, parse_constant\u001b[38;5;241m=\u001b[39m\u001b[38;5;28;01mNone\u001b[39;00m, object_pairs_hook\u001b[38;5;241m=\u001b[39m\u001b[38;5;28;01mNone\u001b[39;00m, \u001b[38;5;241m*\u001b[39m\u001b[38;5;241m*\u001b[39mkw):\n\u001b[0;32m    276\u001b[0m \u001b[38;5;250m    \u001b[39m\u001b[38;5;124;03m\"\"\"Deserialize ``fp`` (a ``.read()``-supporting file-like object containing\u001b[39;00m\n\u001b[0;32m    277\u001b[0m \u001b[38;5;124;03m    a JSON document) to a Python object.\u001b[39;00m\n\u001b[0;32m    278\u001b[0m \n\u001b[1;32m   (...)\u001b[0m\n\u001b[0;32m    291\u001b[0m \u001b[38;5;124;03m    kwarg; otherwise ``JSONDecoder`` is used.\u001b[39;00m\n\u001b[0;32m    292\u001b[0m \u001b[38;5;124;03m    \"\"\"\u001b[39;00m\n\u001b[1;32m--> 293\u001b[0m     \u001b[38;5;28;01mreturn\u001b[39;00m loads(\u001b[43mfp\u001b[49m\u001b[38;5;241;43m.\u001b[39;49m\u001b[43mread\u001b[49m\u001b[43m(\u001b[49m\u001b[43m)\u001b[49m,\n\u001b[0;32m    294\u001b[0m         \u001b[38;5;28mcls\u001b[39m\u001b[38;5;241m=\u001b[39m\u001b[38;5;28mcls\u001b[39m, object_hook\u001b[38;5;241m=\u001b[39mobject_hook,\n\u001b[0;32m    295\u001b[0m         parse_float\u001b[38;5;241m=\u001b[39mparse_float, parse_int\u001b[38;5;241m=\u001b[39mparse_int,\n\u001b[0;32m    296\u001b[0m         parse_constant\u001b[38;5;241m=\u001b[39mparse_constant, object_pairs_hook\u001b[38;5;241m=\u001b[39mobject_pairs_hook, \u001b[38;5;241m*\u001b[39m\u001b[38;5;241m*\u001b[39mkw)\n",
      "\u001b[1;31mUnsupportedOperation\u001b[0m: not readable"
     ]
    }
   ],
   "source": [
    "json_file = json.load(file)"
   ]
  },
  {
   "cell_type": "code",
   "execution_count": 118,
   "id": "a7d3c991-5c41-4d5f-8e3a-cf6774c81a7a",
   "metadata": {},
   "outputs": [],
   "source": [
    "file.close()"
   ]
  },
  {
   "cell_type": "code",
   "execution_count": 119,
   "id": "c8af92b3-901c-4064-87bd-e5e0ebd5382d",
   "metadata": {},
   "outputs": [
    {
     "ename": "JSONDecodeError",
     "evalue": "Expecting value: line 1 column 1 (char 0)",
     "output_type": "error",
     "traceback": [
      "\u001b[1;31m---------------------------------------------------------------------------\u001b[0m",
      "\u001b[1;31mJSONDecodeError\u001b[0m                           Traceback (most recent call last)",
      "Cell \u001b[1;32mIn[119], line 2\u001b[0m\n\u001b[0;32m      1\u001b[0m file \u001b[38;5;241m=\u001b[39m \u001b[38;5;28mopen\u001b[39m(\u001b[38;5;124m\"\u001b[39m\u001b[38;5;124mnew_file1.json\u001b[39m\u001b[38;5;124m\"\u001b[39m, \u001b[38;5;124m\"\u001b[39m\u001b[38;5;124mr+\u001b[39m\u001b[38;5;124m\"\u001b[39m)\n\u001b[1;32m----> 2\u001b[0m json_file \u001b[38;5;241m=\u001b[39m \u001b[43mjson\u001b[49m\u001b[38;5;241;43m.\u001b[39;49m\u001b[43mload\u001b[49m\u001b[43m(\u001b[49m\u001b[43mfile\u001b[49m\u001b[43m)\u001b[49m\n",
      "File \u001b[1;32m~\\AppData\\Local\\Programs\\Python\\Python313\\Lib\\json\\__init__.py:293\u001b[0m, in \u001b[0;36mload\u001b[1;34m(fp, cls, object_hook, parse_float, parse_int, parse_constant, object_pairs_hook, **kw)\u001b[0m\n\u001b[0;32m    274\u001b[0m \u001b[38;5;28;01mdef\u001b[39;00m \u001b[38;5;21mload\u001b[39m(fp, \u001b[38;5;241m*\u001b[39m, \u001b[38;5;28mcls\u001b[39m\u001b[38;5;241m=\u001b[39m\u001b[38;5;28;01mNone\u001b[39;00m, object_hook\u001b[38;5;241m=\u001b[39m\u001b[38;5;28;01mNone\u001b[39;00m, parse_float\u001b[38;5;241m=\u001b[39m\u001b[38;5;28;01mNone\u001b[39;00m,\n\u001b[0;32m    275\u001b[0m         parse_int\u001b[38;5;241m=\u001b[39m\u001b[38;5;28;01mNone\u001b[39;00m, parse_constant\u001b[38;5;241m=\u001b[39m\u001b[38;5;28;01mNone\u001b[39;00m, object_pairs_hook\u001b[38;5;241m=\u001b[39m\u001b[38;5;28;01mNone\u001b[39;00m, \u001b[38;5;241m*\u001b[39m\u001b[38;5;241m*\u001b[39mkw):\n\u001b[0;32m    276\u001b[0m \u001b[38;5;250m    \u001b[39m\u001b[38;5;124;03m\"\"\"Deserialize ``fp`` (a ``.read()``-supporting file-like object containing\u001b[39;00m\n\u001b[0;32m    277\u001b[0m \u001b[38;5;124;03m    a JSON document) to a Python object.\u001b[39;00m\n\u001b[0;32m    278\u001b[0m \n\u001b[1;32m   (...)\u001b[0m\n\u001b[0;32m    291\u001b[0m \u001b[38;5;124;03m    kwarg; otherwise ``JSONDecoder`` is used.\u001b[39;00m\n\u001b[0;32m    292\u001b[0m \u001b[38;5;124;03m    \"\"\"\u001b[39;00m\n\u001b[1;32m--> 293\u001b[0m     \u001b[38;5;28;01mreturn\u001b[39;00m \u001b[43mloads\u001b[49m\u001b[43m(\u001b[49m\u001b[43mfp\u001b[49m\u001b[38;5;241;43m.\u001b[39;49m\u001b[43mread\u001b[49m\u001b[43m(\u001b[49m\u001b[43m)\u001b[49m\u001b[43m,\u001b[49m\n\u001b[0;32m    294\u001b[0m \u001b[43m        \u001b[49m\u001b[38;5;28;43mcls\u001b[39;49m\u001b[38;5;241;43m=\u001b[39;49m\u001b[38;5;28;43mcls\u001b[39;49m\u001b[43m,\u001b[49m\u001b[43m \u001b[49m\u001b[43mobject_hook\u001b[49m\u001b[38;5;241;43m=\u001b[39;49m\u001b[43mobject_hook\u001b[49m\u001b[43m,\u001b[49m\n\u001b[0;32m    295\u001b[0m \u001b[43m        \u001b[49m\u001b[43mparse_float\u001b[49m\u001b[38;5;241;43m=\u001b[39;49m\u001b[43mparse_float\u001b[49m\u001b[43m,\u001b[49m\u001b[43m \u001b[49m\u001b[43mparse_int\u001b[49m\u001b[38;5;241;43m=\u001b[39;49m\u001b[43mparse_int\u001b[49m\u001b[43m,\u001b[49m\n\u001b[0;32m    296\u001b[0m \u001b[43m        \u001b[49m\u001b[43mparse_constant\u001b[49m\u001b[38;5;241;43m=\u001b[39;49m\u001b[43mparse_constant\u001b[49m\u001b[43m,\u001b[49m\u001b[43m \u001b[49m\u001b[43mobject_pairs_hook\u001b[49m\u001b[38;5;241;43m=\u001b[39;49m\u001b[43mobject_pairs_hook\u001b[49m\u001b[43m,\u001b[49m\u001b[43m \u001b[49m\u001b[38;5;241;43m*\u001b[39;49m\u001b[38;5;241;43m*\u001b[39;49m\u001b[43mkw\u001b[49m\u001b[43m)\u001b[49m\n",
      "File \u001b[1;32m~\\AppData\\Local\\Programs\\Python\\Python313\\Lib\\json\\__init__.py:346\u001b[0m, in \u001b[0;36mloads\u001b[1;34m(s, cls, object_hook, parse_float, parse_int, parse_constant, object_pairs_hook, **kw)\u001b[0m\n\u001b[0;32m    341\u001b[0m     s \u001b[38;5;241m=\u001b[39m s\u001b[38;5;241m.\u001b[39mdecode(detect_encoding(s), \u001b[38;5;124m'\u001b[39m\u001b[38;5;124msurrogatepass\u001b[39m\u001b[38;5;124m'\u001b[39m)\n\u001b[0;32m    343\u001b[0m \u001b[38;5;28;01mif\u001b[39;00m (\u001b[38;5;28mcls\u001b[39m \u001b[38;5;129;01mis\u001b[39;00m \u001b[38;5;28;01mNone\u001b[39;00m \u001b[38;5;129;01mand\u001b[39;00m object_hook \u001b[38;5;129;01mis\u001b[39;00m \u001b[38;5;28;01mNone\u001b[39;00m \u001b[38;5;129;01mand\u001b[39;00m\n\u001b[0;32m    344\u001b[0m         parse_int \u001b[38;5;129;01mis\u001b[39;00m \u001b[38;5;28;01mNone\u001b[39;00m \u001b[38;5;129;01mand\u001b[39;00m parse_float \u001b[38;5;129;01mis\u001b[39;00m \u001b[38;5;28;01mNone\u001b[39;00m \u001b[38;5;129;01mand\u001b[39;00m\n\u001b[0;32m    345\u001b[0m         parse_constant \u001b[38;5;129;01mis\u001b[39;00m \u001b[38;5;28;01mNone\u001b[39;00m \u001b[38;5;129;01mand\u001b[39;00m object_pairs_hook \u001b[38;5;129;01mis\u001b[39;00m \u001b[38;5;28;01mNone\u001b[39;00m \u001b[38;5;129;01mand\u001b[39;00m \u001b[38;5;129;01mnot\u001b[39;00m kw):\n\u001b[1;32m--> 346\u001b[0m     \u001b[38;5;28;01mreturn\u001b[39;00m \u001b[43m_default_decoder\u001b[49m\u001b[38;5;241;43m.\u001b[39;49m\u001b[43mdecode\u001b[49m\u001b[43m(\u001b[49m\u001b[43ms\u001b[49m\u001b[43m)\u001b[49m\n\u001b[0;32m    347\u001b[0m \u001b[38;5;28;01mif\u001b[39;00m \u001b[38;5;28mcls\u001b[39m \u001b[38;5;129;01mis\u001b[39;00m \u001b[38;5;28;01mNone\u001b[39;00m:\n\u001b[0;32m    348\u001b[0m     \u001b[38;5;28mcls\u001b[39m \u001b[38;5;241m=\u001b[39m JSONDecoder\n",
      "File \u001b[1;32m~\\AppData\\Local\\Programs\\Python\\Python313\\Lib\\json\\decoder.py:345\u001b[0m, in \u001b[0;36mJSONDecoder.decode\u001b[1;34m(self, s, _w)\u001b[0m\n\u001b[0;32m    340\u001b[0m \u001b[38;5;28;01mdef\u001b[39;00m \u001b[38;5;21mdecode\u001b[39m(\u001b[38;5;28mself\u001b[39m, s, _w\u001b[38;5;241m=\u001b[39mWHITESPACE\u001b[38;5;241m.\u001b[39mmatch):\n\u001b[0;32m    341\u001b[0m \u001b[38;5;250m    \u001b[39m\u001b[38;5;124;03m\"\"\"Return the Python representation of ``s`` (a ``str`` instance\u001b[39;00m\n\u001b[0;32m    342\u001b[0m \u001b[38;5;124;03m    containing a JSON document).\u001b[39;00m\n\u001b[0;32m    343\u001b[0m \n\u001b[0;32m    344\u001b[0m \u001b[38;5;124;03m    \"\"\"\u001b[39;00m\n\u001b[1;32m--> 345\u001b[0m     obj, end \u001b[38;5;241m=\u001b[39m \u001b[38;5;28;43mself\u001b[39;49m\u001b[38;5;241;43m.\u001b[39;49m\u001b[43mraw_decode\u001b[49m\u001b[43m(\u001b[49m\u001b[43ms\u001b[49m\u001b[43m,\u001b[49m\u001b[43m \u001b[49m\u001b[43midx\u001b[49m\u001b[38;5;241;43m=\u001b[39;49m\u001b[43m_w\u001b[49m\u001b[43m(\u001b[49m\u001b[43ms\u001b[49m\u001b[43m,\u001b[49m\u001b[43m \u001b[49m\u001b[38;5;241;43m0\u001b[39;49m\u001b[43m)\u001b[49m\u001b[38;5;241;43m.\u001b[39;49m\u001b[43mend\u001b[49m\u001b[43m(\u001b[49m\u001b[43m)\u001b[49m\u001b[43m)\u001b[49m\n\u001b[0;32m    346\u001b[0m     end \u001b[38;5;241m=\u001b[39m _w(s, end)\u001b[38;5;241m.\u001b[39mend()\n\u001b[0;32m    347\u001b[0m     \u001b[38;5;28;01mif\u001b[39;00m end \u001b[38;5;241m!=\u001b[39m \u001b[38;5;28mlen\u001b[39m(s):\n",
      "File \u001b[1;32m~\\AppData\\Local\\Programs\\Python\\Python313\\Lib\\json\\decoder.py:363\u001b[0m, in \u001b[0;36mJSONDecoder.raw_decode\u001b[1;34m(self, s, idx)\u001b[0m\n\u001b[0;32m    361\u001b[0m     obj, end \u001b[38;5;241m=\u001b[39m \u001b[38;5;28mself\u001b[39m\u001b[38;5;241m.\u001b[39mscan_once(s, idx)\n\u001b[0;32m    362\u001b[0m \u001b[38;5;28;01mexcept\u001b[39;00m \u001b[38;5;167;01mStopIteration\u001b[39;00m \u001b[38;5;28;01mas\u001b[39;00m err:\n\u001b[1;32m--> 363\u001b[0m     \u001b[38;5;28;01mraise\u001b[39;00m JSONDecodeError(\u001b[38;5;124m\"\u001b[39m\u001b[38;5;124mExpecting value\u001b[39m\u001b[38;5;124m\"\u001b[39m, s, err\u001b[38;5;241m.\u001b[39mvalue) \u001b[38;5;28;01mfrom\u001b[39;00m \u001b[38;5;28;01mNone\u001b[39;00m\n\u001b[0;32m    364\u001b[0m \u001b[38;5;28;01mreturn\u001b[39;00m obj, end\n",
      "\u001b[1;31mJSONDecodeError\u001b[0m: Expecting value: line 1 column 1 (char 0)"
     ]
    }
   ],
   "source": [
    "file = open(\"new_file1.json\", \"r+\")\n",
    "json_file = json.load(file)"
   ]
  },
  {
   "cell_type": "code",
   "execution_count": 121,
   "id": "ee5bc6a2-6b9c-4fbe-a469-59bc9932a5ce",
   "metadata": {},
   "outputs": [],
   "source": [
    "try:\n",
    "    json_file = json.load(file)\n",
    "except json.JSONDecodeError:\n",
    "    val = {}\n",
    "    file.write(str(val))\n",
    "    file.close()"
   ]
  },
  {
   "cell_type": "code",
   "execution_count": 123,
   "id": "5b31414c-efd8-44f8-bce4-861fea67f29a",
   "metadata": {},
   "outputs": [],
   "source": [
    "try:\n",
    "    file = open(\"new_file1.json\", \"r+\")\n",
    "    json_file = json.load(file)\n",
    "except json.JSONDecodeError:\n",
    "    val = {}\n",
    "    file.write(str(val))\n",
    "    file.close()"
   ]
  },
  {
   "cell_type": "code",
   "execution_count": 124,
   "id": "5c50bfd3-98ce-427e-8658-497ba52907a3",
   "metadata": {},
   "outputs": [
    {
     "data": {
      "text/plain": [
       "{}"
      ]
     },
     "execution_count": 124,
     "metadata": {},
     "output_type": "execute_result"
    }
   ],
   "source": [
    "json_file"
   ]
  },
  {
   "cell_type": "code",
   "execution_count": 125,
   "id": "d7494a73-5bf8-4afc-a833-3f336dcd0f58",
   "metadata": {},
   "outputs": [],
   "source": [
    "file.close()"
   ]
  },
  {
   "cell_type": "code",
   "execution_count": null,
   "id": "b8d29b0d-bf85-42a9-a58b-5dbbaf3a0964",
   "metadata": {},
   "outputs": [],
   "source": []
  }
 ],
 "metadata": {
  "kernelspec": {
   "display_name": "Python 3 (ipykernel)",
   "language": "python",
   "name": "python3"
  },
  "language_info": {
   "codemirror_mode": {
    "name": "ipython",
    "version": 3
   },
   "file_extension": ".py",
   "mimetype": "text/x-python",
   "name": "python",
   "nbconvert_exporter": "python",
   "pygments_lexer": "ipython3",
   "version": "3.13.3"
  }
 },
 "nbformat": 4,
 "nbformat_minor": 5
}
