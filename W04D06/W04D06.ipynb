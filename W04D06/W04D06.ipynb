{
 "cells": [
  {
   "cell_type": "code",
   "execution_count": null,
   "id": "78e71cad-5008-4caa-92b5-760ffc828103",
   "metadata": {},
   "outputs": [],
   "source": [
    "# Inheritence\n",
    "# what is inheritence?\n",
    "# Base class (parent class): the existing class from which attributes and methods are inherited.\n",
    "# Derived class (child class): the new class which inherits the base class."
   ]
  },
  {
   "cell_type": "code",
   "execution_count": null,
   "id": "375230de-403f-4651-8651-1d3b0b9361ab",
   "metadata": {},
   "outputs": [],
   "source": [
    "Animal class (base class) --> \n",
    "                attributes: name, legs, tail, head\n",
    "                methods or behaviour: make_sound, mobility...\n",
    "Dog class (derived class) -->\n",
    "                attribute: breed\n",
    "                methods: make_sound"
   ]
  },
  {
   "cell_type": "code",
   "execution_count": null,
   "id": "05c32e1a-e407-43c1-980d-9b0320f52911",
   "metadata": {},
   "outputs": [],
   "source": [
    "1) single inheritence\n",
    "           A --> B\n",
    "2) multilevel inheritence\n",
    "           A --> B --> C\n",
    "3) multiple inheritence\n",
    "           A     B\n",
    "           |     |\n",
    "          ---------\n",
    "              |\n",
    "              C\n",
    "4) hierachal inheritence\n",
    "              A\n",
    "              |\n",
    "         -----------\n",
    "         |    |    |\n",
    "         B    C    D\n",
    "5) hybrid inheritence\n",
    "              A\n",
    "              |\n",
    "          ----------\n",
    "          |        |\n",
    "          B        C\n",
    "          |        |\n",
    "          ----------\n",
    "               |\n",
    "               D"
   ]
  },
  {
   "cell_type": "code",
   "execution_count": null,
   "id": "791d5d84-5020-45f1-abb3-2622f3f94bef",
   "metadata": {},
   "outputs": [],
   "source": [
    "# single inheritence"
   ]
  },
  {
   "cell_type": "code",
   "execution_count": 1,
   "id": "37e8f5f6-078c-4ccd-9724-3803c9120f38",
   "metadata": {},
   "outputs": [],
   "source": [
    "class Person:\n",
    "    def __init__(self, fname, lname):\n",
    "        self.first_name = fname\n",
    "        self.second_name = lname\n",
    "\n",
    "    def printname(self):\n",
    "        self.address = \"54 baker street\"\n",
    "        print(f\"First name:{self.first_name}\\nSecond name:{self.second_name}\")"
   ]
  },
  {
   "cell_type": "code",
   "execution_count": 2,
   "id": "8b182d02-0a39-49de-ac4b-b6773054a67c",
   "metadata": {},
   "outputs": [],
   "source": [
    "x = Person(\"Kailash\", \"chavan\")"
   ]
  },
  {
   "cell_type": "code",
   "execution_count": 3,
   "id": "3433ea9a-07f6-43f7-a30a-7e416a4bf903",
   "metadata": {},
   "outputs": [
    {
     "name": "stdout",
     "output_type": "stream",
     "text": [
      "First name:Kailash\n",
      "Second name:chavan\n"
     ]
    }
   ],
   "source": [
    "x.printname()"
   ]
  },
  {
   "cell_type": "code",
   "execution_count": 4,
   "id": "082d45dd-a2eb-4649-a97b-b93e9ea47b22",
   "metadata": {},
   "outputs": [],
   "source": [
    "class Employee(Person):\n",
    "    pass"
   ]
  },
  {
   "cell_type": "code",
   "execution_count": 5,
   "id": "ceef5b29-39c5-40fb-a7fb-e7d639972a5b",
   "metadata": {},
   "outputs": [
    {
     "ename": "TypeError",
     "evalue": "Person.__init__() missing 2 required positional arguments: 'fname' and 'lname'",
     "output_type": "error",
     "traceback": [
      "\u001b[1;31m---------------------------------------------------------------------------\u001b[0m",
      "\u001b[1;31mTypeError\u001b[0m                                 Traceback (most recent call last)",
      "Cell \u001b[1;32mIn[5], line 1\u001b[0m\n\u001b[1;32m----> 1\u001b[0m y \u001b[38;5;241m=\u001b[39m \u001b[43mEmployee\u001b[49m\u001b[43m(\u001b[49m\u001b[43m)\u001b[49m\n\u001b[0;32m      2\u001b[0m \u001b[38;5;66;03m# a) object would be create\u001b[39;00m\n\u001b[0;32m      3\u001b[0m \u001b[38;5;66;03m# b) we will get error\u001b[39;00m\n",
      "\u001b[1;31mTypeError\u001b[0m: Person.__init__() missing 2 required positional arguments: 'fname' and 'lname'"
     ]
    }
   ],
   "source": [
    "y = Employee()\n",
    "# a) object would be create\n",
    "# b) we will get error"
   ]
  },
  {
   "cell_type": "code",
   "execution_count": 6,
   "id": "f597e8b4-d60b-4508-b3f7-0808e4896067",
   "metadata": {},
   "outputs": [],
   "source": [
    "y = Employee(\"Senthil\", \"Kumar\")"
   ]
  },
  {
   "cell_type": "code",
   "execution_count": 7,
   "id": "74d5503e-e2ac-47b7-8b4c-568bbc5e132c",
   "metadata": {},
   "outputs": [
    {
     "name": "stdout",
     "output_type": "stream",
     "text": [
      "First name:Senthil\n",
      "Second name:Kumar\n"
     ]
    }
   ],
   "source": [
    "y.printname()"
   ]
  },
  {
   "cell_type": "code",
   "execution_count": 8,
   "id": "a19b3cc4-1c7d-4bb4-b395-cc00934cca5f",
   "metadata": {},
   "outputs": [],
   "source": [
    "class Employee(Person):\n",
    "    def __init__(self, emp_no, phno):\n",
    "        self.employee_no = emp_no\n",
    "        self.phone_number = phno"
   ]
  },
  {
   "cell_type": "code",
   "execution_count": 9,
   "id": "e4aa162b-9be1-4053-b7b4-2764e099b331",
   "metadata": {},
   "outputs": [],
   "source": [
    "y = Employee(1234, 125987643)"
   ]
  },
  {
   "cell_type": "code",
   "execution_count": 10,
   "id": "5e4880ef-ed88-41ba-8828-41dfe8a8d5d3",
   "metadata": {},
   "outputs": [
    {
     "data": {
      "text/plain": [
       "1234"
      ]
     },
     "execution_count": 10,
     "metadata": {},
     "output_type": "execute_result"
    }
   ],
   "source": [
    "y.employee_no"
   ]
  },
  {
   "cell_type": "code",
   "execution_count": 11,
   "id": "b1b55bee-1c9f-4064-8f55-5028b21ae58f",
   "metadata": {},
   "outputs": [
    {
     "data": {
      "text/plain": [
       "125987643"
      ]
     },
     "execution_count": 11,
     "metadata": {},
     "output_type": "execute_result"
    }
   ],
   "source": [
    "y.phone_number"
   ]
  },
  {
   "cell_type": "code",
   "execution_count": 12,
   "id": "d7e103bc-17a3-436e-a9bb-387161aa3a24",
   "metadata": {},
   "outputs": [
    {
     "ename": "AttributeError",
     "evalue": "'Employee' object has no attribute 'first_name'",
     "output_type": "error",
     "traceback": [
      "\u001b[1;31m---------------------------------------------------------------------------\u001b[0m",
      "\u001b[1;31mAttributeError\u001b[0m                            Traceback (most recent call last)",
      "Cell \u001b[1;32mIn[12], line 1\u001b[0m\n\u001b[1;32m----> 1\u001b[0m \u001b[43my\u001b[49m\u001b[38;5;241;43m.\u001b[39;49m\u001b[43mprintname\u001b[49m\u001b[43m(\u001b[49m\u001b[43m)\u001b[49m\n",
      "Cell \u001b[1;32mIn[1], line 7\u001b[0m, in \u001b[0;36mPerson.printname\u001b[1;34m(self)\u001b[0m\n\u001b[0;32m      6\u001b[0m \u001b[38;5;28;01mdef\u001b[39;00m \u001b[38;5;21mprintname\u001b[39m(\u001b[38;5;28mself\u001b[39m):\n\u001b[1;32m----> 7\u001b[0m     \u001b[38;5;28mprint\u001b[39m(\u001b[38;5;124mf\u001b[39m\u001b[38;5;124m\"\u001b[39m\u001b[38;5;124mFirst name:\u001b[39m\u001b[38;5;132;01m{\u001b[39;00m\u001b[38;5;28;43mself\u001b[39;49m\u001b[38;5;241;43m.\u001b[39;49m\u001b[43mfirst_name\u001b[49m\u001b[38;5;132;01m}\u001b[39;00m\u001b[38;5;130;01m\\n\u001b[39;00m\u001b[38;5;124mSecond name:\u001b[39m\u001b[38;5;132;01m{\u001b[39;00m\u001b[38;5;28mself\u001b[39m\u001b[38;5;241m.\u001b[39msecond_name\u001b[38;5;132;01m}\u001b[39;00m\u001b[38;5;124m\"\u001b[39m)\n",
      "\u001b[1;31mAttributeError\u001b[0m: 'Employee' object has no attribute 'first_name'"
     ]
    }
   ],
   "source": [
    "y.printname()"
   ]
  },
  {
   "cell_type": "code",
   "execution_count": 13,
   "id": "8b8fb96f-21dc-4150-827c-8976d9dd0c7d",
   "metadata": {},
   "outputs": [],
   "source": [
    "# super()"
   ]
  },
  {
   "cell_type": "code",
   "execution_count": 14,
   "id": "14d27528-6f4e-4b81-ad1e-dca8d70d1e16",
   "metadata": {},
   "outputs": [],
   "source": [
    "class Employee(Person):\n",
    "    def __init__(self, fname, lname, emp_no, phno):\n",
    "        super().__init__(fname, lname)\n",
    "        self.employee_no = emp_no\n",
    "        self.phone_number = phno"
   ]
  },
  {
   "cell_type": "code",
   "execution_count": 15,
   "id": "e56db6de-ff90-4d47-9551-0013fc50952e",
   "metadata": {},
   "outputs": [],
   "source": [
    "y = Employee(\"Prema\", \"Murthy\", 1234, 125987643)"
   ]
  },
  {
   "cell_type": "code",
   "execution_count": 16,
   "id": "dd54f5b6-3fe2-4877-8f7a-dc15f29f42c2",
   "metadata": {},
   "outputs": [
    {
     "name": "stdout",
     "output_type": "stream",
     "text": [
      "First name:Prema\n",
      "Second name:Murthy\n"
     ]
    }
   ],
   "source": [
    "y.printname()"
   ]
  },
  {
   "cell_type": "code",
   "execution_count": 17,
   "id": "2c30df08-9c42-4a07-b6cb-a30bd93a899b",
   "metadata": {},
   "outputs": [
    {
     "data": {
      "text/plain": [
       "125987643"
      ]
     },
     "execution_count": 17,
     "metadata": {},
     "output_type": "execute_result"
    }
   ],
   "source": [
    "y.phone_number"
   ]
  },
  {
   "cell_type": "code",
   "execution_count": 18,
   "id": "feaa691c-7340-40f8-bb66-8f1d59a51e64",
   "metadata": {},
   "outputs": [
    {
     "data": {
      "text/plain": [
       "'Murthy'"
      ]
     },
     "execution_count": 18,
     "metadata": {},
     "output_type": "execute_result"
    }
   ],
   "source": [
    "y.second_name"
   ]
  },
  {
   "cell_type": "code",
   "execution_count": 19,
   "id": "c8800939-cd70-4ee0-a5b3-75d8aace1fb2",
   "metadata": {},
   "outputs": [
    {
     "data": {
      "text/plain": [
       "{'first_name': 'Prema',\n",
       " 'second_name': 'Murthy',\n",
       " 'employee_no': 1234,\n",
       " 'phone_number': 125987643}"
      ]
     },
     "execution_count": 19,
     "metadata": {},
     "output_type": "execute_result"
    }
   ],
   "source": [
    "y.__dict__"
   ]
  },
  {
   "cell_type": "code",
   "execution_count": 20,
   "id": "d1dd3436-d164-4c99-9a96-24743900ad77",
   "metadata": {},
   "outputs": [],
   "source": [
    "class A:\n",
    "    def __init__(self, a, b):\n",
    "        self.a = a\n",
    "        self.b = b\n",
    "\n",
    "    def func(self, c):\n",
    "        self.c = c"
   ]
  },
  {
   "cell_type": "code",
   "execution_count": 21,
   "id": "1d5e542a-9127-411e-9447-7c735e965798",
   "metadata": {},
   "outputs": [],
   "source": [
    "class B(A):\n",
    "    def __init__(self, a, b, d):\n",
    "        super().__init__(a, b)\n",
    "        self.d = d"
   ]
  },
  {
   "cell_type": "code",
   "execution_count": 22,
   "id": "bd916425-07ae-4781-9bd5-191396ac1b1e",
   "metadata": {},
   "outputs": [],
   "source": [
    "obj_b = B(5, 8, 9)"
   ]
  },
  {
   "cell_type": "code",
   "execution_count": 23,
   "id": "846a175e-8c3c-486f-9738-fe3f435c208c",
   "metadata": {},
   "outputs": [
    {
     "data": {
      "text/plain": [
       "{'a': 5, 'b': 8, 'd': 9}"
      ]
     },
     "execution_count": 23,
     "metadata": {},
     "output_type": "execute_result"
    }
   ],
   "source": [
    "obj_b.__dict__"
   ]
  },
  {
   "cell_type": "code",
   "execution_count": 24,
   "id": "e426706b-faac-473c-a431-3aea74e5ca29",
   "metadata": {},
   "outputs": [
    {
     "ename": "AttributeError",
     "evalue": "'B' object has no attribute 'c'",
     "output_type": "error",
     "traceback": [
      "\u001b[1;31m---------------------------------------------------------------------------\u001b[0m",
      "\u001b[1;31mAttributeError\u001b[0m                            Traceback (most recent call last)",
      "Cell \u001b[1;32mIn[24], line 1\u001b[0m\n\u001b[1;32m----> 1\u001b[0m \u001b[43mobj_b\u001b[49m\u001b[38;5;241;43m.\u001b[39;49m\u001b[43mc\u001b[49m\n",
      "\u001b[1;31mAttributeError\u001b[0m: 'B' object has no attribute 'c'"
     ]
    }
   ],
   "source": [
    "obj_b.c"
   ]
  },
  {
   "cell_type": "code",
   "execution_count": 25,
   "id": "66ae86c6-a562-4d3b-ae44-a16aadcba715",
   "metadata": {},
   "outputs": [],
   "source": [
    "class B(A):\n",
    "    def __init__(self, a, b, c, d):\n",
    "        super().__init__(a, b)\n",
    "        super().func(c)\n",
    "        self.d = d"
   ]
  },
  {
   "cell_type": "code",
   "execution_count": 26,
   "id": "edebe121-b3b2-444b-8509-d5c8771b8f49",
   "metadata": {},
   "outputs": [],
   "source": [
    "obj_b = B(5, 8, 9, 7)"
   ]
  },
  {
   "cell_type": "code",
   "execution_count": 27,
   "id": "248c5ec5-f35a-422d-9c2e-835bd9acd922",
   "metadata": {},
   "outputs": [
    {
     "data": {
      "text/plain": [
       "{'a': 5, 'b': 8, 'c': 9, 'd': 7}"
      ]
     },
     "execution_count": 27,
     "metadata": {},
     "output_type": "execute_result"
    }
   ],
   "source": [
    "obj_b.__dict__"
   ]
  },
  {
   "cell_type": "code",
   "execution_count": 28,
   "id": "1c13a88a-4c09-4299-b625-3c50159586a8",
   "metadata": {},
   "outputs": [],
   "source": [
    "obj_a = A(5, 8)"
   ]
  },
  {
   "cell_type": "code",
   "execution_count": 30,
   "id": "d7a5c04a-6bec-4a1c-8ea4-d47393cd445a",
   "metadata": {},
   "outputs": [
    {
     "data": {
      "text/plain": [
       "{'a': 5, 'b': 8}"
      ]
     },
     "execution_count": 30,
     "metadata": {},
     "output_type": "execute_result"
    }
   ],
   "source": [
    "obj_a.__dict__"
   ]
  },
  {
   "cell_type": "code",
   "execution_count": 31,
   "id": "16ee3040-eb6d-4cdf-b65b-d9c68e089309",
   "metadata": {},
   "outputs": [],
   "source": [
    "class B1(A):\n",
    "    def __init__(self, a, b, c, d):\n",
    "        super().__init__(a, b)\n",
    "        A(a, b).func(c)\n",
    "        self.d = d"
   ]
  },
  {
   "cell_type": "code",
   "execution_count": 32,
   "id": "499675dd-d1b5-4970-a0e6-42d482a572f2",
   "metadata": {},
   "outputs": [],
   "source": [
    "b1 = B1(1, 5, 8, 9)"
   ]
  },
  {
   "cell_type": "code",
   "execution_count": 33,
   "id": "683de55e-74a2-4361-ac9a-0f8ddcaf6365",
   "metadata": {},
   "outputs": [
    {
     "data": {
      "text/plain": [
       "{'a': 1, 'b': 5, 'd': 9}"
      ]
     },
     "execution_count": 33,
     "metadata": {},
     "output_type": "execute_result"
    }
   ],
   "source": [
    "b1.__dict__"
   ]
  },
  {
   "cell_type": "code",
   "execution_count": 34,
   "id": "7657fee7-28f2-4733-92f2-89b3b78debae",
   "metadata": {},
   "outputs": [],
   "source": [
    "class B2(A):\n",
    "    def __init__(self, a, b, c, d):\n",
    "        super().__init__(a, b)\n",
    "        A.func(self, c)\n",
    "        self.d = d"
   ]
  },
  {
   "cell_type": "code",
   "execution_count": 35,
   "id": "22e7bfbe-7f06-4721-9b57-970467c5d654",
   "metadata": {},
   "outputs": [],
   "source": [
    "b2 = B2(1, 5, 7, 9)"
   ]
  },
  {
   "cell_type": "code",
   "execution_count": 36,
   "id": "9f49515b-92d7-449f-ac76-1cfb4f308668",
   "metadata": {},
   "outputs": [
    {
     "data": {
      "text/plain": [
       "{'a': 1, 'b': 5, 'c': 7, 'd': 9}"
      ]
     },
     "execution_count": 36,
     "metadata": {},
     "output_type": "execute_result"
    }
   ],
   "source": [
    "b2.__dict__"
   ]
  },
  {
   "cell_type": "code",
   "execution_count": 37,
   "id": "d24ec50f-bd7c-4ba7-9cd3-942bac2d1099",
   "metadata": {},
   "outputs": [],
   "source": [
    "b2.elephant = \"great\""
   ]
  },
  {
   "cell_type": "code",
   "execution_count": 38,
   "id": "16b40fd2-7eea-4a78-a22c-bb69d58b3bb9",
   "metadata": {},
   "outputs": [
    {
     "data": {
      "text/plain": [
       "{'a': 1, 'b': 5, 'c': 7, 'd': 9, 'elephant': 'great'}"
      ]
     },
     "execution_count": 38,
     "metadata": {},
     "output_type": "execute_result"
    }
   ],
   "source": [
    "b2.__dict__"
   ]
  },
  {
   "cell_type": "code",
   "execution_count": 43,
   "id": "bbbe32b2-39f7-4004-8958-570451234af8",
   "metadata": {},
   "outputs": [],
   "source": [
    "class Employee(Person):\n",
    "    def __init__(self, emp_no, phno):\n",
    "        super().__init__(fname, lname)\n",
    "        self.employee_no = emp_no\n",
    "        self.phone_number = phno"
   ]
  },
  {
   "cell_type": "code",
   "execution_count": 44,
   "id": "ed538cde-eed6-4d53-b593-2fe363d23bbf",
   "metadata": {},
   "outputs": [
    {
     "ename": "NameError",
     "evalue": "name 'fname' is not defined",
     "output_type": "error",
     "traceback": [
      "\u001b[1;31m---------------------------------------------------------------------------\u001b[0m",
      "\u001b[1;31mNameError\u001b[0m                                 Traceback (most recent call last)",
      "Cell \u001b[1;32mIn[44], line 1\u001b[0m\n\u001b[1;32m----> 1\u001b[0m employee \u001b[38;5;241m=\u001b[39m \u001b[43mEmployee\u001b[49m\u001b[43m(\u001b[49m\u001b[38;5;241;43m125\u001b[39;49m\u001b[43m,\u001b[49m\u001b[43m \u001b[49m\u001b[38;5;241;43m658974321\u001b[39;49m\u001b[43m)\u001b[49m\n",
      "Cell \u001b[1;32mIn[43], line 3\u001b[0m, in \u001b[0;36mEmployee.__init__\u001b[1;34m(self, emp_no, phno)\u001b[0m\n\u001b[0;32m      2\u001b[0m \u001b[38;5;28;01mdef\u001b[39;00m \u001b[38;5;21m__init__\u001b[39m(\u001b[38;5;28mself\u001b[39m, emp_no, phno):\n\u001b[1;32m----> 3\u001b[0m     \u001b[38;5;28msuper\u001b[39m()\u001b[38;5;241m.\u001b[39m\u001b[38;5;21m__init__\u001b[39m(\u001b[43mfname\u001b[49m, lname)\n\u001b[0;32m      4\u001b[0m     \u001b[38;5;28mself\u001b[39m\u001b[38;5;241m.\u001b[39memployee_no \u001b[38;5;241m=\u001b[39m emp_no\n\u001b[0;32m      5\u001b[0m     \u001b[38;5;28mself\u001b[39m\u001b[38;5;241m.\u001b[39mphone_number \u001b[38;5;241m=\u001b[39m phno\n",
      "\u001b[1;31mNameError\u001b[0m: name 'fname' is not defined"
     ]
    }
   ],
   "source": [
    "employee = Employee(125, 658974321)"
   ]
  },
  {
   "cell_type": "code",
   "execution_count": 39,
   "id": "70545113-a552-4a75-b054-0c00cf00331e",
   "metadata": {},
   "outputs": [],
   "source": [
    "def funct(a, b):\n",
    "    print(a, b)"
   ]
  },
  {
   "cell_type": "code",
   "execution_count": 40,
   "id": "979509e8-8881-464b-918b-f418730342af",
   "metadata": {},
   "outputs": [
    {
     "name": "stdout",
     "output_type": "stream",
     "text": [
      "1 2\n"
     ]
    }
   ],
   "source": [
    "funct(1, 2)"
   ]
  },
  {
   "cell_type": "code",
   "execution_count": 41,
   "id": "6e9b4aec-4bd0-4e7c-aeb5-1a6e2021375f",
   "metadata": {},
   "outputs": [],
   "source": [
    "def funct(a, b):\n",
    "    print(a, b, c)"
   ]
  },
  {
   "cell_type": "code",
   "execution_count": 42,
   "id": "8ab6c316-3d09-48c5-9a14-97391307f8be",
   "metadata": {},
   "outputs": [
    {
     "ename": "NameError",
     "evalue": "name 'c' is not defined",
     "output_type": "error",
     "traceback": [
      "\u001b[1;31m---------------------------------------------------------------------------\u001b[0m",
      "\u001b[1;31mNameError\u001b[0m                                 Traceback (most recent call last)",
      "Cell \u001b[1;32mIn[42], line 1\u001b[0m\n\u001b[1;32m----> 1\u001b[0m \u001b[43mfunct\u001b[49m\u001b[43m(\u001b[49m\u001b[38;5;241;43m1\u001b[39;49m\u001b[43m,\u001b[49m\u001b[43m \u001b[49m\u001b[38;5;241;43m2\u001b[39;49m\u001b[43m)\u001b[49m\n",
      "Cell \u001b[1;32mIn[41], line 2\u001b[0m, in \u001b[0;36mfunct\u001b[1;34m(a, b)\u001b[0m\n\u001b[0;32m      1\u001b[0m \u001b[38;5;28;01mdef\u001b[39;00m \u001b[38;5;21mfunct\u001b[39m(a, b):\n\u001b[1;32m----> 2\u001b[0m     \u001b[38;5;28mprint\u001b[39m(a, b, \u001b[43mc\u001b[49m)\n",
      "\u001b[1;31mNameError\u001b[0m: name 'c' is not defined"
     ]
    }
   ],
   "source": [
    "funct(1, 2)"
   ]
  },
  {
   "cell_type": "code",
   "execution_count": null,
   "id": "3eeaaf4a-f5a1-4f91-838d-31152c548528",
   "metadata": {},
   "outputs": [],
   "source": [
    "class A:\n",
    "    def __init__(self):\n",
    "        self.a = \"a\"\n",
    "        self.b = \"b\"\n",
    "\n",
    "    def func(self, c):\n",
    "        self.c = c"
   ]
  },
  {
   "cell_type": "code",
   "execution_count": 45,
   "id": "2e4c50b7-85f5-48e8-b039-edb68b6f4cfc",
   "metadata": {},
   "outputs": [],
   "source": [
    "class Employee(Person):\n",
    "    def __init__(self, f_name, l_name, emp_no, phno):\n",
    "        super().__init__(f_name, l_name)\n",
    "        self.employee_no = emp_no\n",
    "        self.phone_number = phno"
   ]
  },
  {
   "cell_type": "code",
   "execution_count": 46,
   "id": "771571d1-5a2c-4f68-af74-9bfb5f3e6191",
   "metadata": {},
   "outputs": [],
   "source": [
    "e = Employee(\"bhaskar\", \"reddy\", 125874, 125647993)"
   ]
  },
  {
   "cell_type": "code",
   "execution_count": 47,
   "id": "cc336937-80e2-4b5e-8d01-8a37ffafffa5",
   "metadata": {},
   "outputs": [
    {
     "data": {
      "text/plain": [
       "'bhaskar'"
      ]
     },
     "execution_count": 47,
     "metadata": {},
     "output_type": "execute_result"
    }
   ],
   "source": [
    "e.first_name"
   ]
  },
  {
   "cell_type": "code",
   "execution_count": 55,
   "id": "51fd6302-d89d-41e5-b0d4-d2887c9f8d85",
   "metadata": {},
   "outputs": [],
   "source": [
    "class Employee(Person):\n",
    "    \"\"\"\n",
    "    this is employee class\n",
    "    \"\"\"\n",
    "    def __init__(self, emp_no: int, phno: str):\n",
    "        super().__init__(input(\"Enter f name\"), input(\"Enter l name\"))\n",
    "        self.employee_no = emp_no\n",
    "        self.phone_number = phno"
   ]
  },
  {
   "cell_type": "code",
   "execution_count": 49,
   "id": "83ca7fab-9b11-4d29-8571-f5546377c58e",
   "metadata": {},
   "outputs": [
    {
     "name": "stdin",
     "output_type": "stream",
     "text": [
      "Enter f name Bhaskar\n",
      "Enter l name Reddy\n"
     ]
    }
   ],
   "source": [
    "e = Employee(125874, 125647993)"
   ]
  },
  {
   "cell_type": "code",
   "execution_count": 50,
   "id": "d635dd4c-03ce-4cdf-9cff-ea59692904ac",
   "metadata": {},
   "outputs": [
    {
     "data": {
      "text/plain": [
       "'Bhaskar'"
      ]
     },
     "execution_count": 50,
     "metadata": {},
     "output_type": "execute_result"
    }
   ],
   "source": [
    "e.first_name"
   ]
  },
  {
   "cell_type": "code",
   "execution_count": 52,
   "id": "4e541df2-c2b8-4423-a899-6088672d7d51",
   "metadata": {
    "collapsed": true,
    "jupyter": {
     "outputs_hidden": true
    },
    "scrolled": true
   },
   "outputs": [
    {
     "name": "stdout",
     "output_type": "stream",
     "text": [
      "Help on class Employee in module __main__:\n",
      "\n",
      "class Employee(Person)\n",
      " |  Employee(emp_no, phno)\n",
      " |\n",
      " |  this is employee class\n",
      " |\n",
      " |  Method resolution order:\n",
      " |      Employee\n",
      " |      Person\n",
      " |      builtins.object\n",
      " |\n",
      " |  Methods defined here:\n",
      " |\n",
      " |  __init__(self, emp_no, phno)\n",
      " |      Initialize self.  See help(type(self)) for accurate signature.\n",
      " |\n",
      " |  ----------------------------------------------------------------------\n",
      " |  Data and other attributes defined here:\n",
      " |\n",
      " |  __annotations__ = {}\n",
      " |\n",
      " |  ----------------------------------------------------------------------\n",
      " |  Methods inherited from Person:\n",
      " |\n",
      " |  printname(self)\n",
      " |\n",
      " |  ----------------------------------------------------------------------\n",
      " |  Data descriptors inherited from Person:\n",
      " |\n",
      " |  __dict__\n",
      " |      dictionary for instance variables\n",
      " |\n",
      " |  __weakref__\n",
      " |      list of weak references to the object\n",
      "\n"
     ]
    }
   ],
   "source": [
    "help(Employee)"
   ]
  },
  {
   "cell_type": "code",
   "execution_count": 53,
   "id": "6d670c84-f755-40fe-84ae-b1df7fbb8cd4",
   "metadata": {
    "collapsed": true,
    "jupyter": {
     "outputs_hidden": true
    }
   },
   "outputs": [
    {
     "name": "stdout",
     "output_type": "stream",
     "text": [
      "Help on class Person in module __main__:\n",
      "\n",
      "class Person(builtins.object)\n",
      " |  Person(fname, lname)\n",
      " |\n",
      " |  Methods defined here:\n",
      " |\n",
      " |  __init__(self, fname, lname)\n",
      " |      Initialize self.  See help(type(self)) for accurate signature.\n",
      " |\n",
      " |  printname(self)\n",
      " |\n",
      " |  ----------------------------------------------------------------------\n",
      " |  Data descriptors defined here:\n",
      " |\n",
      " |  __dict__\n",
      " |      dictionary for instance variables\n",
      " |\n",
      " |  __weakref__\n",
      " |      list of weak references to the object\n",
      " |\n",
      " |  ----------------------------------------------------------------------\n",
      " |  Data and other attributes defined here:\n",
      " |\n",
      " |  __annotations__ = {}\n",
      "\n"
     ]
    }
   ],
   "source": [
    "help(Person)"
   ]
  },
  {
   "cell_type": "code",
   "execution_count": 54,
   "id": "64ccc5f7-0519-4830-927f-d40c5d881faa",
   "metadata": {
    "collapsed": true,
    "jupyter": {
     "outputs_hidden": true
    }
   },
   "outputs": [
    {
     "data": {
      "text/plain": [
       "mappingproxy({'__module__': '__main__',\n",
       "              '__firstlineno__': 1,\n",
       "              '__init__': <function __main__.Person.__init__(self, fname, lname)>,\n",
       "              'printname': <function __main__.Person.printname(self)>,\n",
       "              '__static_attributes__': ('first_name', 'second_name'),\n",
       "              '__dict__': <attribute '__dict__' of 'Person' objects>,\n",
       "              '__weakref__': <attribute '__weakref__' of 'Person' objects>,\n",
       "              '__doc__': None,\n",
       "              '__annotations__': {}})"
      ]
     },
     "execution_count": 54,
     "metadata": {},
     "output_type": "execute_result"
    }
   ],
   "source": [
    "Person.__dict__"
   ]
  },
  {
   "cell_type": "code",
   "execution_count": 56,
   "id": "31b647cb-0836-476b-adee-d22bdbb710d0",
   "metadata": {
    "collapsed": true,
    "jupyter": {
     "outputs_hidden": true
    }
   },
   "outputs": [
    {
     "data": {
      "text/plain": [
       "mappingproxy({'__module__': '__main__',\n",
       "              '__firstlineno__': 1,\n",
       "              '__doc__': '\\nthis is employee class\\n',\n",
       "              '__init__': <function __main__.Employee.__init__(self, emp_no: int, phno: str)>,\n",
       "              '__static_attributes__': ('employee_no', 'phone_number')})"
      ]
     },
     "execution_count": 56,
     "metadata": {},
     "output_type": "execute_result"
    }
   ],
   "source": [
    "Employee.__dict__"
   ]
  },
  {
   "cell_type": "code",
   "execution_count": 58,
   "id": "11cf1cba-8631-4e8d-aa73-3ba6aac54204",
   "metadata": {},
   "outputs": [],
   "source": [
    "# multilevel inheritence"
   ]
  },
  {
   "cell_type": "code",
   "execution_count": 60,
   "id": "d37d5460-61db-4ec1-b621-bd043f51a2ff",
   "metadata": {},
   "outputs": [],
   "source": [
    "class A:\n",
    "    def __init__(self):\n",
    "        print(\"I am class A\")"
   ]
  },
  {
   "cell_type": "code",
   "execution_count": 61,
   "id": "9db803b5-82a2-4e61-8181-428c444665ca",
   "metadata": {},
   "outputs": [],
   "source": [
    "class B(A):\n",
    "    def __init__(self):\n",
    "        print(\"I am class B\")"
   ]
  },
  {
   "cell_type": "code",
   "execution_count": 62,
   "id": "16ba1c5c-c6e4-4a42-8dc2-14aa2c28d438",
   "metadata": {},
   "outputs": [],
   "source": [
    "class C(B):\n",
    "    def __init__(self):\n",
    "        print(\"I am class C\")"
   ]
  },
  {
   "cell_type": "code",
   "execution_count": 63,
   "id": "3efd6282-a43e-4409-a716-50cfd169d76b",
   "metadata": {},
   "outputs": [
    {
     "name": "stdout",
     "output_type": "stream",
     "text": [
      "I am class C\n"
     ]
    }
   ],
   "source": [
    "c = C()"
   ]
  },
  {
   "cell_type": "code",
   "execution_count": 64,
   "id": "2e1cec72-e2d5-4639-b93f-738c4206d03b",
   "metadata": {},
   "outputs": [],
   "source": [
    "class C(B):\n",
    "    def __init__(self):\n",
    "        super().__init__()\n",
    "        print(\"I am class C\")"
   ]
  },
  {
   "cell_type": "code",
   "execution_count": 65,
   "id": "7152151c-a85d-43b4-8c5b-f292212b192d",
   "metadata": {},
   "outputs": [
    {
     "name": "stdout",
     "output_type": "stream",
     "text": [
      "I am class B\n",
      "I am class C\n"
     ]
    }
   ],
   "source": [
    "c = C()"
   ]
  },
  {
   "cell_type": "code",
   "execution_count": 66,
   "id": "d0be3346-d6e2-459b-91e0-d7f573cd025e",
   "metadata": {},
   "outputs": [],
   "source": [
    "class A:\n",
    "    def __init__(self):\n",
    "        print(\"I am class A\")\n",
    "\n",
    "class B(A):\n",
    "    def __init__(self):\n",
    "        super().__init__()\n",
    "        print(\"I am class B\")\n",
    "\n",
    "class C(B):\n",
    "    def __init__(self):\n",
    "        super().__init__()\n",
    "        print(\"I am class C\")"
   ]
  },
  {
   "cell_type": "code",
   "execution_count": 67,
   "id": "13d0f277-5a14-42ad-a1ce-c0c8971ec645",
   "metadata": {},
   "outputs": [
    {
     "name": "stdout",
     "output_type": "stream",
     "text": [
      "I am class A\n",
      "I am class B\n",
      "I am class C\n"
     ]
    }
   ],
   "source": [
    "c = C()"
   ]
  },
  {
   "cell_type": "code",
   "execution_count": null,
   "id": "03377b9a-726f-4b33-8bc1-1169ba28bb5b",
   "metadata": {},
   "outputs": [],
   "source": [
    "# method resolution order"
   ]
  },
  {
   "cell_type": "code",
   "execution_count": 68,
   "id": "7abd0b10-66c9-44b9-95f0-d9cd9c1defde",
   "metadata": {},
   "outputs": [
    {
     "name": "stdout",
     "output_type": "stream",
     "text": [
      "I am class A\n",
      "I am class B\n"
     ]
    },
    {
     "ename": "TypeError",
     "evalue": "C.__init__() takes 1 positional argument but 2 were given",
     "output_type": "error",
     "traceback": [
      "\u001b[1;31m---------------------------------------------------------------------------\u001b[0m",
      "\u001b[1;31mTypeError\u001b[0m                                 Traceback (most recent call last)",
      "Cell \u001b[1;32mIn[68], line 1\u001b[0m\n\u001b[1;32m----> 1\u001b[0m \u001b[43mC\u001b[49m\u001b[43m(\u001b[49m\u001b[43mB\u001b[49m\u001b[43m(\u001b[49m\u001b[43m)\u001b[49m\u001b[43m)\u001b[49m\n",
      "\u001b[1;31mTypeError\u001b[0m: C.__init__() takes 1 positional argument but 2 were given"
     ]
    }
   ],
   "source": [
    "C(B())"
   ]
  },
  {
   "cell_type": "code",
   "execution_count": 69,
   "id": "1d420404-768d-44b7-9f5a-f58204e70b35",
   "metadata": {
    "collapsed": true,
    "jupyter": {
     "outputs_hidden": true
    },
    "scrolled": true
   },
   "outputs": [
    {
     "name": "stdout",
     "output_type": "stream",
     "text": [
      "Help on class C in module __main__:\n",
      "\n",
      "class C(B)\n",
      " |  Method resolution order:\n",
      " |      C\n",
      " |      B\n",
      " |      A\n",
      " |      builtins.object\n",
      " |\n",
      " |  Methods defined here:\n",
      " |\n",
      " |  __init__(self)\n",
      " |      Initialize self.  See help(type(self)) for accurate signature.\n",
      " |\n",
      " |  ----------------------------------------------------------------------\n",
      " |  Data descriptors inherited from A:\n",
      " |\n",
      " |  __dict__\n",
      " |      dictionary for instance variables\n",
      " |\n",
      " |  __weakref__\n",
      " |      list of weak references to the object\n",
      "\n"
     ]
    }
   ],
   "source": [
    "help(C)"
   ]
  },
  {
   "cell_type": "code",
   "execution_count": null,
   "id": "1ed712f3-a9f4-41ba-9b69-2235476a5b13",
   "metadata": {},
   "outputs": [],
   "source": []
  }
 ],
 "metadata": {
  "kernelspec": {
   "display_name": "Python 3 (ipykernel)",
   "language": "python",
   "name": "python3"
  },
  "language_info": {
   "codemirror_mode": {
    "name": "ipython",
    "version": 3
   },
   "file_extension": ".py",
   "mimetype": "text/x-python",
   "name": "python",
   "nbconvert_exporter": "python",
   "pygments_lexer": "ipython3",
   "version": "3.13.3"
  }
 },
 "nbformat": 4,
 "nbformat_minor": 5
}
